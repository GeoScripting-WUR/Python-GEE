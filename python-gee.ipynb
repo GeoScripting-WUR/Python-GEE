{
 "cells": [
  {
   "cell_type": "markdown",
   "id": "61a7ed5d",
   "metadata": {},
   "source": [
    "# Python and Google Earth Engine"
   ]
  },
  {
   "cell_type": "markdown",
   "id": "1dac6b75",
   "metadata": {},
   "source": [
    "\n",
    "# To do! \n",
    "- [ ] Add learning goals!! \n",
    "- [ ] add something that sais run this in jpuyter! \n",
    "- [ ] add final analysis part\n",
    "- [ ] create exercise\n",
    "\n",
    "\n",
    "\n",
    "\n",
    "Many of you will know or have scrolled around in [google earth](https://earth.google.com/web/). Within Google Earth it is possible to expplore the earth behind your computer. Through the application a lot of different maps and information can be found, some straight forward such as the normal google maps base map, but also layers such as the age of the sea floor. Additionally, (or primarily if you ask geospatial people) it is a powerful cloud based computational platform where geospatial analysis can be carried out. All this information and all tools are gathered, and made available to everybody (with a google account...) in the \"engine\" behind Google Earth: Google Earth Engine (GEE). GEE was originally developed and made available as a _JavaScript API_. What does that exacly mean? Let's break it up into Javascript and API. \n",
    "\n",
    "### API\n",
    "An API is a \"Application Programming Interface\", which is a standard language (or a set of rules) with wich pieces of software can commincate with eachother. API's are used for for example [accessing data](https://openweathermap.org/api/one-call-3#how) or to interact with the [command line tool: GDAL](https://geoscripting-wur.github.io/PythonRaster/) like we did yesterday. \n",
    "\n",
    "\n",
    "### JavaScript  \n",
    "JavaScript (JS) is a widely used programming language, primarily for interacting with website. Javascript is an object oriented programming language, which means that it focuses on creating reusable code through objects. Objects can encapsulate both data (properties) and functionality (methods) in one single object. Object Oriented Programming (OOP) is a programing paradigm which is slightly different than how we have programmed so far. Python is also, or can also be used as, an OOP language. Working with the GEE Python API is a great oportunity to get familiair with object oriented programming while at the same time work with the extremely powerful engine from google. "
   ]
  },
  {
   "cell_type": "markdown",
   "id": "ec9a1405",
   "metadata": {},
   "source": [
    "# Object Oriented Programming in Python\n",
    "In this tutorial we will learn about how to interact with GEE. Before we do this we need to be able to think in a Object Oriented Programming way. Therefor we will need to understand how OOP is implemented in Python. \n",
    "\n",
    "In Python, objects are represented using classes. A class is a blueprint that defines the structure and behavior of objects. It encapsulates data (properties) and functions (methods) into a single object.\n",
    "\n",
    "To create a class, we use the `class` keyword, followed by the class name. Here's an example of a simple class called `Person`:"
   ]
  },
  {
   "cell_type": "code",
   "execution_count": null,
   "id": "7e08f760",
   "metadata": {},
   "outputs": [],
   "source": [
    "class Person:\n",
    "    def __init__(self, name, age):\n",
    "        self.name = name  # < this is a property\n",
    "        self.age = age    # < this is also a property\n",
    "    \n",
    "    def greet(self):  # < This \"function\" is a method\n",
    "        print(f\"Hello, my name is {self.name} and I'm {self.age} years old.\")"
   ]
  },
  {
   "cell_type": "markdown",
   "id": "c6cae57b",
   "metadata": {},
   "source": [
    "In the above code, the __init__ method is a special method called a *constructor*.  It is invoked automatically when an object is created from the class. The `self` parameter refers to the instance of the class and allows access to its properties and methods. In this example it means that every time self is passed to the class or a method in the class, this has access to all its own properties and methods. Generally, always when a method is created we give the self key word as one of the parameters. \n",
    "\n",
    "The Person class has two properties (name and age) and one method (greet). The greet method prints a greeting message with the person's name and age.\n",
    "\n",
    "To create an instance of the Person class, you simply call the class as if it were a function and assign it to a variable:"
   ]
  },
  {
   "cell_type": "code",
   "execution_count": null,
   "id": "e4b5e90e",
   "metadata": {},
   "outputs": [],
   "source": [
    "person1 = Person(\"Alice\", 25)\n",
    "person2 = Person(\"Bob\", 30)"
   ]
  },
  {
   "cell_type": "markdown",
   "id": "f8a320a6",
   "metadata": {},
   "source": [
    "We created 2 _objects_, which are _instances_ of the _class_ _Person_, called `person1` and `person2`. We can now access the properties and call the methods of these objects:\n",
    "\n",
    "```python\n",
    "print(person1.name)  # Output: Alice\n",
    "print(person2.age)   # Output: 30\n",
    "person1.greet()      # Output: Hello, my name is Alice and I'm 25 years old.\n",
    "person2.greet()      # Output: Hello, my name is Bob and I'm 30 years old.\n",
    "```\n",
    "\n",
    "This is a simple example, but you can imagine that these can get very complex. For example take a look at how a GeoPandas GeoSeries is created [here](https://github.com/geopandas/geopandas/blob/main/geopandas/geoseries.py). It is very complicated and hard to read, but very well documented so try to understand some of its functionality! The method [`to_json`](https://github.com/geopandas/geopandas/blob/main/geopandas/geoseries.py#L1209) contains very straight forward functionality (but it might still be hard to read).\n",
    "\n",
    "One of the things that might occur to you is that the classes are defined slightly different than we have learned. In the geopandas example we see that a class is created using the following code: \n",
    "\n",
    "```python \n",
    "class GeoSeries(GeoPandasBase, Series):\n",
    "    \n",
    "```\n",
    "\n",
    "While we learned we just had to call the following coode:\n",
    "\n",
    "```python \n",
    "class GeoSeries:\n",
    "```\n",
    "\n",
    "The difference is that the code in the brackets is how \"inheritance\" is implemented. The class will _inherit_ all the functionality of the classes passed as arguments, in this case `GeoPandasBase` and `Series`. The `Series` object refers to the [Pandas.Series](https://github.com/pandas-dev/pandas/blob/main/pandas/core/series.py#L243C15-L243C15) object containing 6000 lines of code containing all sorts of functionality. In this way, the GeoPandas series contains all the functionality that is implemented in pandas *plus* all the functionality from GeoPandasBase *plus* all the functionality implemented in GeoPandas.Series itself.\n",
    "\n",
    "Pfew, that's a lot of very complicated code and maybe a bit very overwelming and you do not need to understand all of it. The important thing to understand is the value of classes, objects and inheritance. How does this work in a simple example? \n",
    "\n",
    "So we established that with inheritance we can allow classes to take all the functionality from other classes and build on that. So let's create a new object called `Student`, which will inherit all properties and methods from `Person` which we created earlier. \n"
   ]
  },
  {
   "cell_type": "code",
   "execution_count": null,
   "id": "d8916711",
   "metadata": {},
   "outputs": [],
   "source": [
    "class Student(Person):\n",
    "    def __init__(self, name, age, student_id):\n",
    "        super().__init__(name, age)\n",
    "        self.student_id = student_id\n",
    "    \n",
    "    def study(self):\n",
    "        print(f\"{self.name} is studying.\")\n",
    "\n"
   ]
  },
  {
   "cell_type": "markdown",
   "id": "693378b2",
   "metadata": {},
   "source": [
    "In the above code, the `Student` class inherits from the `Person` class (this class we will from now refer to as the superclass). It extends the functionality by adding a new property (student_id) and a new method (study). The `super()` function is used to call the superclass's __init__ method, allowing the subclass to initialize the inherited properties. \n",
    "\n",
    "The student class now contains methods and properties from Person as well as from Student: \n",
    "\n",
    "```python\n",
    "student = Student(\"Eve\", 22, \"123456\")\n",
    "print(student.name)         # Output: Eve\n",
    "print(student.student_id)   # Output: 123456\n",
    "student.greet()             # Output: Hello, my name is Eve and I'm 22 years old.\n",
    "student.study()             # Output: Eve is studying.\n",
    "```"
   ]
  },
  {
   "cell_type": "markdown",
   "id": "3f39d27f",
   "metadata": {},
   "source": [
    "# Google Earth Engine"
   ]
  },
  {
   "cell_type": "markdown",
   "id": "c0003c64",
   "metadata": {},
   "source": [
    "As already introduced, Google Earth Engine is a large collection of geospatial data with poerwful compitational capabilities. It allows users to analyze and visualize geospatial data on a global scale, making it a valuable tool for research about for example environmental monitoring and resources managent. \n",
    "\n",
    "One of the key features of GEE is its collection of raster datasources. Have a look at the [catalogue](https://developers.google.com/earth-engine/datasets/catalog) to see what is out there. The collection also contains raster time series and non-raster data although. For some use cases, check out [this article by Pérez-Cutillas and colleagues](https://www.sciencedirect.com/science/article/pii/S2352938522002154) from this year. They did a systematic review of research done using GEE. From their article:  \n",
    "\n",
    "> The results of the meta-analysis following the systematic review showed that: (i) the Landsat 8 was the most widely-used satellite (25%); (i) the non-parametric classification methods, mainly Random Forest, were the most recurrent algorithms (31%); and (iii) the water resources assessment and prediction were the most common methodological applications (22%).\n",
    "> \n",
    "> -- Pérez-Cutillas et al., 2023"
   ]
  },
  {
   "cell_type": "markdown",
   "id": "31a6a6af",
   "metadata": {},
   "source": [
    "## Night time light emision \n",
    "In this tutorial we will do a relatively straight forward analysis to show you some often used tools, but more importantly we want to show you how to work with GEE in python, how to find tools and documentation and how to read the (JS) documentation.\n",
    "\n",
    "The analysis we will carry out is a comparison of how much light is emited in the Netherlands during the night through time. We will run you step by step through the procedure. The data we will use is a worldwide dataset from 2012 to now so feel free to carry out the analysis on a different area. \n",
    "\n",
    "The environment we will use will need the following dependencies. Save the following yaml in a new file called env.yaml and create and activate an environment: \n",
    "\n",
    "```yaml\n",
    "name: pythonGee\n",
    "channels:\n",
    "  - conda-forge\n",
    "dependencies:\n",
    "  - python=3.10\n",
    "  - jupyter\n",
    "  - earthengine-api\n",
    "  - geemap\n",
    "  - pygadm\n",
    "  - geopandas\n",
    "  - geojson\n",
    "```\n",
    "\n",
    "To test try and import the following packages: \n"
   ]
  },
  {
   "cell_type": "code",
   "execution_count": 1,
   "id": "d11200fc",
   "metadata": {},
   "outputs": [],
   "source": [
    "import ee\n",
    "import geemap \n",
    "import pygadm\n",
    "import geopandas as gpd\n",
    "import geojson"
   ]
  },
  {
   "cell_type": "markdown",
   "id": "c5e84256",
   "metadata": {},
   "source": [
    "Google Earth engine is a google application, so not surprisingly you will need a google acount to be authorized using this account for working with their tools. The authentication will be done by a procedure started by calling the `Authenticate` function from `ee`. Follow these steps: \n",
    "1. Follow the url that will print after running the Authenticate function\n",
    "1. require you to create a token by loging into your google account. \n",
    "1. Click Continue when you get the warning that google has not verified this app. This means that Google did not verify the code we are about to run, and it prevents you from your account being used by others. \n",
    "1. Next select all the tick boxes, this will allow you to use GEE data and it allows you to manage your data and permissions in the cloud storage, where the actual analysis will be run.\n",
    "1. lastly you wil need to copy and pased the authorization code (and press enter) in the textbox which will apear after running the Authenticate method. "
   ]
  },
  {
   "cell_type": "code",
   "execution_count": null,
   "id": "1629c477",
   "metadata": {
    "scrolled": true
   },
   "outputs": [],
   "source": [
    "ee.Authenticate()"
   ]
  },
  {
   "cell_type": "markdown",
   "id": "1121b4ce",
   "metadata": {},
   "source": [
    "You now have (hopefully) succesfully authenticated. Next we have to initialize using the `Initialize()` method: "
   ]
  },
  {
   "cell_type": "code",
   "execution_count": 2,
   "id": "e877a522",
   "metadata": {},
   "outputs": [],
   "source": [
    "ee.Initialize()"
   ]
  },
  {
   "cell_type": "markdown",
   "id": "9b0d88e1",
   "metadata": {},
   "source": [
    "If you get no further warnings or errors you have succesfullt authenticated and are ready to work with the earth engine library in python! Congrats! Next time you are working in the same environment, you will not have to authenticate again. You can just run the `Initialize` function and off you go! "
   ]
  },
  {
   "cell_type": "markdown",
   "id": "a83b528b",
   "metadata": {},
   "source": [
    "## Night time data\n",
    "\n",
    "So we want to analyze how the light emitance has developed over the last 10 years. For this we will compare per province how much light was emited per month. \n",
    "\n",
    "For the analysis we will need data about emitted light. We will use the VIIRS Nighttime data. Read more about the data [here](https://developers.google.com/earth-engine/datasets/catalog/NOAA_VIIRS_DNB_MONTHLY_V1_VCMCFG). It is monthly average radiance composite images using nighttime data from the Visible Infrared Imaging Radiometer Suite (VIIRS) Day/Night Band (DNB). You can have a look at the data in [this esri viewer](https://www.arcgis.com/apps/mapviewer/index.html?layers=edabcbb5407547f5bc883018eb6e7986). To use this data we can create a `ImageCollection` object. Have a look at the [documentation](https://developers.google.com/earth-engine/apidocs/ee-imagecollection). We can see that for the implementation example we have 2 options. 1 is the JavaScript option and one is the Python Google Colab option. This is because Google is implementing all the JavaScript functionality also in python. Well actually, as far as we know all functionality seems to be implemented, however not all the documentation or example has been created for python. Luckily, if you switch between the JS and the Python documentation, we will see not much differences. Because we do not know at what point what python documentation will be available and because it is a good exercise to be able to read JavaScript documentation we will refer to the JavaScript documentation and point out important differences, but feel free to use the Python documentation when available. \n",
    "\n",
    "An image collection can be created using the following command:"
   ]
  },
  {
   "cell_type": "code",
   "execution_count": 3,
   "id": "3099281e",
   "metadata": {},
   "outputs": [],
   "source": [
    "# Import the night time light emision data.\n",
    "viirs_image_collection = ee.ImageCollection(\"NOAA/VIIRS/DNB/MONTHLY_V1/VCMCFG\")"
   ]
  },
  {
   "cell_type": "markdown",
   "id": "33c4cc3c",
   "metadata": {},
   "source": [
    "You can see that this is the exact same code as in the JS documentation. However, they limit the collection to 3 images only, whereas we imported all images. After all we want to study the development over the entire timespan. An important difference between the JS API and the Python API is that to get information about an object we have to call the `getInfo()` method. So instead of in JS printing information as follows: \n",
    "```JavaScript\n",
    "print('Image collection from a string', ee.ImageCollection(\"NOAA/VIIRS/DNB/MONTHLY_V1/VCMCFG\"));\n",
    "```\n",
    "\n",
    "We can use the following command:"
   ]
  },
  {
   "cell_type": "code",
   "execution_count": null,
   "id": "32653dbb",
   "metadata": {},
   "outputs": [],
   "source": [
    "print(type(ee.ImageCollection(\"NOAA/VIIRS/DNB/MONTHLY_V1/VCMCFG\").getInfo()))"
   ]
  },
  {
   "cell_type": "markdown",
   "id": "744ce64a",
   "metadata": {},
   "source": [
    "We need to call the `getInfo` method to convert the object information to a dictionary where we could extract useful information from. We can also show the ImageCollection object in jupyter by calling the object itself. "
   ]
  },
  {
   "cell_type": "code",
   "execution_count": null,
   "id": "763b5a2d",
   "metadata": {},
   "outputs": [],
   "source": [
    "ee.ImageCollection(\"NOAA/VIIRS/DNB/MONTHLY_V1/VCMCFG\")"
   ]
  },
  {
   "cell_type": "markdown",
   "id": "7b1b461a",
   "metadata": {},
   "source": [
    "We can see that the object has some properties. it has a `type`, `id`, `version`, an empty list as `bands`, 23 `properties` and 132 `features`. Note that these are very similair to what you would expect a [geojson](https://geojson.org/) containing a FeatureCollection to look like. \n",
    "\n",
    "The type, id and version are information from google about the data and the object type. At this point the object has an empty list as bands, which means at this points no bands. It has 23 properties. Note that these properties are properties from the collection, not from the individual images, so they contain information such as that it is a montly collection. Lastly the collection contains features: a list of 132 elements. Each element is an Image with again a `type`, `id`, `version`, `bands` and `properties`, but in this case no features. It is not a collection in the end. \n",
    "\n",
    "These features are the individual images, 1 per timestamp, so 11 years of 1 image per month. Let's look at one of these images. \n",
    "\n",
    "## GEE as a viewer! \n",
    "\n",
    "So as said before, Google Earth Engine is the engine behind Google Earth. It not only is a data collection, it also contains tools and a viewer. To interface with this viewer we will use another package called `geemap`. [Geemap](https://geemap.org/) is not only a viewer, it also contains very handy tools, for example to convert data to and from GEE native objects. More on that later.\n",
    "\n",
    "To create amap we have to follow a view steps, which we will gracefully take from the [geemap getting started page](https://geemap.org/get-started/#add-earth-engine-data) and modify it a little for our use case.  \n",
    "\n",
    "We will take the following steps: \n",
    "1. Initialize a map, with a starting position and a zoom leve. This map will stay where it is, and we will add layers to it as we go.\n",
    "1. We will select 1 image from our image collection\n",
    "1. We will add this image to the map \n",
    "1. We will also add a boundary of the netherlands to the same map. "
   ]
  },
  {
   "cell_type": "code",
   "execution_count": 4,
   "id": "2ab0a48d",
   "metadata": {},
   "outputs": [
    {
     "data": {
      "application/vnd.jupyter.widget-view+json": {
       "model_id": "3b3c83e2b34941f8982a20c97d175e4e",
       "version_major": 2,
       "version_minor": 0
      },
      "text/plain": [
       "Map(center=[51.962589, 5.669627], controls=(WidgetControl(options=['position', 'transparent_bg'], widget=HBox(…"
      ]
     },
     "execution_count": 4,
     "metadata": {},
     "output_type": "execute_result"
    }
   ],
   "source": [
    "# set our initial map parameters for Wageningen\n",
    "center_lon = 51.962589\n",
    "center_lat = 5.669627\n",
    "zoomlevel = 8\n",
    "\n",
    "\n",
    "# The following line will initialize the map\n",
    "Map = geemap.Map(center=[center_lon, center_lat], zoom=zoomlevel, layer_ctrl=True)\n",
    "\n",
    "# The following line will actually call and show the map:\n",
    "Map\n"
   ]
  },
  {
   "cell_type": "markdown",
   "id": "987b2d5c",
   "metadata": {},
   "source": [
    "The map will stay and live in this window where it is. It is an interactive map with at this moment 1 standard basemap. To start over again you can call `Map.clear()`, that will remove all layers and other objects from the map and you will have to initialize it again. Step 1 done! Next step is to select one image from the image collection and to add it to the map. "
   ]
  },
  {
   "cell_type": "code",
   "execution_count": 5,
   "id": "c5b6c465",
   "metadata": {},
   "outputs": [],
   "source": [
    "# Initial date of interest (inclusive).\n",
    "from_date = '2017-01-01'\n",
    "# Final date of interest (exclusive).\n",
    "to_date = '2020-01-01'\n",
    "\n",
    "image = viirs_image_collection.filterDate(from_date, to_date).sort(\"system:time_start\", True).first()\n",
    "\n",
    "visualization_params = {\n",
    "    'min': 0,\n",
    "    'max': 10,\n",
    "    'opacity': 0.5,\n",
    "    'bands': ['avg_rad']\n",
    "}\n",
    "\n",
    "Map.addLayer(ee_object = image, \n",
    "             vis_params = visualization_params,\n",
    "             name = 'My First Image')\n"
   ]
  },
  {
   "cell_type": "markdown",
   "id": "b992f156",
   "metadata": {},
   "source": [
    "In the map you can see that an image is added. But what did the code do? Try to understand it for yourself and look at the documentation if needed, but we will also explain here. \n",
    "\n",
    "In the first line a couple of things happened: \n",
    "\n",
    "```python \n",
    "image = viirs_image_collection.sort(\"system:time_start\", True).first()\n",
    "```\n",
    "\n",
    "1. Firstly we sort the collection using a method of the imageCollection, see the [documentation here](https://developers.google.com/earth-engine/apidocs/ee-imagecollection-sort). It sorts the collection on a property, in this case that is `system:time_start`. Each image in the colllection has this property, it specifies the start date of the image (the values are an average over a period of time, from this timestamp to the `system:time_end` property). Lastly the boolean True refers to the argument `ascending`. In this case we want to sort the collection on `system:time_start` and we want to sort it ascending. It returns an image collection again.\n",
    "1. Secondly, we select only the images between 2 dates that we defined, from 2017 to 2020. \n",
    "1. Lastly we call the method `First`. This is straight forward, the collection is now sorted as described above, and we want to return the first element of this collection. \n",
    "\n",
    "Next we define some visualization parameters we will use to put the image on the map. We select the range of images, we use an opacity and we want to show 1 band: `avg_rad`. If we look at the image we can see it has 2 bands: `avg_rad` and `cf_cvg`. See what they mean [here](https://developers.google.com/earth-engine/datasets/catalog/NOAA_VIIRS_DNB_MONTHLY_V1_VCMCFG#bands).\n",
    "\n",
    "We then add the image to the map using the `AddLayer` method. It needs an earth engine object, visualization paramaters we defined earlier and a name. The last two are defaulted to nothing. \n",
    "\n",
    "If we look at the map we can see the image has indeed appeared. Great! Second and third step done! \n",
    "\n",
    "So for the last step we also want to add the boundaries of the netherlands. For getting the data we will use another package called `pygadm`. Pygadm is a dataset project from the Berkely University, and it's a great way to get world wide data on administrative boundaries on multiple scales. "
   ]
  },
  {
   "cell_type": "code",
   "execution_count": 7,
   "id": "8a99d4db",
   "metadata": {},
   "outputs": [],
   "source": [
    "netherlands = pygadm.get_items(admin='NLD', content_level=1)\n",
    "ee_netherlands = geemap.geopandas_to_ee(netherlands)\n",
    "Map.addLayer(ee_object = ee_netherlands, \n",
    "             name = 'Netherlands Boundaries')\n",
    "Map.addLayerControl()"
   ]
  },
  {
   "cell_type": "markdown",
   "id": "ff2f996c",
   "metadata": {},
   "source": [
    "Using the `get_items` function, we can get the boundaries on content level 1, which are provinces in the Netherlands. We get this data in `GeoPandas GeoDataFrame` format, which we can not directly add to the map, however we can use a handy conversion tool coming straight from the `geemap` package. The earth engine geometry resulting from this we can put on the map quite easily. \n",
    "\n",
    "For more examples and tools, look at the [examples](https://github.com/gee-community/geemap/tree/master/examples/notebooks) supplied by geemap themselves! Especially note that one can [export a map to html](https://github.com/gee-community/geemap/blob/master/examples/notebooks/21_export_map_to_html_png.ipynb), that might come in useful during the project."
   ]
  },
  {
   "cell_type": "code",
   "execution_count": null,
   "id": "7752bd69",
   "metadata": {},
   "outputs": [],
   "source": []
  }
 ],
 "metadata": {
  "kernelspec": {
   "display_name": "Python 3 (ipykernel)",
   "language": "python",
   "name": "python3"
  },
  "language_info": {
   "codemirror_mode": {
    "name": "ipython",
    "version": 3
   },
   "file_extension": ".py",
   "mimetype": "text/x-python",
   "name": "python",
   "nbconvert_exporter": "python",
   "pygments_lexer": "ipython3",
   "version": "3.10.12"
  },
  "widgets": {
   "application/vnd.jupyter.widget-state+json": {
    "state": {
     "001adecda48e44c189b4a89293d7a222": {
      "model_module": "@jupyter-widgets/controls",
      "model_module_version": "2.0.0",
      "model_name": "ToggleButtonsModel",
      "state": {
       "_options_labels": [
        "name/address",
        "lat-lon",
        "data"
       ],
       "button_style": "",
       "icons": [],
       "index": 0,
       "layout": "IPY_MODEL_6a4e0a29928f4aa28298e716016bc269",
       "style": "IPY_MODEL_1cad22a3aace44a19a0b1bdd88b497ac",
       "tooltips": [
        "Search by place name or address",
        "Search by lat-lon coordinates",
        "Search Earth Engine data catalog"
       ]
      }
     },
     "005c8da58db840fdbf85a5e0a476d67a": {
      "model_module": "@jupyter-widgets/controls",
      "model_module_version": "2.0.0",
      "model_name": "ToggleButtonModel",
      "state": {
       "button_style": "primary",
       "icon": "retweet",
       "layout": "IPY_MODEL_3b36804cabf14809baf1f741acf9ce93",
       "style": "IPY_MODEL_aee199d50eaf4074b3f72185aaef5b11",
       "tooltip": "Convert Earth Engine JavaScript to Python"
      }
     },
     "0163e193fe5d46ccb244cbe9000aaf08": {
      "model_module": "@jupyter-widgets/base",
      "model_module_version": "2.0.0",
      "model_name": "LayoutModel",
      "state": {
       "height": "auto",
       "padding": "0px 0px 0px 4px",
       "width": "auto"
      }
     },
     "01baf84a9c2c47b4b334714cd54ff5c8": {
      "model_module": "@jupyter-widgets/controls",
      "model_module_version": "2.0.0",
      "model_name": "ToggleButtonStyleModel",
      "state": {
       "description_width": "",
       "font_family": null,
       "font_size": null,
       "font_style": null,
       "font_variant": null,
       "font_weight": null,
       "text_color": null,
       "text_decoration": null
      }
     },
     "0247c48b0cf64d8cbd1479c811a2fb8f": {
      "model_module": "@jupyter-widgets/controls",
      "model_module_version": "2.0.0",
      "model_name": "TextModel",
      "state": {
       "layout": "IPY_MODEL_df1870a69e3e463dbaf80f1bfecc8fd4",
       "placeholder": "Search by place name or address",
       "style": "IPY_MODEL_3311d38fcf364919af0f56808e1056c9",
       "tooltip": "Search location"
      }
     },
     "033a8db69fb4494a8aa8f33661c009a8": {
      "model_module": "@jupyter-widgets/controls",
      "model_module_version": "2.0.0",
      "model_name": "ButtonStyleModel",
      "state": {
       "font_family": null,
       "font_size": null,
       "font_style": null,
       "font_variant": null,
       "font_weight": null,
       "text_color": null,
       "text_decoration": null
      }
     },
     "033bcc112b79404087bcafc69891b197": {
      "model_module": "@jupyter-widgets/controls",
      "model_module_version": "2.0.0",
      "model_name": "ToggleButtonModel",
      "state": {
       "button_style": "primary",
       "icon": "gears",
       "layout": "IPY_MODEL_2997bd3a4a564ab3903edc2f7049e429",
       "style": "IPY_MODEL_9f872b54ec414069b986529d06c2204b",
       "tooltip": "WhiteboxTools for local geoprocessing"
      }
     },
     "04169308773149ff9f8bffdb430d6785": {
      "model_module": "@jupyter-widgets/base",
      "model_module_version": "2.0.0",
      "model_name": "LayoutModel",
      "state": {
       "width": "500px"
      }
     },
     "0476be0d463042769c940937d44673d1": {
      "model_module": "@jupyter-widgets/base",
      "model_module_version": "2.0.0",
      "model_name": "LayoutModel",
      "state": {}
     },
     "05744c4fac374a17852d171b2c7155c8": {
      "model_module": "@jupyter-widgets/base",
      "model_module_version": "2.0.0",
      "model_name": "LayoutModel",
      "state": {}
     },
     "05c289b1688f47a69b90169a03e8aed1": {
      "model_module": "jupyter-leaflet",
      "model_module_version": "^0.17",
      "model_name": "LeafletWidgetControlModel",
      "state": {
       "_model_module": "jupyter-leaflet",
       "_model_module_version": "^0.17",
       "_view_count": null,
       "_view_module": "jupyter-leaflet",
       "_view_module_version": "^0.17",
       "options": [
        "position",
        "transparent_bg"
       ],
       "position": "topright",
       "widget": "IPY_MODEL_708e00eee7c74b8eacef2d9515f327e2"
      }
     },
     "062c266e73084ea09daad6eaf86af60e": {
      "model_module": "@jupyter-widgets/controls",
      "model_module_version": "2.0.0",
      "model_name": "ToggleButtonModel",
      "state": {
       "icon": "server",
       "layout": "IPY_MODEL_83bd5148ee3a423588f866c442368803",
       "style": "IPY_MODEL_5a528b9b85c748df8980b81a3f73f812",
       "tooltip": "Layers"
      }
     },
     "0647f00bf6fb400dab66f5488425dba8": {
      "model_module": "@jupyter-widgets/base",
      "model_module_version": "2.0.0",
      "model_name": "LayoutModel",
      "state": {
       "width": "340px"
      }
     },
     "065e1d6d52674d6eb34ff33555f8c795": {
      "model_module": "jupyter-leaflet",
      "model_module_version": "^0.17",
      "model_name": "LeafletWidgetControlModel",
      "state": {
       "_model_module": "jupyter-leaflet",
       "_model_module_version": "^0.17",
       "_view_count": null,
       "_view_module": "jupyter-leaflet",
       "_view_module_version": "^0.17",
       "options": [
        "position",
        "transparent_bg"
       ],
       "position": "topleft",
       "widget": "IPY_MODEL_b79224a156f44351bc0b06392bc4d1d7"
      }
     },
     "0667995e077b4af682a6cd7e62f87844": {
      "model_module": "@jupyter-widgets/base",
      "model_module_version": "2.0.0",
      "model_name": "LayoutModel",
      "state": {
       "height": "28px",
       "padding": "0px 0px 0px 4px",
       "width": "28px"
      }
     },
     "06cb37ac4ae1436f8c956ae85930f76d": {
      "model_module": "@jupyter-widgets/base",
      "model_module_version": "2.0.0",
      "model_name": "LayoutModel",
      "state": {
       "height": "auto",
       "padding": "0px 0px 0px 4px",
       "width": "auto"
      }
     },
     "06ead7fe38ca4cc886181ce46f589030": {
      "model_module": "@jupyter-widgets/base",
      "model_module_version": "2.0.0",
      "model_name": "LayoutModel",
      "state": {
       "height": "auto",
       "padding": "0px 0px 0px 4px",
       "width": "auto"
      }
     },
     "078200d4db6b4cddb724dfbf77c93d35": {
      "model_module": "jupyter-leaflet",
      "model_module_version": "^0.17",
      "model_name": "LeafletMapStyleModel",
      "state": {
       "_model_module_version": "^0.17"
      }
     },
     "080988fe7e2e479496a0fcbdfafbc560": {
      "model_module": "@jupyter-widgets/controls",
      "model_module_version": "2.0.0",
      "model_name": "ToggleButtonModel",
      "state": {
       "button_style": "primary",
       "icon": "random",
       "layout": "IPY_MODEL_1ea0afd09dd74b8390f5b68999354c31",
       "style": "IPY_MODEL_0ac4463de10f478ba1df1d3ce5fda9d5",
       "tooltip": "Sankey plots"
      }
     },
     "08d0a54a026848cc96527167d235c3dc": {
      "model_module": "@jupyter-widgets/base",
      "model_module_version": "2.0.0",
      "model_name": "LayoutModel",
      "state": {}
     },
     "09132e9f6e6c4c668efc1b5df303595f": {
      "model_module": "@jupyter-widgets/controls",
      "model_module_version": "2.0.0",
      "model_name": "DropdownModel",
      "state": {
       "index": null,
       "layout": "IPY_MODEL_bd5470ddc1fe4e898f9e071f69d58133",
       "style": "IPY_MODEL_d395748d6dcb4d9395f6aab25f55f9f8"
      }
     },
     "09c429cf02bd4742ad5037e3285be9f0": {
      "model_module": "ipyevents",
      "model_module_version": "2.0.1",
      "model_name": "EventModel",
      "state": {
       "_supported_key_events": [
        "keydown",
        "keyup"
       ],
       "_supported_mouse_events": [
        "click",
        "auxclick",
        "dblclick",
        "mouseenter",
        "mouseleave",
        "mousedown",
        "mouseup",
        "mousemove",
        "wheel",
        "contextmenu",
        "dragstart",
        "drag",
        "dragend",
        "dragenter",
        "dragover",
        "dragleave",
        "drop"
       ],
       "_supported_touch_events": [
        "touchstart",
        "touchend",
        "touchmove",
        "touchcancel"
       ],
       "_view_module": "@jupyter-widgets/controls",
       "source": "IPY_MODEL_87aaaaac63664b86bbcde55d05e5dd67",
       "throttle_or_debounce": "",
       "watched_events": [
        "mouseenter",
        "mouseleave"
       ],
       "xy_coordinate_system": ""
      }
     },
     "0a39347625354698acc0398c04604d42": {
      "model_module": "@jupyter-widgets/controls",
      "model_module_version": "2.0.0",
      "model_name": "ToggleButtonModel",
      "state": {
       "button_style": "primary",
       "icon": "info-circle",
       "layout": "IPY_MODEL_92e1bd5b472e456bbbb335f08f26a191",
       "style": "IPY_MODEL_34f0bd2494d640fd8de12e5bbe76c3c7",
       "tooltip": "Get COG/STAC pixel value"
      }
     },
     "0ac4463de10f478ba1df1d3ce5fda9d5": {
      "model_module": "@jupyter-widgets/controls",
      "model_module_version": "2.0.0",
      "model_name": "ToggleButtonStyleModel",
      "state": {
       "description_width": "",
       "font_family": null,
       "font_size": null,
       "font_style": null,
       "font_variant": null,
       "font_weight": null,
       "text_color": null,
       "text_decoration": null
      }
     },
     "0b428d68db4046a19b4795af96719525": {
      "model_module": "@jupyter-widgets/base",
      "model_module_version": "2.0.0",
      "model_name": "LayoutModel",
      "state": {}
     },
     "0d0201fab40343b8be47f71d44ca3e4d": {
      "model_module": "jupyter-leaflet",
      "model_module_version": "^0.17",
      "model_name": "LeafletAttributionControlModel",
      "state": {
       "_model_module_version": "^0.17",
       "_view_module_version": "^0.17",
       "options": [
        "position",
        "prefix"
       ],
       "position": "bottomright",
       "prefix": "ipyleaflet"
      }
     },
     "0da9f6282508406c926a60db2f0f0514": {
      "model_module": "@jupyter-widgets/controls",
      "model_module_version": "2.0.0",
      "model_name": "HTMLModel",
      "state": {
       "layout": "IPY_MODEL_0b428d68db4046a19b4795af96719525",
       "style": "IPY_MODEL_9df685c3a2664dec9fd3144f350a21f3"
      }
     },
     "0fb6501bd310414fb9dda98f87ee9616": {
      "model_module": "@jupyter-widgets/base",
      "model_module_version": "2.0.0",
      "model_name": "LayoutModel",
      "state": {
       "height": "auto",
       "padding": "0px 0px 0px 4px",
       "width": "auto"
      }
     },
     "101cacbab9e84af780c80f2558e891ae": {
      "model_module": "@jupyter-widgets/output",
      "model_module_version": "1.0.0",
      "model_name": "OutputModel",
      "state": {
       "layout": "IPY_MODEL_dcdc90ba0cae496eb891e9018afc6e43"
      }
     },
     "10797411af554ebeb353fe08111330e5": {
      "model_module": "@jupyter-widgets/controls",
      "model_module_version": "2.0.0",
      "model_name": "ButtonModel",
      "state": {
       "button_style": "primary",
       "description": "import",
       "layout": "IPY_MODEL_764e0e3d2c7b4d529799f9130493f7e7",
       "style": "IPY_MODEL_a5c9707c993f4b20a15b4de3888088fa",
       "tooltip": "Click to import the selected asset"
      }
     },
     "10a0132205194e5db77abc5beb9bf512": {
      "model_module": "@jupyter-widgets/base",
      "model_module_version": "2.0.0",
      "model_name": "LayoutModel",
      "state": {
       "max_height": "350px",
       "max_width": "340px",
       "overflow": "scroll"
      }
     },
     "112e02faf18748feaac82be3e25382d5": {
      "model_module": "jupyter-leaflet",
      "model_module_version": "^0.17",
      "model_name": "LeafletZoomControlModel",
      "state": {
       "_model_module_version": "^0.17",
       "_view_module_version": "^0.17",
       "options": [
        "position",
        "zoom_in_text",
        "zoom_in_title",
        "zoom_out_text",
        "zoom_out_title"
       ]
      }
     },
     "1190af724c9b4dc8995b61e31f97beb5": {
      "model_module": "@jupyter-widgets/controls",
      "model_module_version": "2.0.0",
      "model_name": "ToggleButtonModel",
      "state": {
       "button_style": "primary",
       "icon": "gears",
       "layout": "IPY_MODEL_2edf7f5edff6404a9fc9fb326e9a9eb4",
       "style": "IPY_MODEL_bed74f4a011c4281991abb63f3ca9941",
       "tooltip": "WhiteboxTools for local geoprocessing"
      }
     },
     "124f538a6aa34a86b24340012c371e08": {
      "model_module": "@jupyter-widgets/controls",
      "model_module_version": "2.0.0",
      "model_name": "ToggleButtonStyleModel",
      "state": {
       "description_width": "",
       "font_family": null,
       "font_size": null,
       "font_style": null,
       "font_variant": null,
       "font_weight": null,
       "text_color": null,
       "text_decoration": null
      }
     },
     "127e4e8d41b84e21aebe04279294ac27": {
      "model_module": "jupyter-leaflet",
      "model_module_version": "^0.17",
      "model_name": "LeafletZoomControlModel",
      "state": {
       "_model_module_version": "^0.17",
       "_view_module_version": "^0.17",
       "options": [
        "position",
        "zoom_in_text",
        "zoom_in_title",
        "zoom_out_text",
        "zoom_out_title"
       ]
      }
     },
     "135b752b11c0408d862d2676f50baef5": {
      "model_module": "@jupyter-widgets/controls",
      "model_module_version": "2.0.0",
      "model_name": "VBoxModel",
      "state": {
       "children": [
        "IPY_MODEL_c92ce748d61e4606b39d272d164b9216",
        "IPY_MODEL_190c71cafa244ee0b1957e0f3c9dbf85"
       ],
       "layout": "IPY_MODEL_ef4c88c54f0a44af854b66cee9e8a8bf"
      }
     },
     "135c70dd13b34ecea4d5c17687ee33d8": {
      "model_module": "jupyter-leaflet",
      "model_module_version": "^0.17",
      "model_name": "LeafletMapStyleModel",
      "state": {
       "_model_module_version": "^0.17",
       "cursor": "move"
      }
     },
     "13c9dd7c71234722b7ceee6141fd3800": {
      "model_module": "jupyter-leaflet",
      "model_module_version": "^0.17",
      "model_name": "LeafletTileLayerModel",
      "state": {
       "_model_module_version": "^0.17",
       "_view_module_version": "^0.17",
       "attribution": "Google Earth Engine",
       "max_zoom": 24,
       "name": "Netherlands Boundaries",
       "options": [
        "attribution",
        "bounds",
        "detect_retina",
        "max_native_zoom",
        "max_zoom",
        "min_native_zoom",
        "min_zoom",
        "no_wrap",
        "tile_size",
        "tms",
        "zoom_offset"
       ],
       "url": "https://earthengine.googleapis.com/v1alpha/projects/earthengine-legacy/maps/4122fbdf01fb850a7c12372440968e86-1788836f293cedac007a24715ad8e08f/tiles/{z}/{x}/{y}"
      }
     },
     "149adf675140467aa113a8fed284be8f": {
      "model_module": "@jupyter-widgets/base",
      "model_module_version": "2.0.0",
      "model_name": "LayoutModel",
      "state": {
       "height": "auto",
       "padding": "0px 0px 0px 4px",
       "width": "auto"
      }
     },
     "154f7e11b0fc4e4da24f7d58c70fc4c9": {
      "model_module": "@jupyter-widgets/base",
      "model_module_version": "2.0.0",
      "model_name": "LayoutModel",
      "state": {}
     },
     "165506bd02f24cf8a8e590058b6f93bf": {
      "model_module": "ipyevents",
      "model_module_version": "2.0.1",
      "model_name": "EventModel",
      "state": {
       "_supported_key_events": [
        "keydown",
        "keyup"
       ],
       "_supported_mouse_events": [
        "click",
        "auxclick",
        "dblclick",
        "mouseenter",
        "mouseleave",
        "mousedown",
        "mouseup",
        "mousemove",
        "wheel",
        "contextmenu",
        "dragstart",
        "drag",
        "dragend",
        "dragenter",
        "dragover",
        "dragleave",
        "drop"
       ],
       "_supported_touch_events": [
        "touchstart",
        "touchend",
        "touchmove",
        "touchcancel"
       ],
       "_view_module": "@jupyter-widgets/controls",
       "source": "IPY_MODEL_708e00eee7c74b8eacef2d9515f327e2",
       "throttle_or_debounce": "",
       "watched_events": [
        "mouseenter",
        "mouseleave"
       ],
       "xy_coordinate_system": ""
      }
     },
     "167212d0306448c2b098bfc929fd3ee7": {
      "model_module": "@jupyter-widgets/base",
      "model_module_version": "2.0.0",
      "model_name": "LayoutModel",
      "state": {
       "max_width": "57px",
       "min_width": "57px"
      }
     },
     "172e40b94104416596eba5fe92460c65": {
      "model_module": "@jupyter-widgets/base",
      "model_module_version": "2.0.0",
      "model_name": "LayoutModel",
      "state": {}
     },
     "1730721b10bf490eac940b082eb4f3ee": {
      "model_module": "@jupyter-widgets/controls",
      "model_module_version": "2.0.0",
      "model_name": "RadioButtonsModel",
      "state": {
       "index": null,
       "layout": "IPY_MODEL_f4ead4734abb43f4bbb9adbfc5641b68",
       "style": "IPY_MODEL_c236719bed51465aab28b59720e87b06"
      }
     },
     "1766b2318d68442081bc0ce405e5ccfe": {
      "model_module": "jupyter-leaflet",
      "model_module_version": "^0.17",
      "model_name": "LeafletMeasureControlModel",
      "state": {
       "_model_module_version": "^0.17",
       "_view_module_version": "^0.17",
       "active_color": "orange",
       "options": [
        "active_color",
        "capture_z_index",
        "completed_color",
        "popup_options",
        "position",
        "primary_area_unit",
        "primary_length_unit",
        "secondary_area_unit",
        "secondary_length_unit"
       ],
       "position": "bottomleft",
       "primary_length_unit": "kilometers",
       "secondary_area_unit": null,
       "secondary_length_unit": null
      }
     },
     "17b7bfb00b494775b8f88fdca6bbcf83": {
      "model_module": "@jupyter-widgets/controls",
      "model_module_version": "2.0.0",
      "model_name": "ToggleButtonStyleModel",
      "state": {
       "description_width": "",
       "font_family": null,
       "font_size": null,
       "font_style": null,
       "font_variant": null,
       "font_weight": null,
       "text_color": null,
       "text_decoration": null
      }
     },
     "187d746c42da4c33b7653a03415304be": {
      "model_module": "@jupyter-widgets/controls",
      "model_module_version": "2.0.0",
      "model_name": "ToggleButtonModel",
      "state": {
       "button_style": "primary",
       "icon": "globe",
       "layout": "IPY_MODEL_56ba1f0737b941c68ab400683aa436b4",
       "style": "IPY_MODEL_7416d2fbbfb943c4bc2c335c286e138d",
       "tooltip": "Create timelapse"
      }
     },
     "190c71cafa244ee0b1957e0f3c9dbf85": {
      "model_module": "@jupyter-widgets/controls",
      "model_module_version": "2.0.0",
      "model_name": "TextModel",
      "state": {
       "layout": "IPY_MODEL_f0882db740624e5da5e3db04c3ef98ad",
       "placeholder": "Search by place name or address",
       "style": "IPY_MODEL_6e11e9a459c1469cb826efcb3f10784d",
       "tooltip": "Search location"
      }
     },
     "192b240b28fb4441813f3769c0fe4b13": {
      "model_module": "@jupyter-widgets/base",
      "model_module_version": "2.0.0",
      "model_name": "LayoutModel",
      "state": {}
     },
     "193108ce48bf4f88b85ec294d134a6d1": {
      "model_module": "@jupyter-widgets/controls",
      "model_module_version": "2.0.0",
      "model_name": "ToggleButtonModel",
      "state": {
       "button_style": "primary",
       "icon": "eraser",
       "layout": "IPY_MODEL_0163e193fe5d46ccb244cbe9000aaf08",
       "style": "IPY_MODEL_7df29b96e0c34da38661a21928799eaf",
       "tooltip": "Remove all drawn features"
      }
     },
     "1a10ef28459447959c31d73d5ba2aac1": {
      "model_module": "jupyter-leaflet",
      "model_module_version": "^0.17",
      "model_name": "LeafletDrawControlModel",
      "state": {
       "_model_module_version": "^0.17",
       "_view_module_version": "^0.17",
       "marker": {
        "shapeOptions": {
         "color": "#3388ff"
        }
       },
       "options": [
        "position"
       ],
       "polygon": {
        "shapeOptions": {
         "clickable": true,
         "color": "#3388ff",
         "fill": true,
         "fillColor": null,
         "fillOpacity": 0.2,
         "opacity": 0.5,
         "stroke": true,
         "weight": 4
        }
       },
       "polyline": {
        "shapeOptions": {
         "clickable": true,
         "color": "#3388ff",
         "fill": false,
         "opacity": 0.5,
         "stroke": true,
         "weight": 4
        }
       },
       "rectangle": {
        "shapeOptions": {
         "clickable": true,
         "color": "#3388ff",
         "fill": true,
         "fillColor": null,
         "fillOpacity": 0.2,
         "opacity": 0.5,
         "stroke": true,
         "weight": 4
        }
       }
      }
     },
     "1bb9ac9512fa46f593a69fa2f06d84bf": {
      "model_module": "@jupyter-widgets/base",
      "model_module_version": "2.0.0",
      "model_name": "LayoutModel",
      "state": {
       "height": "auto",
       "padding": "0px 0px 0px 4px",
       "width": "auto"
      }
     },
     "1be8278f4db34db6bf3904db02dddf80": {
      "model_module": "jupyter-leaflet",
      "model_module_version": "^0.17",
      "model_name": "LeafletAttributionControlModel",
      "state": {
       "_model_module_version": "^0.17",
       "_view_module_version": "^0.17",
       "options": [
        "position",
        "prefix"
       ],
       "position": "bottomright",
       "prefix": "ipyleaflet"
      }
     },
     "1c76653d87a04209b2fca9f57ade9605": {
      "model_module": "@jupyter-widgets/controls",
      "model_module_version": "2.0.0",
      "model_name": "ToggleButtonModel",
      "state": {
       "button_style": "primary",
       "icon": "adjust",
       "layout": "IPY_MODEL_e6149420343c4770be505b2859c15ab9",
       "style": "IPY_MODEL_e726a668c66c465eaff3dfbdcddeb5a3",
       "tooltip": "Planet imagery"
      }
     },
     "1cad22a3aace44a19a0b1bdd88b497ac": {
      "model_module": "@jupyter-widgets/controls",
      "model_module_version": "2.0.0",
      "model_name": "ToggleButtonsStyleModel",
      "state": {
       "button_width": "110px",
       "description_width": ""
      }
     },
     "1d80fed3d1cd4578aec85f996bb03daa": {
      "model_module": "jupyter-leaflet",
      "model_module_version": "^0.17",
      "model_name": "LeafletZoomControlModel",
      "state": {
       "_model_module_version": "^0.17",
       "_view_module_version": "^0.17",
       "options": [
        "position",
        "zoom_in_text",
        "zoom_in_title",
        "zoom_out_text",
        "zoom_out_title"
       ]
      }
     },
     "1dd543c2279941fbaffa42c0a60687df": {
      "model_module": "@jupyter-widgets/controls",
      "model_module_version": "2.0.0",
      "model_name": "ToggleButtonStyleModel",
      "state": {
       "description_width": "",
       "font_family": null,
       "font_size": null,
       "font_style": null,
       "font_variant": null,
       "font_weight": null,
       "text_color": null,
       "text_decoration": null
      }
     },
     "1ea0afd09dd74b8390f5b68999354c31": {
      "model_module": "@jupyter-widgets/base",
      "model_module_version": "2.0.0",
      "model_name": "LayoutModel",
      "state": {
       "height": "auto",
       "padding": "0px 0px 0px 4px",
       "width": "auto"
      }
     },
     "2066441a2c4b4b6ebe16b8f498b3dd93": {
      "model_module": "@jupyter-widgets/controls",
      "model_module_version": "2.0.0",
      "model_name": "ToggleButtonModel",
      "state": {
       "button_style": "primary",
       "icon": "info",
       "layout": "IPY_MODEL_fb088456d0e74960809bad297353abf0",
       "style": "IPY_MODEL_fa22b3fc746445b4a195767566b3295a",
       "tooltip": "Inspector"
      }
     },
     "2073c53d3bf2414c891e1aee70292853": {
      "model_module": "@jupyter-widgets/base",
      "model_module_version": "2.0.0",
      "model_name": "LayoutModel",
      "state": {
       "height": "auto",
       "padding": "0px 0px 0px 4px",
       "width": "auto"
      }
     },
     "22e4753b4bc741159e2af255291baf3a": {
      "model_module": "jupyter-leaflet",
      "model_module_version": "^0.17",
      "model_name": "LeafletAttributionControlModel",
      "state": {
       "_model_module_version": "^0.17",
       "_view_module_version": "^0.17",
       "options": [
        "position",
        "prefix"
       ],
       "position": "bottomright",
       "prefix": "ipyleaflet"
      }
     },
     "231f3ebf71334168bd00e672a1ab9d62": {
      "model_module": "jupyter-leaflet",
      "model_module_version": "^0.17",
      "model_name": "LeafletDrawControlModel",
      "state": {
       "_model_module_version": "^0.17",
       "_view_module_version": "^0.17",
       "marker": {
        "shapeOptions": {
         "color": "#3388ff"
        }
       },
       "options": [
        "position"
       ],
       "polygon": {
        "shapeOptions": {
         "clickable": true,
         "color": "#3388ff",
         "fill": true,
         "fillColor": null,
         "fillOpacity": 0.2,
         "opacity": 0.5,
         "stroke": true,
         "weight": 4
        }
       },
       "polyline": {
        "shapeOptions": {
         "clickable": true,
         "color": "#3388ff",
         "fill": false,
         "opacity": 0.5,
         "stroke": true,
         "weight": 4
        }
       },
       "rectangle": {
        "shapeOptions": {
         "clickable": true,
         "color": "#3388ff",
         "fill": true,
         "fillColor": null,
         "fillOpacity": 0.2,
         "opacity": 0.5,
         "stroke": true,
         "weight": 4
        }
       }
      }
     },
     "2346847cff954424befd2aa3727be45b": {
      "model_module": "@jupyter-widgets/base",
      "model_module_version": "2.0.0",
      "model_name": "LayoutModel",
      "state": {
       "height": "auto",
       "padding": "0px 0px 0px 4px",
       "width": "auto"
      }
     },
     "2405fb3c13d04ae0a19e15ce83e29343": {
      "model_module": "@jupyter-widgets/controls",
      "model_module_version": "2.0.0",
      "model_name": "ToggleButtonModel",
      "state": {
       "button_style": "primary",
       "icon": "map",
       "layout": "IPY_MODEL_fe85681cdc41427aa14fa0a65c3b5c0a",
       "style": "IPY_MODEL_881cb4d509de4319a8ff4ae54fd78e75",
       "tooltip": "Change basemap"
      }
     },
     "244d3b36085e4b72bee315e62643ea34": {
      "model_module": "@jupyter-widgets/base",
      "model_module_version": "2.0.0",
      "model_name": "LayoutModel",
      "state": {
       "height": "28px",
       "padding": "0px 0px 0px 4px",
       "width": "28px"
      }
     },
     "252830e7134144c9a13eca662ef4354f": {
      "model_module": "jupyter-leaflet",
      "model_module_version": "^0.17",
      "model_name": "LeafletMapStyleModel",
      "state": {
       "_model_module_version": "^0.17"
      }
     },
     "25a2eb25d16c40a1b51752e0ccfa746d": {
      "model_module": "@jupyter-widgets/controls",
      "model_module_version": "2.0.0",
      "model_name": "ToggleButtonStyleModel",
      "state": {
       "description_width": "",
       "font_family": null,
       "font_size": null,
       "font_style": null,
       "font_variant": null,
       "font_weight": null,
       "text_color": null,
       "text_decoration": null
      }
     },
     "2609cab71d08404b81b6f3aea5eda6ea": {
      "model_module": "jupyter-leaflet",
      "model_module_version": "^0.17",
      "model_name": "LeafletWidgetControlModel",
      "state": {
       "_model_module": "jupyter-leaflet",
       "_model_module_version": "^0.17",
       "_view_count": null,
       "_view_module": "jupyter-leaflet",
       "_view_module_version": "^0.17",
       "options": [
        "position",
        "transparent_bg"
       ],
       "position": "topright",
       "widget": "IPY_MODEL_2995a051d2b54ba0bc9fa79484e84593"
      }
     },
     "275cb5e8a961427b832fce78b8cc3e3f": {
      "model_module": "@jupyter-widgets/base",
      "model_module_version": "2.0.0",
      "model_name": "LayoutModel",
      "state": {}
     },
     "282bef27a7134f54aaebdb4c15da121c": {
      "model_module": "jupyter-leaflet",
      "model_module_version": "^0.17",
      "model_name": "LeafletWidgetControlModel",
      "state": {
       "_model_module": "jupyter-leaflet",
       "_model_module_version": "^0.17",
       "_view_count": null,
       "_view_module": "jupyter-leaflet",
       "_view_module_version": "^0.17",
       "options": [
        "position",
        "transparent_bg"
       ],
       "position": "topright",
       "widget": "IPY_MODEL_ee404a8fd1b547569c315ea3066a9215"
      }
     },
     "2995a051d2b54ba0bc9fa79484e84593": {
      "model_module": "@jupyter-widgets/controls",
      "model_module_version": "2.0.0",
      "model_name": "VBoxModel",
      "state": {
       "_view_count": 1,
       "children": [
        "IPY_MODEL_c8a22707bbc64c29bae2ad5f93a1254d"
       ],
       "layout": "IPY_MODEL_64033914b34f45a4892a147463c8d2d6"
      }
     },
     "2997bd3a4a564ab3903edc2f7049e429": {
      "model_module": "@jupyter-widgets/base",
      "model_module_version": "2.0.0",
      "model_name": "LayoutModel",
      "state": {
       "height": "auto",
       "padding": "0px 0px 0px 4px",
       "width": "auto"
      }
     },
     "29bb82c3597347bfacd6c47136268ba8": {
      "model_module": "@jupyter-widgets/base",
      "model_module_version": "2.0.0",
      "model_name": "LayoutModel",
      "state": {
       "height": "auto",
       "padding": "0px 0px 0px 4px",
       "width": "auto"
      }
     },
     "29ccd7e0c98c4ad9abe6fd2b131366e4": {
      "model_module": "@jupyter-widgets/controls",
      "model_module_version": "2.0.0",
      "model_name": "GridBoxModel",
      "state": {
       "children": [
        "IPY_MODEL_2066441a2c4b4b6ebe16b8f498b3dd93",
        "IPY_MODEL_c094ac69ecdc401cb23635fa64fe70b8",
        "IPY_MODEL_615f53baa56240628fcd6fd263451850",
        "IPY_MODEL_4c671b8f2681460090fbef90925011ec",
        "IPY_MODEL_4e48a0beb1184d8b82053742e06d3835",
        "IPY_MODEL_8449f89e9ee244beaab392781a2353c5"
       ],
       "layout": "IPY_MODEL_32d0ad680c7f4a5196a8edbf8e238b18"
      }
     },
     "29e0561c02d344d1a0a9b7437bdbb3f9": {
      "model_module": "jupyter-leaflet",
      "model_module_version": "^0.17",
      "model_name": "LeafletMeasureControlModel",
      "state": {
       "_model_module_version": "^0.17",
       "_view_module_version": "^0.17",
       "active_color": "orange",
       "options": [
        "active_color",
        "capture_z_index",
        "completed_color",
        "popup_options",
        "position",
        "primary_area_unit",
        "primary_length_unit",
        "secondary_area_unit",
        "secondary_length_unit"
       ],
       "position": "bottomleft",
       "primary_length_unit": "kilometers",
       "secondary_area_unit": null,
       "secondary_length_unit": null
      }
     },
     "2a31a01a39c04aa786864bf7f839fd2c": {
      "model_module": "@jupyter-widgets/controls",
      "model_module_version": "2.0.0",
      "model_name": "VBoxModel",
      "state": {
       "children": [
        "IPY_MODEL_29ccd7e0c98c4ad9abe6fd2b131366e4"
       ],
       "layout": "IPY_MODEL_ab6aac4bf707462397bc4e737e7870cc"
      }
     },
     "2b043df8d6c84b93ae5d99c339564645": {
      "model_module": "@jupyter-widgets/controls",
      "model_module_version": "2.0.0",
      "model_name": "ToggleButtonModel",
      "state": {
       "button_style": "primary",
       "icon": "folder-open",
       "layout": "IPY_MODEL_c5f1ae9c4e5e42cf8fcba20d3532b261",
       "style": "IPY_MODEL_4e96789fe0af4830801c5b5be1e9214b",
       "tooltip": "Open local vector/raster data"
      }
     },
     "2bc1cf2a56b94394a44191de8df15662": {
      "model_module": "@jupyter-widgets/controls",
      "model_module_version": "2.0.0",
      "model_name": "DescriptionStyleModel",
      "state": {
       "description_width": ""
      }
     },
     "2c49e7165c704f22af1cf69caa5783d8": {
      "model_module": "@jupyter-widgets/controls",
      "model_module_version": "2.0.0",
      "model_name": "ToggleButtonStyleModel",
      "state": {
       "description_width": "",
       "font_family": null,
       "font_size": null,
       "font_style": null,
       "font_variant": null,
       "font_weight": null,
       "text_color": null,
       "text_decoration": null
      }
     },
     "2d5c3efd1c0a41e78a65bec2c03d74fe": {
      "model_module": "jupyter-leaflet",
      "model_module_version": "^0.17",
      "model_name": "LeafletMeasureControlModel",
      "state": {
       "_model_module_version": "^0.17",
       "_view_module_version": "^0.17",
       "active_color": "orange",
       "options": [
        "active_color",
        "capture_z_index",
        "completed_color",
        "popup_options",
        "position",
        "primary_area_unit",
        "primary_length_unit",
        "secondary_area_unit",
        "secondary_length_unit"
       ],
       "position": "bottomleft",
       "primary_length_unit": "kilometers",
       "secondary_area_unit": null,
       "secondary_length_unit": null
      }
     },
     "2e869d070d7840b8b2573869d5e1ffde": {
      "model_module": "@jupyter-widgets/controls",
      "model_module_version": "2.0.0",
      "model_name": "ToggleButtonModel",
      "state": {
       "button_style": "primary",
       "icon": "gears",
       "layout": "IPY_MODEL_e0c44c8a281345299e99ab961594bfa7",
       "style": "IPY_MODEL_ee539e67f7be422dac1713b0fd3309d5",
       "tooltip": "WhiteboxTools for local geoprocessing"
      }
     },
     "2edf7f5edff6404a9fc9fb326e9a9eb4": {
      "model_module": "@jupyter-widgets/base",
      "model_module_version": "2.0.0",
      "model_name": "LayoutModel",
      "state": {
       "height": "auto",
       "padding": "0px 0px 0px 4px",
       "width": "auto"
      }
     },
     "2f339f92154d42ad86d4e9b306555d43": {
      "model_module": "@jupyter-widgets/base",
      "model_module_version": "2.0.0",
      "model_name": "LayoutModel",
      "state": {
       "height": "auto",
       "padding": "0px 0px 0px 4px",
       "width": "auto"
      }
     },
     "2f6ceb6401c1452cb19ab7cc3104d76d": {
      "model_module": "@jupyter-widgets/controls",
      "model_module_version": "2.0.0",
      "model_name": "ToggleButtonStyleModel",
      "state": {
       "description_width": "",
       "font_family": null,
       "font_size": null,
       "font_style": null,
       "font_variant": null,
       "font_weight": null,
       "text_color": null,
       "text_decoration": null
      }
     },
     "2f86a761233d4259aacfecca685cf2bd": {
      "model_module": "@jupyter-widgets/controls",
      "model_module_version": "2.0.0",
      "model_name": "RadioButtonsModel",
      "state": {
       "index": null,
       "layout": "IPY_MODEL_e149b006e1124ed08ceb94b52559f33b",
       "style": "IPY_MODEL_84381baf4d3e444a8a2c5baa12996821"
      }
     },
     "2fc25b7bc4ad4ad28b152a978ed83c29": {
      "model_module": "@jupyter-widgets/base",
      "model_module_version": "2.0.0",
      "model_name": "LayoutModel",
      "state": {
       "max_width": "279px",
       "min_width": "279px"
      }
     },
     "2feb97e3caf741e79f63514beb58b880": {
      "model_module": "jupyter-leaflet",
      "model_module_version": "^0.17",
      "model_name": "LeafletZoomControlModel",
      "state": {
       "_model_module_version": "^0.17",
       "_view_module_version": "^0.17",
       "options": [
        "position",
        "zoom_in_text",
        "zoom_in_title",
        "zoom_out_text",
        "zoom_out_title"
       ]
      }
     },
     "3069494b584840fabe512e3991ba0073": {
      "model_module": "@jupyter-widgets/controls",
      "model_module_version": "2.0.0",
      "model_name": "HBoxModel",
      "state": {
       "children": [
        "IPY_MODEL_a4161db4e1b849c586d17173db5e192c",
        "IPY_MODEL_c8a22707bbc64c29bae2ad5f93a1254d"
       ],
       "layout": "IPY_MODEL_42b33048161f4b44b9e404866bf48713"
      }
     },
     "307622445d4b4e87b6cfd05f4e250b60": {
      "model_module": "@jupyter-widgets/controls",
      "model_module_version": "2.0.0",
      "model_name": "ToggleButtonModel",
      "state": {
       "button_style": "primary",
       "icon": "info-circle",
       "layout": "IPY_MODEL_2073c53d3bf2414c891e1aee70292853",
       "style": "IPY_MODEL_9a017ed7dd9e4c76b5f8631a27a491e7",
       "tooltip": "Get COG/STAC pixel value"
      }
     },
     "3093e1564c04459aa1a9d379712e3190": {
      "model_module": "@jupyter-widgets/base",
      "model_module_version": "2.0.0",
      "model_name": "LayoutModel",
      "state": {
       "width": "500px"
      }
     },
     "30b1e509a6b44305a93f1ca0b29b2059": {
      "model_module": "@jupyter-widgets/controls",
      "model_module_version": "2.0.0",
      "model_name": "ToggleButtonModel",
      "state": {
       "button_style": "primary",
       "icon": "folder-open",
       "layout": "IPY_MODEL_e86bcc99438a4841b6d0eb68c3605da6",
       "style": "IPY_MODEL_793867b4b9ec4f1794418d8e1d5f53b5",
       "tooltip": "Open local vector/raster data"
      }
     },
     "3174346b56454b6389ff674df442b745": {
      "model_module": "@jupyter-widgets/base",
      "model_module_version": "2.0.0",
      "model_name": "LayoutModel",
      "state": {
       "height": "auto",
       "padding": "0px 0px 0px 4px",
       "width": "auto"
      }
     },
     "32a145d1ccff4beab038c3a71597cc6d": {
      "model_module": "jupyter-leaflet",
      "model_module_version": "^0.17",
      "model_name": "LeafletMeasureControlModel",
      "state": {
       "_model_module_version": "^0.17",
       "_view_module_version": "^0.17",
       "active_color": "orange",
       "options": [
        "active_color",
        "capture_z_index",
        "completed_color",
        "popup_options",
        "position",
        "primary_area_unit",
        "primary_length_unit",
        "secondary_area_unit",
        "secondary_length_unit"
       ],
       "position": "bottomleft",
       "primary_length_unit": "kilometers",
       "secondary_area_unit": null,
       "secondary_length_unit": null
      }
     },
     "32d0ad680c7f4a5196a8edbf8e238b18": {
      "model_module": "@jupyter-widgets/base",
      "model_module_version": "2.0.0",
      "model_name": "LayoutModel",
      "state": {
       "grid_gap": "1px 1px",
       "grid_template_columns": "32px 32px 32px ",
       "grid_template_rows": "32px 32px ",
       "padding": "5px",
       "width": "109px"
      }
     },
     "3311d38fcf364919af0f56808e1056c9": {
      "model_module": "@jupyter-widgets/controls",
      "model_module_version": "2.0.0",
      "model_name": "TextStyleModel",
      "state": {
       "description_width": "",
       "font_size": null,
       "text_color": null
      }
     },
     "348af9da2ae242329d83d1b77e71dab7": {
      "model_module": "@jupyter-widgets/base",
      "model_module_version": "2.0.0",
      "model_name": "LayoutModel",
      "state": {
       "height": "auto",
       "padding": "0px 0px 0px 4px",
       "width": "auto"
      }
     },
     "34f0bd2494d640fd8de12e5bbe76c3c7": {
      "model_module": "@jupyter-widgets/controls",
      "model_module_version": "2.0.0",
      "model_name": "ToggleButtonStyleModel",
      "state": {
       "description_width": "",
       "font_family": null,
       "font_size": null,
       "font_style": null,
       "font_variant": null,
       "font_weight": null,
       "text_color": null,
       "text_decoration": null
      }
     },
     "34f3e0373e054b63b13f6e44cd193018": {
      "model_module": "@jupyter-widgets/controls",
      "model_module_version": "2.0.0",
      "model_name": "ButtonStyleModel",
      "state": {
       "font_family": null,
       "font_size": null,
       "font_style": null,
       "font_variant": null,
       "font_weight": null,
       "text_color": null,
       "text_decoration": null
      }
     },
     "350e947380994d3f8e3c3f6d4b4381f6": {
      "model_module": "jupyter-leaflet",
      "model_module_version": "^0.17",
      "model_name": "LeafletWidgetControlModel",
      "state": {
       "_model_module": "jupyter-leaflet",
       "_model_module_version": "^0.17",
       "_view_count": null,
       "_view_module": "jupyter-leaflet",
       "_view_module_version": "^0.17",
       "options": [
        "position",
        "transparent_bg"
       ],
       "position": "topright",
       "widget": "IPY_MODEL_496a36ccca3d480e807f97b8464ef01e"
      }
     },
     "3541b657119e41d9be6fe1a8da11d029": {
      "model_module": "@jupyter-widgets/base",
      "model_module_version": "2.0.0",
      "model_name": "LayoutModel",
      "state": {
       "height": "600px"
      }
     },
     "3702fcd7e5bf4491be1a51e4eceedc83": {
      "model_module": "@jupyter-widgets/controls",
      "model_module_version": "2.0.0",
      "model_name": "HBoxModel",
      "state": {
       "_view_count": 1,
       "children": [
        "IPY_MODEL_7117af0914314706acfd933c8edd5bd6"
       ],
       "layout": "IPY_MODEL_154f7e11b0fc4e4da24f7d58c70fc4c9"
      }
     },
     "372aaa4511d9483c803836ec4cb635ea": {
      "model_module": "jupyter-leaflet",
      "model_module_version": "^0.17",
      "model_name": "LeafletScaleControlModel",
      "state": {
       "_model_module_version": "^0.17",
       "_view_module_version": "^0.17",
       "imperial": true,
       "max_width": 100,
       "metric": true,
       "options": [
        "imperial",
        "max_width",
        "metric",
        "position",
        "update_when_idle"
       ],
       "position": "bottomleft",
       "update_when_idle": false
      }
     },
     "376a921bdf0c40d49f41c4e5e796d5a6": {
      "model_module": "jupyter-leaflet",
      "model_module_version": "^0.17",
      "model_name": "LeafletTileLayerModel",
      "state": {
       "_model_module_version": "^0.17",
       "_view_module_version": "^0.17",
       "attribution": "Google",
       "max_zoom": 24,
       "name": "Google Maps",
       "options": [
        "attribution",
        "bounds",
        "detect_retina",
        "max_native_zoom",
        "max_zoom",
        "min_native_zoom",
        "min_zoom",
        "no_wrap",
        "tile_size",
        "tms",
        "zoom_offset"
       ],
       "url": "https://mt1.google.com/vt/lyrs=m&x={x}&y={y}&z={z}"
      }
     },
     "37e2a973723f42d5a32f86f3e6092a1e": {
      "model_module": "@jupyter-widgets/base",
      "model_module_version": "2.0.0",
      "model_name": "LayoutModel",
      "state": {}
     },
     "380c1dd51656486fa7ccdce92ed9ab0b": {
      "model_module": "@jupyter-widgets/base",
      "model_module_version": "2.0.0",
      "model_name": "LayoutModel",
      "state": {}
     },
     "38fb28a87f0f40a8a0804b7cd3f4620b": {
      "model_module": "ipyevents",
      "model_module_version": "2.0.1",
      "model_name": "EventModel",
      "state": {
       "_supported_key_events": [
        "keydown",
        "keyup"
       ],
       "_supported_mouse_events": [
        "click",
        "auxclick",
        "dblclick",
        "mouseenter",
        "mouseleave",
        "mousedown",
        "mouseup",
        "mousemove",
        "wheel",
        "contextmenu",
        "dragstart",
        "drag",
        "dragend",
        "dragenter",
        "dragover",
        "dragleave",
        "drop"
       ],
       "_supported_touch_events": [
        "touchstart",
        "touchend",
        "touchmove",
        "touchcancel"
       ],
       "_view_module": "@jupyter-widgets/controls",
       "source": "IPY_MODEL_2995a051d2b54ba0bc9fa79484e84593",
       "throttle_or_debounce": "",
       "watched_events": [
        "mouseenter",
        "mouseleave"
       ],
       "xy_coordinate_system": ""
      }
     },
     "3973b5bda0d84ecf8c357902e363e9b0": {
      "model_module": "jupyter-leaflet",
      "model_module_version": "^0.17",
      "model_name": "LeafletZoomControlModel",
      "state": {
       "_model_module_version": "^0.17",
       "_view_module_version": "^0.17",
       "options": [
        "position",
        "zoom_in_text",
        "zoom_in_title",
        "zoom_out_text",
        "zoom_out_title"
       ]
      }
     },
     "3a30fcc13b894125895c54063c61b8ae": {
      "model_module": "@jupyter-widgets/base",
      "model_module_version": "2.0.0",
      "model_name": "LayoutModel",
      "state": {}
     },
     "3aa49b994e364b5395e19be85e5f7831": {
      "model_module": "@jupyter-widgets/base",
      "model_module_version": "2.0.0",
      "model_name": "LayoutModel",
      "state": {
       "height": "28px",
       "padding": "0px 0px 0px 4px",
       "width": "28px"
      }
     },
     "3b1b87aaec4b403caa12a31ebdd2efda": {
      "model_module": "@jupyter-widgets/controls",
      "model_module_version": "2.0.0",
      "model_name": "HBoxModel",
      "state": {
       "children": [
        "IPY_MODEL_85c61a7b39394e84b840ecc63d188583",
        "IPY_MODEL_b7b2b6341a19464ca2da49cf3c2cc2d8"
       ],
       "layout": "IPY_MODEL_6a47c58df4d94c37aa47307188c43389"
      }
     },
     "3b36804cabf14809baf1f741acf9ce93": {
      "model_module": "@jupyter-widgets/base",
      "model_module_version": "2.0.0",
      "model_name": "LayoutModel",
      "state": {
       "height": "auto",
       "padding": "0px 0px 0px 4px",
       "width": "auto"
      }
     },
     "3b3c83e2b34941f8982a20c97d175e4e": {
      "model_module": "jupyter-leaflet",
      "model_module_version": "^0.17",
      "model_name": "LeafletMapModel",
      "state": {
       "_model_module_version": "^0.17",
       "_view_module_version": "^0.17",
       "bottom": 11114,
       "center": [
        52.06900189570869,
        5.20710097458847
       ],
       "controls": [
        "IPY_MODEL_a5b299815da7498eabb29416d92570e6",
        "IPY_MODEL_8341cb3076164624b7e34349793411ce",
        "IPY_MODEL_a95ec50196f047778f6a3f4534ccbd36",
        "IPY_MODEL_231f3ebf71334168bd00e672a1ab9d62",
        "IPY_MODEL_426a4ae8129e421fa3ed425cc1591203",
        "IPY_MODEL_2d5c3efd1c0a41e78a65bec2c03d74fe",
        "IPY_MODEL_282bef27a7134f54aaebdb4c15da121c",
        "IPY_MODEL_6bd363fdc270450dad363d59dda8fd8a",
        "IPY_MODEL_81ed5bda860246eaa1441254c9a41f58"
       ],
       "default_style": "IPY_MODEL_e7182c2028d14e429b64846671e7b88d",
       "dragging_style": "IPY_MODEL_aa76086f99ad45bbb89168a60d9535d0",
       "east": 10.590820312500002,
       "fullscreen": false,
       "interpolation": "bilinear",
       "layers": [
        "IPY_MODEL_d28ef60b9c9149f2bb3726c39dd41f15",
        "IPY_MODEL_75392a0a14304ad29080626079eb35b9",
        "IPY_MODEL_57a85597dd3143ba8a0c7ac602a91709",
        "IPY_MODEL_446b570daff74759bb0f48dbba477e2b"
       ],
       "layout": "IPY_MODEL_d39198af1cfe498c83c274c5834ade5b",
       "left": 16368,
       "max_zoom": 24,
       "modisdate": "2023-07-10",
       "north": 54.04648911335576,
       "options": [
        "bounce_at_zoom_limits",
        "box_zoom",
        "center",
        "close_popup_on_click",
        "double_click_zoom",
        "dragging",
        "fullscreen",
        "inertia",
        "inertia_deceleration",
        "inertia_max_speed",
        "interpolation",
        "keyboard",
        "keyboard_pan_offset",
        "keyboard_zoom_offset",
        "max_zoom",
        "min_zoom",
        "prefer_canvas",
        "scroll_wheel_zoom",
        "tap",
        "tap_tolerance",
        "touch_zoom",
        "world_copy_jump",
        "zoom",
        "zoom_animation_threshold",
        "zoom_delta",
        "zoom_snap"
       ],
       "prefer_canvas": false,
       "right": 17348,
       "scroll_wheel_zoom": true,
       "south": 49.993615462541136,
       "style": "IPY_MODEL_e7182c2028d14e429b64846671e7b88d",
       "top": 10514,
       "west": -0.17578125,
       "window_url": "http://localhost:8889/notebooks/python-gee.ipynb#",
       "zoom": 7
      }
     },
     "3c0d1b176ccf4330bf793c9dd26f51e6": {
      "model_module": "@jupyter-widgets/controls",
      "model_module_version": "2.0.0",
      "model_name": "RadioButtonsModel",
      "state": {
       "index": null,
       "layout": "IPY_MODEL_b661abf84e0742f7a51722b0e04b6307",
       "style": "IPY_MODEL_6ee0e704189b4ba393552a0bd7b1d0c9"
      }
     },
     "3c4c5382a5804c61bedbf42b06e66e9d": {
      "model_module": "jupyter-leaflet",
      "model_module_version": "^0.17",
      "model_name": "LeafletTileLayerModel",
      "state": {
       "_model_module_version": "^0.17",
       "_view_module_version": "^0.17",
       "attribution": "&copy; <a href=\"https://www.openstreetmap.org/copyright\">OpenStreetMap</a> contributors",
       "base": true,
       "max_zoom": 19,
       "min_zoom": 1,
       "name": "OpenStreetMap.Mapnik",
       "options": [
        "attribution",
        "bounds",
        "detect_retina",
        "max_native_zoom",
        "max_zoom",
        "min_native_zoom",
        "min_zoom",
        "no_wrap",
        "tile_size",
        "tms",
        "zoom_offset"
       ],
       "url": "https://tile.openstreetmap.org/{z}/{x}/{y}.png"
      }
     },
     "3cc11df045654b899eb0556e00f42f5f": {
      "model_module": "@jupyter-widgets/base",
      "model_module_version": "2.0.0",
      "model_name": "LayoutModel",
      "state": {
       "height": "600px"
      }
     },
     "3cc9f7c389af4f3d8bf21b69d7b37cd2": {
      "model_module": "@jupyter-widgets/base",
      "model_module_version": "2.0.0",
      "model_name": "LayoutModel",
      "state": {
       "height": "auto",
       "padding": "0px 0px 0px 4px",
       "width": "auto"
      }
     },
     "3cf9d39fe7874708a887cf6617d603f1": {
      "model_module": "@jupyter-widgets/controls",
      "model_module_version": "2.0.0",
      "model_name": "ToggleButtonStyleModel",
      "state": {
       "description_width": "",
       "font_family": null,
       "font_size": null,
       "font_style": null,
       "font_variant": null,
       "font_weight": null,
       "text_color": null,
       "text_decoration": null
      }
     },
     "3e2d4984bdcd49cabceb7616828a5598": {
      "model_module": "@jupyter-widgets/controls",
      "model_module_version": "2.0.0",
      "model_name": "ToggleButtonModel",
      "state": {
       "button_style": "primary",
       "icon": "globe",
       "layout": "IPY_MODEL_149adf675140467aa113a8fed284be8f",
       "style": "IPY_MODEL_e6b3ac57dae248b8a6ba8196d1221650",
       "tooltip": "Create timelapse"
      }
     },
     "3e68cce256d4480aa0e913432e09b0dc": {
      "model_module": "@jupyter-widgets/controls",
      "model_module_version": "2.0.0",
      "model_name": "HBoxModel",
      "state": {
       "children": [
        "IPY_MODEL_062c266e73084ea09daad6eaf86af60e",
        "IPY_MODEL_a38c326549b14fd3ae0ea28650ef32ab"
       ],
       "layout": "IPY_MODEL_380c1dd51656486fa7ccdce92ed9ab0b"
      }
     },
     "3ea2ad3f21fd46548cf05d75dedada21": {
      "model_module": "@jupyter-widgets/controls",
      "model_module_version": "2.0.0",
      "model_name": "ToggleButtonModel",
      "state": {
       "button_style": "primary",
       "icon": "globe",
       "layout": "IPY_MODEL_2f339f92154d42ad86d4e9b306555d43",
       "style": "IPY_MODEL_e65daa44cf3d4083b1cd643bec4047cd",
       "tooltip": "Create timelapse"
      }
     },
     "3eb37b08e4e24e7d9bda37842c076ecf": {
      "model_module": "@jupyter-widgets/controls",
      "model_module_version": "2.0.0",
      "model_name": "DescriptionStyleModel",
      "state": {
       "description_width": ""
      }
     },
     "3f4b042ebdeb4051b5a20606697e48d4": {
      "model_module": "@jupyter-widgets/base",
      "model_module_version": "2.0.0",
      "model_name": "LayoutModel",
      "state": {
       "height": "auto",
       "padding": "0px 0px 0px 4px",
       "width": "auto"
      }
     },
     "40451b4363084f1792ce212815715a1c": {
      "model_module": "@jupyter-widgets/controls",
      "model_module_version": "2.0.0",
      "model_name": "ToggleButtonModel",
      "state": {
       "icon": "server",
       "layout": "IPY_MODEL_9738ee23f30149a48e435f5f250c7a12",
       "style": "IPY_MODEL_d93c1bf62d944e7e9f0bd2957f0b3673",
       "tooltip": "Layers"
      }
     },
     "4105e498ea854081a314f87c573e66b0": {
      "model_module": "jupyter-leaflet",
      "model_module_version": "^0.17",
      "model_name": "LeafletMapModel",
      "state": {
       "_model_module_version": "^0.17",
       "_view_module_version": "^0.17",
       "bottom": 21959,
       "center": [
        51.962589,
        5.669627
       ],
       "default_style": "IPY_MODEL_078200d4db6b4cddb724dfbf77c93d35",
       "dragging_style": "IPY_MODEL_135c70dd13b34ecea4d5c17687ee33d8",
       "east": 8.360595703125002,
       "fullscreen": false,
       "interpolation": "bilinear",
       "layout": "IPY_MODEL_3541b657119e41d9be6fe1a8da11d029",
       "left": 33310,
       "max_zoom": 24,
       "modisdate": "2023-07-10",
       "north": 52.96518371955126,
       "options": [
        "bounce_at_zoom_limits",
        "box_zoom",
        "center",
        "close_popup_on_click",
        "double_click_zoom",
        "dragging",
        "fullscreen",
        "inertia",
        "inertia_deceleration",
        "inertia_max_speed",
        "interpolation",
        "keyboard",
        "keyboard_pan_offset",
        "keyboard_zoom_offset",
        "max_zoom",
        "min_zoom",
        "prefer_canvas",
        "scroll_wheel_zoom",
        "tap",
        "tap_tolerance",
        "touch_zoom",
        "world_copy_jump",
        "zoom",
        "zoom_animation_threshold",
        "zoom_delta",
        "zoom_snap"
       ],
       "prefer_canvas": false,
       "right": 34290,
       "scroll_wheel_zoom": true,
       "south": 50.93420001306369,
       "style": "IPY_MODEL_e0949d42bf6945c9a030ccf71c5dd876",
       "top": 21359,
       "west": 2.9772949218750004,
       "window_url": "http://localhost:8889/notebooks/python-gee.ipynb#",
       "zoom": 8
      }
     },
     "4193b15fe4314f3fa1962516d20bd684": {
      "model_module": "@jupyter-widgets/base",
      "model_module_version": "2.0.0",
      "model_name": "LayoutModel",
      "state": {
       "height": "auto",
       "padding": "0px 0px 0px 4px",
       "width": "auto"
      }
     },
     "423381f42bad4989a88d8a5cb0425d92": {
      "model_module": "@jupyter-widgets/base",
      "model_module_version": "2.0.0",
      "model_name": "LayoutModel",
      "state": {
       "max_height": "350px",
       "max_width": "340px",
       "overflow": "scroll"
      }
     },
     "42680e1df3eb45b2a382c26c24ce1544": {
      "model_module": "@jupyter-widgets/controls",
      "model_module_version": "2.0.0",
      "model_name": "DropdownModel",
      "state": {
       "index": null,
       "layout": "IPY_MODEL_5db4086a9bb043249972720687eb2c1b",
       "style": "IPY_MODEL_3eb37b08e4e24e7d9bda37842c076ecf"
      }
     },
     "426a4ae8129e421fa3ed425cc1591203": {
      "model_module": "jupyter-leaflet",
      "model_module_version": "^0.17",
      "model_name": "LeafletScaleControlModel",
      "state": {
       "_model_module_version": "^0.17",
       "_view_module_version": "^0.17",
       "imperial": true,
       "max_width": 100,
       "metric": true,
       "options": [
        "imperial",
        "max_width",
        "metric",
        "position",
        "update_when_idle"
       ],
       "position": "bottomleft",
       "update_when_idle": false
      }
     },
     "42b33048161f4b44b9e404866bf48713": {
      "model_module": "@jupyter-widgets/base",
      "model_module_version": "2.0.0",
      "model_name": "LayoutModel",
      "state": {}
     },
     "4318041ff01b496299a14bdf56958673": {
      "model_module": "@jupyter-widgets/controls",
      "model_module_version": "2.0.0",
      "model_name": "ToggleButtonModel",
      "state": {
       "icon": "globe",
       "layout": "IPY_MODEL_d6628f3e96ca4bef9276c3210cc36e3f",
       "style": "IPY_MODEL_f1948ea9e9454cc9ae1a78ecbf423274",
       "tooltip": "Search location/data"
      }
     },
     "4393e7cd61cb4b3db9755b9988b8b080": {
      "model_module": "@jupyter-widgets/controls",
      "model_module_version": "2.0.0",
      "model_name": "HBoxModel",
      "state": {
       "children": [
        "IPY_MODEL_10797411af554ebeb353fe08111330e5",
        "IPY_MODEL_09132e9f6e6c4c668efc1b5df303595f"
       ],
       "layout": "IPY_MODEL_08d0a54a026848cc96527167d235c3dc"
      }
     },
     "44665c3d3a024497a828a796231ed91d": {
      "model_module": "@jupyter-widgets/controls",
      "model_module_version": "2.0.0",
      "model_name": "ToggleButtonModel",
      "state": {
       "button_style": "primary",
       "icon": "bar-chart",
       "layout": "IPY_MODEL_a7b1ca5b1f7f4aa48216d8a721c0b67b",
       "style": "IPY_MODEL_6dd35f91f4b24b3f8375d41a15f490a5",
       "tooltip": "Plotting"
      }
     },
     "446b570daff74759bb0f48dbba477e2b": {
      "model_module": "jupyter-leaflet",
      "model_module_version": "^0.17",
      "model_name": "LeafletTileLayerModel",
      "state": {
       "_model_module_version": "^0.17",
       "_view_module_version": "^0.17",
       "attribution": "Google Earth Engine",
       "max_zoom": 24,
       "name": "Netherlands Boundaries",
       "options": [
        "attribution",
        "bounds",
        "detect_retina",
        "max_native_zoom",
        "max_zoom",
        "min_native_zoom",
        "min_zoom",
        "no_wrap",
        "tile_size",
        "tms",
        "zoom_offset"
       ],
       "url": "https://earthengine.googleapis.com/v1alpha/projects/earthengine-legacy/maps/4122fbdf01fb850a7c12372440968e86-f2e9f44da86ae30e8dcf22b6ff8a3dc0/tiles/{z}/{x}/{y}"
      }
     },
     "44aca7ce7d154a9388621fc4db177663": {
      "model_module": "@jupyter-widgets/controls",
      "model_module_version": "2.0.0",
      "model_name": "HTMLModel",
      "state": {
       "layout": "IPY_MODEL_89efcbca1ff04efb95829c32248a99bf",
       "style": "IPY_MODEL_edd3ed0df7384eb18e82007ee5edc7a7"
      }
     },
     "48f42a355dfa4f31b57b734d5156f21f": {
      "model_module": "@jupyter-widgets/controls",
      "model_module_version": "2.0.0",
      "model_name": "ToggleButtonStyleModel",
      "state": {
       "description_width": "",
       "font_family": null,
       "font_size": null,
       "font_style": null,
       "font_variant": null,
       "font_weight": null,
       "text_color": null,
       "text_decoration": null
      }
     },
     "49026735705446c8a99ddb5f25917377": {
      "model_module": "@jupyter-widgets/controls",
      "model_module_version": "2.0.0",
      "model_name": "ToggleButtonModel",
      "state": {
       "button_style": "primary",
       "icon": "adjust",
       "layout": "IPY_MODEL_d46476f626a643e9b16ee541e7428e37",
       "style": "IPY_MODEL_60d73c66f9d3404685c827f381daed79",
       "tooltip": "Planet imagery"
      }
     },
     "496a36ccca3d480e807f97b8464ef01e": {
      "model_module": "@jupyter-widgets/controls",
      "model_module_version": "2.0.0",
      "model_name": "VBoxModel",
      "state": {
       "_view_count": 1,
       "children": [
        "IPY_MODEL_55d4abe6c3a74b4e86d30038c7146a25"
       ],
       "layout": "IPY_MODEL_937942ba3be14b7caad36f4ea0d0253a"
      }
     },
     "4b0254605ba74c198dbf4ebccc3d5ed6": {
      "model_module": "@jupyter-widgets/base",
      "model_module_version": "2.0.0",
      "model_name": "LayoutModel",
      "state": {
       "height": "auto",
       "padding": "0px 0px 0px 4px",
       "width": "auto"
      }
     },
     "4c25b613aa3d4cd5894e3f84edff254c": {
      "model_module": "@jupyter-widgets/base",
      "model_module_version": "2.0.0",
      "model_name": "LayoutModel",
      "state": {
       "height": "auto",
       "padding": "0px 0px 0px 4px",
       "width": "auto"
      }
     },
     "4c671b8f2681460090fbef90925011ec": {
      "model_module": "@jupyter-widgets/controls",
      "model_module_version": "2.0.0",
      "model_name": "ToggleButtonModel",
      "state": {
       "button_style": "primary",
       "icon": "map",
       "layout": "IPY_MODEL_c0ea8521fb8349048aeac2bb3c711b62",
       "style": "IPY_MODEL_5f87cc5a9b4047dead69e2ae616ff92a",
       "tooltip": "Change basemap"
      }
     },
     "4d8fc7bc7d1e40f5a9c303bc5fe6dedc": {
      "model_module": "@jupyter-widgets/controls",
      "model_module_version": "2.0.0",
      "model_name": "ToggleButtonStyleModel",
      "state": {
       "description_width": "",
       "font_family": null,
       "font_size": null,
       "font_style": null,
       "font_variant": null,
       "font_weight": null,
       "text_color": null,
       "text_decoration": null
      }
     },
     "4e1d97a1d53d48efbbeed7c9dac9d8df": {
      "model_module": "jupyter-leaflet",
      "model_module_version": "^0.17",
      "model_name": "LeafletFullScreenControlModel",
      "state": {
       "_model_module_version": "^0.17",
       "_view_module_version": "^0.17",
       "options": [
        "position"
       ]
      }
     },
     "4e38fa24af2d46d183838f0c37db75b0": {
      "model_module": "@jupyter-widgets/controls",
      "model_module_version": "2.0.0",
      "model_name": "ToggleButtonModel",
      "state": {
       "button_style": "primary",
       "icon": "retweet",
       "layout": "IPY_MODEL_ea525665380940ea93c02efedb201a5f",
       "style": "IPY_MODEL_5471ef137e074385859bca51b068e362",
       "tooltip": "Convert Earth Engine JavaScript to Python"
      }
     },
     "4e48a0beb1184d8b82053742e06d3835": {
      "model_module": "@jupyter-widgets/controls",
      "model_module_version": "2.0.0",
      "model_name": "ToggleButtonModel",
      "state": {
       "button_style": "primary",
       "icon": "retweet",
       "layout": "IPY_MODEL_f4a906e2912a45f1a4bc0bf1884d5e81",
       "style": "IPY_MODEL_d8edb520393342d19933b5a51b8ccb4c",
       "tooltip": "Convert Earth Engine JavaScript to Python"
      }
     },
     "4e96789fe0af4830801c5b5be1e9214b": {
      "model_module": "@jupyter-widgets/controls",
      "model_module_version": "2.0.0",
      "model_name": "ToggleButtonStyleModel",
      "state": {
       "description_width": "",
       "font_family": null,
       "font_size": null,
       "font_style": null,
       "font_variant": null,
       "font_weight": null,
       "text_color": null,
       "text_decoration": null
      }
     },
     "4ec0ec162a194bbe86a0061f8c4ba90a": {
      "model_module": "@jupyter-widgets/controls",
      "model_module_version": "2.0.0",
      "model_name": "ToggleButtonModel",
      "state": {
       "button_style": "primary",
       "icon": "info",
       "layout": "IPY_MODEL_3f4b042ebdeb4051b5a20606697e48d4",
       "style": "IPY_MODEL_817bb5e0ae49435b94bef032801e7ac8",
       "tooltip": "Inspector"
      }
     },
     "52690c2d4ebe4d829d5abd9a14825b52": {
      "model_module": "@jupyter-widgets/base",
      "model_module_version": "2.0.0",
      "model_name": "LayoutModel",
      "state": {}
     },
     "5471ef137e074385859bca51b068e362": {
      "model_module": "@jupyter-widgets/controls",
      "model_module_version": "2.0.0",
      "model_name": "ToggleButtonStyleModel",
      "state": {
       "description_width": "",
       "font_family": null,
       "font_size": null,
       "font_style": null,
       "font_variant": null,
       "font_weight": null,
       "text_color": null,
       "text_decoration": null
      }
     },
     "54a4b394d21d4d08b63e114b26434820": {
      "model_module": "@jupyter-widgets/base",
      "model_module_version": "2.0.0",
      "model_name": "LayoutModel",
      "state": {
       "height": "28px",
       "width": "72px"
      }
     },
     "54f002aa2c7549c7a6fb09def525ec52": {
      "model_module": "@jupyter-widgets/base",
      "model_module_version": "2.0.0",
      "model_name": "LayoutModel",
      "state": {
       "height": "auto",
       "padding": "0px 0px 0px 4px",
       "width": "auto"
      }
     },
     "55d4abe6c3a74b4e86d30038c7146a25": {
      "model_module": "@jupyter-widgets/controls",
      "model_module_version": "2.0.0",
      "model_name": "ToggleButtonModel",
      "state": {
       "icon": "wrench",
       "layout": "IPY_MODEL_a5b6cd3798f54cc2837b114a15981a31",
       "style": "IPY_MODEL_2f6ceb6401c1452cb19ab7cc3104d76d",
       "tooltip": "Toolbar"
      }
     },
     "56ba1f0737b941c68ab400683aa436b4": {
      "model_module": "@jupyter-widgets/base",
      "model_module_version": "2.0.0",
      "model_name": "LayoutModel",
      "state": {
       "height": "auto",
       "padding": "0px 0px 0px 4px",
       "width": "auto"
      }
     },
     "56c24c7ae04a44979cf3e2ccd61d5795": {
      "model_module": "@jupyter-widgets/controls",
      "model_module_version": "2.0.0",
      "model_name": "VBoxModel",
      "state": {
       "children": [
        "IPY_MODEL_776ed56d03db4bf6a921caecd5987078",
        "IPY_MODEL_0247c48b0cf64d8cbd1479c811a2fb8f"
       ],
       "layout": "IPY_MODEL_636179067c2f499e9973dc048c2177dd"
      }
     },
     "576d0c09fde84d65b28af054110a390f": {
      "model_module": "@jupyter-widgets/controls",
      "model_module_version": "2.0.0",
      "model_name": "ToggleButtonStyleModel",
      "state": {
       "description_width": "",
       "font_family": null,
       "font_size": null,
       "font_style": null,
       "font_variant": null,
       "font_weight": null,
       "text_color": null,
       "text_decoration": null
      }
     },
     "57a85597dd3143ba8a0c7ac602a91709": {
      "model_module": "jupyter-leaflet",
      "model_module_version": "^0.17",
      "model_name": "LeafletTileLayerModel",
      "state": {
       "_model_module_version": "^0.17",
       "_view_module_version": "^0.17",
       "attribution": "Google Earth Engine",
       "max_zoom": 24,
       "name": "My First Image",
       "options": [
        "attribution",
        "bounds",
        "detect_retina",
        "max_native_zoom",
        "max_zoom",
        "min_native_zoom",
        "min_zoom",
        "no_wrap",
        "tile_size",
        "tms",
        "zoom_offset"
       ],
       "url": "https://earthengine.googleapis.com/v1alpha/projects/earthengine-legacy/maps/312df588a010036d44a7458c24df41e0-fbe378dfdec4518eb7bdc90e1fd557f4/tiles/{z}/{x}/{y}"
      }
     },
     "5800d897389b4fdbbd7a9cad1aa1e339": {
      "model_module": "@jupyter-widgets/base",
      "model_module_version": "2.0.0",
      "model_name": "LayoutModel",
      "state": {
       "max_height": "350px",
       "max_width": "340px",
       "overflow": "scroll"
      }
     },
     "58100b5c234b4fb5bc9e1515a4ee473b": {
      "model_module": "@jupyter-widgets/controls",
      "model_module_version": "2.0.0",
      "model_name": "ToggleButtonModel",
      "state": {
       "button_style": "primary",
       "icon": "line-chart",
       "layout": "IPY_MODEL_5c3c63bf42844a8d9e2bfd97cf3a1f99",
       "style": "IPY_MODEL_b28f5fa9dbea43c6b93a543b8adde081",
       "tooltip": "Creating and plotting transects"
      }
     },
     "581b4e95807148fda5633b6dae669256": {
      "model_module": "@jupyter-widgets/controls",
      "model_module_version": "2.0.0",
      "model_name": "VBoxModel",
      "state": {
       "children": [
        "IPY_MODEL_c099e3725f494d74acbfa12576437bf8",
        "IPY_MODEL_5d852688adda43579d989424246d35fd"
       ],
       "layout": "IPY_MODEL_bb2203b1d2ba43bb81cfcdb95590ae5a"
      }
     },
     "58f293a6b77a4628b974ead2c3285b8a": {
      "model_module": "@jupyter-widgets/controls",
      "model_module_version": "2.0.0",
      "model_name": "ToggleButtonModel",
      "state": {
       "button_style": "primary",
       "icon": "adjust",
       "layout": "IPY_MODEL_fbae2223d4984c59ab982cdbcee8a9d5",
       "style": "IPY_MODEL_661686cfea62445aa43e9469eccd0f98",
       "tooltip": "Planet imagery"
      }
     },
     "5a528b9b85c748df8980b81a3f73f812": {
      "model_module": "@jupyter-widgets/controls",
      "model_module_version": "2.0.0",
      "model_name": "ToggleButtonStyleModel",
      "state": {
       "description_width": "",
       "font_family": null,
       "font_size": null,
       "font_style": null,
       "font_variant": null,
       "font_weight": null,
       "text_color": null,
       "text_decoration": null
      }
     },
     "5a6d68340da34b8eb42d062359fe7afa": {
      "model_module": "jupyter-leaflet",
      "model_module_version": "^0.17",
      "model_name": "LeafletMapStyleModel",
      "state": {
       "_model_module_version": "^0.17",
       "cursor": "move"
      }
     },
     "5a7f1ed32c20418394c0b3e7b3bd51aa": {
      "model_module": "jupyter-leaflet",
      "model_module_version": "^0.17",
      "model_name": "LeafletDrawControlModel",
      "state": {
       "_model_module_version": "^0.17",
       "_view_module_version": "^0.17",
       "marker": {
        "shapeOptions": {
         "color": "#3388ff"
        }
       },
       "options": [
        "position"
       ],
       "polygon": {
        "shapeOptions": {
         "clickable": true,
         "color": "#3388ff",
         "fill": true,
         "fillColor": null,
         "fillOpacity": 0.2,
         "opacity": 0.5,
         "stroke": true,
         "weight": 4
        }
       },
       "polyline": {
        "shapeOptions": {
         "clickable": true,
         "color": "#3388ff",
         "fill": false,
         "opacity": 0.5,
         "stroke": true,
         "weight": 4
        }
       },
       "rectangle": {
        "shapeOptions": {
         "clickable": true,
         "color": "#3388ff",
         "fill": true,
         "fillColor": null,
         "fillOpacity": 0.2,
         "opacity": 0.5,
         "stroke": true,
         "weight": 4
        }
       }
      }
     },
     "5aeb0c4951db40378a1b975756fb4062": {
      "model_module": "@jupyter-widgets/controls",
      "model_module_version": "2.0.0",
      "model_name": "GridBoxModel",
      "state": {
       "children": [
        "IPY_MODEL_4ec0ec162a194bbe86a0061f8c4ba90a",
        "IPY_MODEL_b5e99110faf7492f925e5ef903022a68",
        "IPY_MODEL_187d746c42da4c33b7653a03415304be",
        "IPY_MODEL_b9a38f9656ed45fa8c36ad0798294c09",
        "IPY_MODEL_4e38fa24af2d46d183838f0c37db75b0",
        "IPY_MODEL_852b906937f74dbe97289607877386c0"
       ],
       "layout": "IPY_MODEL_f8132c05101c476db7b1dc25f89a93ac"
      }
     },
     "5c015f5414854dfd84f5c66b42d6f5c8": {
      "model_module": "@jupyter-widgets/controls",
      "model_module_version": "2.0.0",
      "model_name": "ToggleButtonStyleModel",
      "state": {
       "description_width": "",
       "font_family": null,
       "font_size": null,
       "font_style": null,
       "font_variant": null,
       "font_weight": null,
       "text_color": null,
       "text_decoration": null
      }
     },
     "5c20cd06238c4c1eb0f59f32455a0b3f": {
      "model_module": "jupyter-leaflet",
      "model_module_version": "^0.17",
      "model_name": "LeafletScaleControlModel",
      "state": {
       "_model_module_version": "^0.17",
       "_view_module_version": "^0.17",
       "imperial": true,
       "max_width": 100,
       "metric": true,
       "options": [
        "imperial",
        "max_width",
        "metric",
        "position",
        "update_when_idle"
       ],
       "position": "bottomleft",
       "update_when_idle": false
      }
     },
     "5c21a084c29b4b5b80d77c5c97f26a38": {
      "model_module": "@jupyter-widgets/controls",
      "model_module_version": "2.0.0",
      "model_name": "ToggleButtonModel",
      "state": {
       "button_style": "primary",
       "icon": "info",
       "layout": "IPY_MODEL_4c25b613aa3d4cd5894e3f84edff254c",
       "style": "IPY_MODEL_e59b0dc3328f44eb8f7a15e649a0d61e",
       "tooltip": "Inspector"
      }
     },
     "5c3c63bf42844a8d9e2bfd97cf3a1f99": {
      "model_module": "@jupyter-widgets/base",
      "model_module_version": "2.0.0",
      "model_name": "LayoutModel",
      "state": {
       "height": "auto",
       "padding": "0px 0px 0px 4px",
       "width": "auto"
      }
     },
     "5d0e9f26b1454310a95f9e98b714d7dd": {
      "model_module": "@jupyter-widgets/controls",
      "model_module_version": "2.0.0",
      "model_name": "VBoxModel",
      "state": {
       "children": [
        "IPY_MODEL_5aeb0c4951db40378a1b975756fb4062"
       ],
       "layout": "IPY_MODEL_c425f6141d394b868930ddc09afb3190"
      }
     },
     "5d5dcea450294959889f1a2696ef4712": {
      "model_module": "@jupyter-widgets/controls",
      "model_module_version": "2.0.0",
      "model_name": "ToggleButtonStyleModel",
      "state": {
       "description_width": "",
       "font_family": null,
       "font_size": null,
       "font_style": null,
       "font_variant": null,
       "font_weight": null,
       "text_color": null,
       "text_decoration": null
      }
     },
     "5d6041997f08467ea961649ab8a14b39": {
      "model_module": "ipyevents",
      "model_module_version": "2.0.1",
      "model_name": "EventModel",
      "state": {
       "_supported_key_events": [
        "keydown",
        "keyup"
       ],
       "_supported_mouse_events": [
        "click",
        "auxclick",
        "dblclick",
        "mouseenter",
        "mouseleave",
        "mousedown",
        "mouseup",
        "mousemove",
        "wheel",
        "contextmenu",
        "dragstart",
        "drag",
        "dragend",
        "dragenter",
        "dragover",
        "dragleave",
        "drop"
       ],
       "_supported_touch_events": [
        "touchstart",
        "touchend",
        "touchmove",
        "touchcancel"
       ],
       "_view_module": "@jupyter-widgets/controls",
       "source": "IPY_MODEL_3702fcd7e5bf4491be1a51e4eceedc83",
       "throttle_or_debounce": "",
       "watched_events": [
        "mouseenter",
        "mouseleave"
       ],
       "xy_coordinate_system": ""
      }
     },
     "5d852688adda43579d989424246d35fd": {
      "model_module": "@jupyter-widgets/controls",
      "model_module_version": "2.0.0",
      "model_name": "TextModel",
      "state": {
       "layout": "IPY_MODEL_0647f00bf6fb400dab66f5488425dba8",
       "placeholder": "Search by place name or address",
       "style": "IPY_MODEL_b0691932844945fb80f420c668f890e2",
       "tooltip": "Search location"
      }
     },
     "5db4086a9bb043249972720687eb2c1b": {
      "model_module": "@jupyter-widgets/base",
      "model_module_version": "2.0.0",
      "model_name": "LayoutModel",
      "state": {
       "max_width": "279px",
       "min_width": "279px"
      }
     },
     "5e6b45a867954416873b2c592476c3a1": {
      "model_module": "@jupyter-widgets/controls",
      "model_module_version": "2.0.0",
      "model_name": "ToggleButtonModel",
      "state": {
       "button_style": "primary",
       "icon": "plus",
       "layout": "IPY_MODEL_3cc9f7c389af4f3d8bf21b69d7b37cd2",
       "style": "IPY_MODEL_b32f10cc80cb400381b1c8a7310568cb",
       "tooltip": "Expand toolbar"
      }
     },
     "5f87cc5a9b4047dead69e2ae616ff92a": {
      "model_module": "@jupyter-widgets/controls",
      "model_module_version": "2.0.0",
      "model_name": "ToggleButtonStyleModel",
      "state": {
       "description_width": "",
       "font_family": null,
       "font_size": null,
       "font_style": null,
       "font_variant": null,
       "font_weight": null,
       "text_color": null,
       "text_decoration": null
      }
     },
     "60c964dd5d824b329c405908d6468bc0": {
      "model_module": "@jupyter-widgets/controls",
      "model_module_version": "2.0.0",
      "model_name": "DescriptionStyleModel",
      "state": {
       "description_width": ""
      }
     },
     "60d73c66f9d3404685c827f381daed79": {
      "model_module": "@jupyter-widgets/controls",
      "model_module_version": "2.0.0",
      "model_name": "ToggleButtonStyleModel",
      "state": {
       "description_width": "",
       "font_family": null,
       "font_size": null,
       "font_style": null,
       "font_variant": null,
       "font_weight": null,
       "text_color": null,
       "text_decoration": null
      }
     },
     "615f53baa56240628fcd6fd263451850": {
      "model_module": "@jupyter-widgets/controls",
      "model_module_version": "2.0.0",
      "model_name": "ToggleButtonModel",
      "state": {
       "button_style": "primary",
       "icon": "globe",
       "layout": "IPY_MODEL_fc8908fc109e40369899ef90d2d7439a",
       "style": "IPY_MODEL_9c035def315a4c149f96515784f84012",
       "tooltip": "Create timelapse"
      }
     },
     "61b450500c3f44d98dcb7d7714b2db8b": {
      "model_module": "jupyter-leaflet",
      "model_module_version": "^0.17",
      "model_name": "LeafletDrawControlModel",
      "state": {
       "_model_module_version": "^0.17",
       "_view_module_version": "^0.17",
       "marker": {
        "shapeOptions": {
         "color": "#3388ff"
        }
       },
       "options": [
        "position"
       ],
       "rectangle": {
        "shapeOptions": {
         "color": "#3388ff"
        }
       }
      }
     },
     "61bad3fbe0f64a1ab8cd816cba31255a": {
      "model_module": "@jupyter-widgets/base",
      "model_module_version": "2.0.0",
      "model_name": "LayoutModel",
      "state": {
       "max_width": "57px",
       "min_width": "57px"
      }
     },
     "636179067c2f499e9973dc048c2177dd": {
      "model_module": "@jupyter-widgets/base",
      "model_module_version": "2.0.0",
      "model_name": "LayoutModel",
      "state": {}
     },
     "63783cf8ec044a0f8174ac830acc415d": {
      "model_module": "@jupyter-widgets/controls",
      "model_module_version": "2.0.0",
      "model_name": "ToggleButtonStyleModel",
      "state": {
       "description_width": "",
       "font_family": null,
       "font_size": null,
       "font_style": null,
       "font_variant": null,
       "font_weight": null,
       "text_color": null,
       "text_decoration": null
      }
     },
     "64033914b34f45a4892a147463c8d2d6": {
      "model_module": "@jupyter-widgets/base",
      "model_module_version": "2.0.0",
      "model_name": "LayoutModel",
      "state": {}
     },
     "661686cfea62445aa43e9469eccd0f98": {
      "model_module": "@jupyter-widgets/controls",
      "model_module_version": "2.0.0",
      "model_name": "ToggleButtonStyleModel",
      "state": {
       "description_width": "",
       "font_family": null,
       "font_size": null,
       "font_style": null,
       "font_variant": null,
       "font_weight": null,
       "text_color": null,
       "text_decoration": null
      }
     },
     "66a2be9f85be496fb91e70e0b789ccc1": {
      "model_module": "@jupyter-widgets/base",
      "model_module_version": "2.0.0",
      "model_name": "LayoutModel",
      "state": {
       "height": "28px",
       "padding": "0px 0px 0px 4px",
       "width": "28px"
      }
     },
     "66d92561e48d471a9b29fa3ef9229e6e": {
      "model_module": "jupyter-leaflet",
      "model_module_version": "^0.17",
      "model_name": "LeafletTileLayerModel",
      "state": {
       "_model_module_version": "^0.17",
       "_view_module_version": "^0.17",
       "attribution": "&copy; <a href=\"https://www.openstreetmap.org/copyright\">OpenStreetMap</a> contributors",
       "base": true,
       "max_zoom": 19,
       "min_zoom": 1,
       "name": "OpenStreetMap.Mapnik",
       "options": [
        "attribution",
        "bounds",
        "detect_retina",
        "max_native_zoom",
        "max_zoom",
        "min_native_zoom",
        "min_zoom",
        "no_wrap",
        "tile_size",
        "tms",
        "zoom_offset"
       ],
       "url": "https://tile.openstreetmap.org/{z}/{x}/{y}.png"
      }
     },
     "66da86da8fb848d8a5fe8f9d8d741e69": {
      "model_module": "@jupyter-widgets/base",
      "model_module_version": "2.0.0",
      "model_name": "LayoutModel",
      "state": {
       "height": "auto",
       "padding": "0px 0px 0px 4px",
       "width": "auto"
      }
     },
     "67e69a07ae1f4101a123de8049f4d03d": {
      "model_module": "@jupyter-widgets/controls",
      "model_module_version": "2.0.0",
      "model_name": "ToggleButtonModel",
      "state": {
       "button_style": "primary",
       "icon": "fast-forward",
       "layout": "IPY_MODEL_8fa7d56ae5bc49f389ef4de89da8ce52",
       "style": "IPY_MODEL_4d8fc7bc7d1e40f5a9c303bc5fe6dedc",
       "tooltip": "Activate timeslider"
      }
     },
     "68996b4629894a398ebf28e0f784a9b1": {
      "model_module": "@jupyter-widgets/base",
      "model_module_version": "2.0.0",
      "model_name": "LayoutModel",
      "state": {
       "height": "auto",
       "padding": "0px 0px 0px 4px",
       "width": "auto"
      }
     },
     "68a19d081d9f426090dc5a2c3ea52fb0": {
      "model_module": "@jupyter-widgets/base",
      "model_module_version": "2.0.0",
      "model_name": "LayoutModel",
      "state": {
       "height": "28px",
       "padding": "0px 0px 0px 4px",
       "width": "28px"
      }
     },
     "6a47c58df4d94c37aa47307188c43389": {
      "model_module": "@jupyter-widgets/base",
      "model_module_version": "2.0.0",
      "model_name": "LayoutModel",
      "state": {}
     },
     "6a4e0a29928f4aa28298e716016bc269": {
      "model_module": "@jupyter-widgets/base",
      "model_module_version": "2.0.0",
      "model_name": "LayoutModel",
      "state": {}
     },
     "6bd363fdc270450dad363d59dda8fd8a": {
      "model_module": "jupyter-leaflet",
      "model_module_version": "^0.17",
      "model_name": "LeafletAttributionControlModel",
      "state": {
       "_model_module_version": "^0.17",
       "_view_module_version": "^0.17",
       "options": [
        "position",
        "prefix"
       ],
       "position": "bottomright",
       "prefix": "ipyleaflet"
      }
     },
     "6c913350fc1c4ea693c4cd3553632b75": {
      "model_module": "@jupyter-widgets/controls",
      "model_module_version": "2.0.0",
      "model_name": "ToggleButtonStyleModel",
      "state": {
       "description_width": "",
       "font_family": null,
       "font_size": null,
       "font_style": null,
       "font_variant": null,
       "font_weight": null,
       "text_color": null,
       "text_decoration": null
      }
     },
     "6dd35f91f4b24b3f8375d41a15f490a5": {
      "model_module": "@jupyter-widgets/controls",
      "model_module_version": "2.0.0",
      "model_name": "ToggleButtonStyleModel",
      "state": {
       "description_width": "",
       "font_family": null,
       "font_size": null,
       "font_style": null,
       "font_variant": null,
       "font_weight": null,
       "text_color": null,
       "text_decoration": null
      }
     },
     "6e11e9a459c1469cb826efcb3f10784d": {
      "model_module": "@jupyter-widgets/controls",
      "model_module_version": "2.0.0",
      "model_name": "TextStyleModel",
      "state": {
       "description_width": "",
       "font_size": null,
       "text_color": null
      }
     },
     "6ee0e704189b4ba393552a0bd7b1d0c9": {
      "model_module": "@jupyter-widgets/controls",
      "model_module_version": "2.0.0",
      "model_name": "DescriptionStyleModel",
      "state": {
       "description_width": ""
      }
     },
     "6f85c5d24b4a43748dab6b7a1e9d63e2": {
      "model_module": "@jupyter-widgets/controls",
      "model_module_version": "2.0.0",
      "model_name": "ToggleButtonModel",
      "state": {
       "button_style": "primary",
       "icon": "fast-forward",
       "layout": "IPY_MODEL_f440af596bfe46059f22ecf73c5effc0",
       "style": "IPY_MODEL_124f538a6aa34a86b24340012c371e08",
       "tooltip": "Activate timeslider"
      }
     },
     "708e00eee7c74b8eacef2d9515f327e2": {
      "model_module": "@jupyter-widgets/controls",
      "model_module_version": "2.0.0",
      "model_name": "VBoxModel",
      "state": {
       "_view_count": 1,
       "children": [
        "IPY_MODEL_fb7d6f3eee1b4db59d57194380d5ee7c"
       ],
       "layout": "IPY_MODEL_0476be0d463042769c940937d44673d1"
      }
     },
     "7117af0914314706acfd933c8edd5bd6": {
      "model_module": "@jupyter-widgets/controls",
      "model_module_version": "2.0.0",
      "model_name": "ToggleButtonModel",
      "state": {
       "icon": "globe",
       "layout": "IPY_MODEL_66a2be9f85be496fb91e70e0b789ccc1",
       "style": "IPY_MODEL_f15fc0c85a07441292e50fa437898a7c",
       "tooltip": "Search location/data"
      }
     },
     "71863dc6d0e84a8c9a4ff98d207dc697": {
      "model_module": "@jupyter-widgets/base",
      "model_module_version": "2.0.0",
      "model_name": "LayoutModel",
      "state": {
       "height": "auto",
       "padding": "0px 0px 0px 4px",
       "width": "auto"
      }
     },
     "71c4f94c912349ffb295c4d783b24580": {
      "model_module": "jupyter-leaflet",
      "model_module_version": "^0.17",
      "model_name": "LeafletFullScreenControlModel",
      "state": {
       "_model_module_version": "^0.17",
       "_view_module_version": "^0.17",
       "options": [
        "position"
       ]
      }
     },
     "721fa89ae4a84479bed0b3ffcae44184": {
      "model_module": "@jupyter-widgets/base",
      "model_module_version": "2.0.0",
      "model_name": "LayoutModel",
      "state": {
       "height": "auto",
       "padding": "0px 0px 0px 4px",
       "width": "auto"
      }
     },
     "73a2215c188b47beaeb77cef3e232d64": {
      "model_module": "@jupyter-widgets/controls",
      "model_module_version": "2.0.0",
      "model_name": "ToggleButtonModel",
      "state": {
       "button_style": "primary",
       "icon": "random",
       "layout": "IPY_MODEL_ab9c553394894735b6d5803dd6b8a442",
       "style": "IPY_MODEL_799186bf0f034f69819c5f6dd79e0fa1",
       "tooltip": "Sankey plots"
      }
     },
     "7416d2fbbfb943c4bc2c335c286e138d": {
      "model_module": "@jupyter-widgets/controls",
      "model_module_version": "2.0.0",
      "model_name": "ToggleButtonStyleModel",
      "state": {
       "description_width": "",
       "font_family": null,
       "font_size": null,
       "font_style": null,
       "font_variant": null,
       "font_weight": null,
       "text_color": null,
       "text_decoration": null
      }
     },
     "747e6b7b59e94ffeb086bbea9ef0acda": {
      "model_module": "jupyter-leaflet",
      "model_module_version": "^0.17",
      "model_name": "LeafletScaleControlModel",
      "state": {
       "_model_module_version": "^0.17",
       "_view_module_version": "^0.17",
       "imperial": true,
       "max_width": 100,
       "metric": true,
       "options": [
        "imperial",
        "max_width",
        "metric",
        "position",
        "update_when_idle"
       ],
       "position": "bottomleft",
       "update_when_idle": false
      }
     },
     "74a6345400814d998502c05401d33ea0": {
      "model_module": "@jupyter-widgets/controls",
      "model_module_version": "2.0.0",
      "model_name": "ToggleButtonModel",
      "state": {
       "button_style": "primary",
       "icon": "folder-open",
       "layout": "IPY_MODEL_a5977adef0fe476fbf81ff42b1793cae",
       "style": "IPY_MODEL_bb3f59f5275d4b4da0938430025dbb60",
       "tooltip": "Open local vector/raster data"
      }
     },
     "74c4229b3e1e4f86a9b0ffc32763f8bf": {
      "model_module": "@jupyter-widgets/controls",
      "model_module_version": "2.0.0",
      "model_name": "ToggleButtonModel",
      "state": {
       "button_style": "primary",
       "icon": "fast-forward",
       "layout": "IPY_MODEL_d442411d88d64c24be56a565ab5189f1",
       "style": "IPY_MODEL_801f170e15884c508b95c45fa6f4c8ad",
       "tooltip": "Activate timeslider"
      }
     },
     "75392a0a14304ad29080626079eb35b9": {
      "model_module": "jupyter-leaflet",
      "model_module_version": "^0.17",
      "model_name": "LeafletTileLayerModel",
      "state": {
       "_model_module_version": "^0.17",
       "_view_module_version": "^0.17",
       "attribution": "Google",
       "max_zoom": 24,
       "name": "Google Maps",
       "options": [
        "attribution",
        "bounds",
        "detect_retina",
        "max_native_zoom",
        "max_zoom",
        "min_native_zoom",
        "min_zoom",
        "no_wrap",
        "tile_size",
        "tms",
        "zoom_offset"
       ],
       "url": "https://mt1.google.com/vt/lyrs=m&x={x}&y={y}&z={z}"
      }
     },
     "764e0e3d2c7b4d529799f9130493f7e7": {
      "model_module": "@jupyter-widgets/base",
      "model_module_version": "2.0.0",
      "model_name": "LayoutModel",
      "state": {
       "max_width": "57px",
       "min_width": "57px"
      }
     },
     "76a3bd4b9a1d4de3ac1ebefa9e9c8ffb": {
      "model_module": "@jupyter-widgets/controls",
      "model_module_version": "2.0.0",
      "model_name": "ToggleButtonModel",
      "state": {
       "button_style": "primary",
       "icon": "hand-o-up",
       "layout": "IPY_MODEL_68996b4629894a398ebf28e0f784a9b1",
       "style": "IPY_MODEL_a8b9e418c6a9413aab1ab2f800d593f4",
       "tooltip": "Collect training samples"
      }
     },
     "776ed56d03db4bf6a921caecd5987078": {
      "model_module": "@jupyter-widgets/controls",
      "model_module_version": "2.0.0",
      "model_name": "ToggleButtonsModel",
      "state": {
       "_options_labels": [
        "name/address",
        "lat-lon",
        "data"
       ],
       "button_style": "",
       "icons": [],
       "index": 0,
       "layout": "IPY_MODEL_ae27a620471c447e9ab5321f9af7c15a",
       "style": "IPY_MODEL_e698c80ebd6f47c5a11d65a4ac8b9254",
       "tooltips": [
        "Search by place name or address",
        "Search by lat-lon coordinates",
        "Search Earth Engine data catalog"
       ]
      }
     },
     "791178391d3b4441886e6796dd15eeff": {
      "model_module": "@jupyter-widgets/controls",
      "model_module_version": "2.0.0",
      "model_name": "ToggleButtonStyleModel",
      "state": {
       "description_width": "",
       "font_family": null,
       "font_size": null,
       "font_style": null,
       "font_variant": null,
       "font_weight": null,
       "text_color": null,
       "text_decoration": null
      }
     },
     "793867b4b9ec4f1794418d8e1d5f53b5": {
      "model_module": "@jupyter-widgets/controls",
      "model_module_version": "2.0.0",
      "model_name": "ToggleButtonStyleModel",
      "state": {
       "description_width": "",
       "font_family": null,
       "font_size": null,
       "font_style": null,
       "font_variant": null,
       "font_weight": null,
       "text_color": null,
       "text_decoration": null
      }
     },
     "799186bf0f034f69819c5f6dd79e0fa1": {
      "model_module": "@jupyter-widgets/controls",
      "model_module_version": "2.0.0",
      "model_name": "ToggleButtonStyleModel",
      "state": {
       "description_width": "",
       "font_family": null,
       "font_size": null,
       "font_style": null,
       "font_variant": null,
       "font_weight": null,
       "text_color": null,
       "text_decoration": null
      }
     },
     "79f1106142cb41f987e6acd2f2ccbd93": {
      "model_module": "@jupyter-widgets/controls",
      "model_module_version": "2.0.0",
      "model_name": "ToggleButtonStyleModel",
      "state": {
       "description_width": "",
       "font_family": null,
       "font_size": null,
       "font_style": null,
       "font_variant": null,
       "font_weight": null,
       "text_color": null,
       "text_decoration": null
      }
     },
     "79f713cb2e264699a8836d52619c30bc": {
      "model_module": "@jupyter-widgets/controls",
      "model_module_version": "2.0.0",
      "model_name": "ToggleButtonModel",
      "state": {
       "button_style": "primary",
       "icon": "random",
       "layout": "IPY_MODEL_7c400f8dc4384e56a7f3b26098760ed7",
       "style": "IPY_MODEL_96eb74c412c7444cae696b07a47af35e",
       "tooltip": "Sankey plots"
      }
     },
     "7acfed31ebf94d67a54a283403dba4ea": {
      "model_module": "jupyter-leaflet",
      "model_module_version": "^0.17",
      "model_name": "LeafletWidgetControlModel",
      "state": {
       "_model_module": "jupyter-leaflet",
       "_model_module_version": "^0.17",
       "_view_count": null,
       "_view_module": "jupyter-leaflet",
       "_view_module_version": "^0.17",
       "options": [
        "position",
        "transparent_bg"
       ],
       "position": "topleft",
       "widget": "IPY_MODEL_3702fcd7e5bf4491be1a51e4eceedc83"
      }
     },
     "7c400f8dc4384e56a7f3b26098760ed7": {
      "model_module": "@jupyter-widgets/base",
      "model_module_version": "2.0.0",
      "model_name": "LayoutModel",
      "state": {
       "height": "auto",
       "padding": "0px 0px 0px 4px",
       "width": "auto"
      }
     },
     "7d6d3b27ef2141329b5f21f144090824": {
      "model_module": "@jupyter-widgets/controls",
      "model_module_version": "2.0.0",
      "model_name": "ToggleButtonStyleModel",
      "state": {
       "description_width": "",
       "font_family": null,
       "font_size": null,
       "font_style": null,
       "font_variant": null,
       "font_weight": null,
       "text_color": null,
       "text_decoration": null
      }
     },
     "7ddde18649da4b40b2591758b2e3b7f5": {
      "model_module": "@jupyter-widgets/controls",
      "model_module_version": "2.0.0",
      "model_name": "ToggleButtonStyleModel",
      "state": {
       "description_width": "",
       "font_family": null,
       "font_size": null,
       "font_style": null,
       "font_variant": null,
       "font_weight": null,
       "text_color": null,
       "text_decoration": null
      }
     },
     "7df29b96e0c34da38661a21928799eaf": {
      "model_module": "@jupyter-widgets/controls",
      "model_module_version": "2.0.0",
      "model_name": "ToggleButtonStyleModel",
      "state": {
       "description_width": "",
       "font_family": null,
       "font_size": null,
       "font_style": null,
       "font_variant": null,
       "font_weight": null,
       "text_color": null,
       "text_decoration": null
      }
     },
     "801f170e15884c508b95c45fa6f4c8ad": {
      "model_module": "@jupyter-widgets/controls",
      "model_module_version": "2.0.0",
      "model_name": "ToggleButtonStyleModel",
      "state": {
       "description_width": "",
       "font_family": null,
       "font_size": null,
       "font_style": null,
       "font_variant": null,
       "font_weight": null,
       "text_color": null,
       "text_decoration": null
      }
     },
     "81405f6c16e54316aeaa817382249ea3": {
      "model_module": "@jupyter-widgets/controls",
      "model_module_version": "2.0.0",
      "model_name": "ToggleButtonModel",
      "state": {
       "button_style": "primary",
       "icon": "fast-forward",
       "layout": "IPY_MODEL_a4f8a10b4aee41d9b54a66ca41ee139c",
       "style": "IPY_MODEL_9a6c607c6ca14ca39fb153253055baa9",
       "tooltip": "Activate timeslider"
      }
     },
     "817bb5e0ae49435b94bef032801e7ac8": {
      "model_module": "@jupyter-widgets/controls",
      "model_module_version": "2.0.0",
      "model_name": "ToggleButtonStyleModel",
      "state": {
       "description_width": "",
       "font_family": null,
       "font_size": null,
       "font_style": null,
       "font_variant": null,
       "font_weight": null,
       "text_color": null,
       "text_decoration": null
      }
     },
     "81ed5bda860246eaa1441254c9a41f58": {
      "model_module": "jupyter-leaflet",
      "model_module_version": "^0.17",
      "model_name": "LeafletLayersControlModel",
      "state": {
       "_model_module_version": "^0.17",
       "_view_module_version": "^0.17",
       "options": [
        "position"
       ],
       "position": "topright"
      }
     },
     "8341cb3076164624b7e34349793411ce": {
      "model_module": "jupyter-leaflet",
      "model_module_version": "^0.17",
      "model_name": "LeafletZoomControlModel",
      "state": {
       "_model_module_version": "^0.17",
       "_view_module_version": "^0.17",
       "options": [
        "position",
        "zoom_in_text",
        "zoom_in_title",
        "zoom_out_text",
        "zoom_out_title"
       ]
      }
     },
     "83bd5148ee3a423588f866c442368803": {
      "model_module": "@jupyter-widgets/base",
      "model_module_version": "2.0.0",
      "model_name": "LayoutModel",
      "state": {
       "height": "28px",
       "width": "72px"
      }
     },
     "83bf90586b934279a97460feb4fa9ad5": {
      "model_module": "@jupyter-widgets/base",
      "model_module_version": "2.0.0",
      "model_name": "LayoutModel",
      "state": {}
     },
     "83cc58da51cd4ff7a0fb7543969da45b": {
      "model_module": "@jupyter-widgets/controls",
      "model_module_version": "2.0.0",
      "model_name": "VBoxModel",
      "state": {
       "children": [
        "IPY_MODEL_e049b9dc06be4039baba3e2007ccbf27"
       ],
       "layout": "IPY_MODEL_c2ac2dac5d2c4cc5be6b6b04cf9dc8e6"
      }
     },
     "84381baf4d3e444a8a2c5baa12996821": {
      "model_module": "@jupyter-widgets/controls",
      "model_module_version": "2.0.0",
      "model_name": "DescriptionStyleModel",
      "state": {
       "description_width": ""
      }
     },
     "8449f89e9ee244beaab392781a2353c5": {
      "model_module": "@jupyter-widgets/controls",
      "model_module_version": "2.0.0",
      "model_name": "ToggleButtonModel",
      "state": {
       "button_style": "primary",
       "icon": "plus",
       "layout": "IPY_MODEL_c0b1eb4665bd4b92b9f68a0fb8d9352c",
       "style": "IPY_MODEL_b05e533b94924ede9790828d9aa0c318",
       "tooltip": "Expand toolbar"
      }
     },
     "84ef8c9ad0af48c8bad833d0ece8f7f8": {
      "model_module": "@jupyter-widgets/controls",
      "model_module_version": "2.0.0",
      "model_name": "ToggleButtonModel",
      "state": {
       "button_style": "primary",
       "icon": "eraser",
       "layout": "IPY_MODEL_de39eebdcf8244f1a4b55a0dcee78700",
       "style": "IPY_MODEL_9f6a202b49d844378fc9059a07f2aa9a",
       "tooltip": "Remove all drawn features"
      }
     },
     "852b906937f74dbe97289607877386c0": {
      "model_module": "@jupyter-widgets/controls",
      "model_module_version": "2.0.0",
      "model_name": "ToggleButtonModel",
      "state": {
       "button_style": "primary",
       "icon": "plus",
       "layout": "IPY_MODEL_06cb37ac4ae1436f8c956ae85930f76d",
       "style": "IPY_MODEL_5c015f5414854dfd84f5c66b42d6f5c8",
       "tooltip": "Expand toolbar"
      }
     },
     "8580b472273f479d998a8da2409e8b83": {
      "model_module": "@jupyter-widgets/controls",
      "model_module_version": "2.0.0",
      "model_name": "RadioButtonsModel",
      "state": {
       "index": null,
       "layout": "IPY_MODEL_05744c4fac374a17852d171b2c7155c8",
       "style": "IPY_MODEL_60c964dd5d824b329c405908d6468bc0"
      }
     },
     "85c61a7b39394e84b840ecc63d188583": {
      "model_module": "@jupyter-widgets/controls",
      "model_module_version": "2.0.0",
      "model_name": "ButtonModel",
      "state": {
       "button_style": "primary",
       "description": "import",
       "layout": "IPY_MODEL_d2b07647808e4d8ea7ba2db5955035b5",
       "style": "IPY_MODEL_033a8db69fb4494a8aa8f33661c009a8",
       "tooltip": "Click to import the selected asset"
      }
     },
     "87aaaaac63664b86bbcde55d05e5dd67": {
      "model_module": "@jupyter-widgets/controls",
      "model_module_version": "2.0.0",
      "model_name": "HBoxModel",
      "state": {
       "_view_count": 1,
       "children": [
        "IPY_MODEL_4318041ff01b496299a14bdf56958673"
       ],
       "layout": "IPY_MODEL_c488f43551f14ab299311ee8e5ee3bd3"
      }
     },
     "881cb4d509de4319a8ff4ae54fd78e75": {
      "model_module": "@jupyter-widgets/controls",
      "model_module_version": "2.0.0",
      "model_name": "ToggleButtonStyleModel",
      "state": {
       "description_width": "",
       "font_family": null,
       "font_size": null,
       "font_style": null,
       "font_variant": null,
       "font_weight": null,
       "text_color": null,
       "text_decoration": null
      }
     },
     "89739b0380f34faf85f4e68cb3ac4501": {
      "model_module": "@jupyter-widgets/controls",
      "model_module_version": "2.0.0",
      "model_name": "ToggleButtonModel",
      "state": {
       "button_style": "primary",
       "icon": "map",
       "layout": "IPY_MODEL_a8b9a88526ac4ce6b078413a86a5cc84",
       "style": "IPY_MODEL_25a2eb25d16c40a1b51752e0ccfa746d",
       "tooltip": "Change basemap"
      }
     },
     "89efcbca1ff04efb95829c32248a99bf": {
      "model_module": "@jupyter-widgets/base",
      "model_module_version": "2.0.0",
      "model_name": "LayoutModel",
      "state": {}
     },
     "8a4f0f2f9b5d4eb59b5cf9ee94aa0368": {
      "model_module": "@jupyter-widgets/output",
      "model_module_version": "1.0.0",
      "model_name": "OutputModel",
      "state": {
       "layout": "IPY_MODEL_10a0132205194e5db77abc5beb9bf512"
      }
     },
     "8a6d73a582694b21bda635c0c4744cb9": {
      "model_module": "jupyter-leaflet",
      "model_module_version": "^0.17",
      "model_name": "LeafletAttributionControlModel",
      "state": {
       "_model_module_version": "^0.17",
       "_view_module_version": "^0.17",
       "options": [
        "position",
        "prefix"
       ],
       "position": "bottomright",
       "prefix": "ipyleaflet"
      }
     },
     "8bd2f9c627474064aa06454199fc346f": {
      "model_module": "jupyter-leaflet",
      "model_module_version": "^0.17",
      "model_name": "LeafletFullScreenControlModel",
      "state": {
       "_model_module_version": "^0.17",
       "_view_module_version": "^0.17",
       "options": [
        "position"
       ]
      }
     },
     "8d5989075e4b4a9bbced30864044daa4": {
      "model_module": "@jupyter-widgets/base",
      "model_module_version": "2.0.0",
      "model_name": "LayoutModel",
      "state": {
       "height": "auto",
       "padding": "0px 0px 0px 4px",
       "width": "auto"
      }
     },
     "8d78cc5cf95048589c5c2bde6b978851": {
      "model_module": "@jupyter-widgets/controls",
      "model_module_version": "2.0.0",
      "model_name": "ToggleButtonStyleModel",
      "state": {
       "description_width": "",
       "font_family": null,
       "font_size": null,
       "font_style": null,
       "font_variant": null,
       "font_weight": null,
       "text_color": null,
       "text_decoration": null
      }
     },
     "8ea7628b21a049249045a7ee5bb46ca0": {
      "model_module": "@jupyter-widgets/base",
      "model_module_version": "2.0.0",
      "model_name": "LayoutModel",
      "state": {}
     },
     "8ecb89de9a1249fc98f63e54c8cdaa1d": {
      "model_module": "@jupyter-widgets/controls",
      "model_module_version": "2.0.0",
      "model_name": "ToggleButtonStyleModel",
      "state": {
       "description_width": "",
       "font_family": null,
       "font_size": null,
       "font_style": null,
       "font_variant": null,
       "font_weight": null,
       "text_color": null,
       "text_decoration": null
      }
     },
     "8fa7d56ae5bc49f389ef4de89da8ce52": {
      "model_module": "@jupyter-widgets/base",
      "model_module_version": "2.0.0",
      "model_name": "LayoutModel",
      "state": {
       "height": "auto",
       "padding": "0px 0px 0px 4px",
       "width": "auto"
      }
     },
     "8fd06169d7114424815d49bf8b66cbcf": {
      "model_module": "@jupyter-widgets/base",
      "model_module_version": "2.0.0",
      "model_name": "LayoutModel",
      "state": {
       "height": "auto",
       "padding": "0px 0px 0px 4px",
       "width": "auto"
      }
     },
     "9167e4ec13a245e8b18250de6ef1d351": {
      "model_module": "@jupyter-widgets/base",
      "model_module_version": "2.0.0",
      "model_name": "LayoutModel",
      "state": {
       "height": "28px",
       "padding": "0px 0px 0px 4px",
       "width": "28px"
      }
     },
     "92e1bd5b472e456bbbb335f08f26a191": {
      "model_module": "@jupyter-widgets/base",
      "model_module_version": "2.0.0",
      "model_name": "LayoutModel",
      "state": {
       "height": "auto",
       "padding": "0px 0px 0px 4px",
       "width": "auto"
      }
     },
     "92fd52dad998439387d7e7f0eb98bff1": {
      "model_module": "@jupyter-widgets/controls",
      "model_module_version": "2.0.0",
      "model_name": "HBoxModel",
      "state": {
       "children": [
        "IPY_MODEL_be7e24da8409472d9b2dadf41dcf8814",
        "IPY_MODEL_42680e1df3eb45b2a382c26c24ce1544"
       ],
       "layout": "IPY_MODEL_3a30fcc13b894125895c54063c61b8ae"
      }
     },
     "937942ba3be14b7caad36f4ea0d0253a": {
      "model_module": "@jupyter-widgets/base",
      "model_module_version": "2.0.0",
      "model_name": "LayoutModel",
      "state": {}
     },
     "93c774a5a4474cca91225d350097210b": {
      "model_module": "@jupyter-widgets/base",
      "model_module_version": "2.0.0",
      "model_name": "LayoutModel",
      "state": {
       "height": "28px",
       "width": "72px"
      }
     },
     "93ccabddb8ad447e966970ed3c4b4eb1": {
      "model_module": "jupyter-leaflet",
      "model_module_version": "^0.17",
      "model_name": "LeafletZoomControlModel",
      "state": {
       "_model_module_version": "^0.17",
       "_view_module_version": "^0.17",
       "options": [
        "position",
        "zoom_in_text",
        "zoom_in_title",
        "zoom_out_text",
        "zoom_out_title"
       ]
      }
     },
     "93ece1cbd76049348f10816b33e7433a": {
      "model_module": "@jupyter-widgets/base",
      "model_module_version": "2.0.0",
      "model_name": "LayoutModel",
      "state": {
       "height": "auto",
       "padding": "0px 0px 0px 4px",
       "width": "auto"
      }
     },
     "9492b225ffbf4984902ca0f5fd34c511": {
      "model_module": "@jupyter-widgets/controls",
      "model_module_version": "2.0.0",
      "model_name": "ToggleButtonsStyleModel",
      "state": {
       "button_width": "110px",
       "description_width": ""
      }
     },
     "94d741d807af49669159127a3b23da8e": {
      "model_module": "@jupyter-widgets/controls",
      "model_module_version": "2.0.0",
      "model_name": "ToggleButtonModel",
      "state": {
       "button_style": "primary",
       "icon": "random",
       "layout": "IPY_MODEL_721fa89ae4a84479bed0b3ffcae44184",
       "style": "IPY_MODEL_5d5dcea450294959889f1a2696ef4712",
       "tooltip": "Sankey plots"
      }
     },
     "955ac72d07294717b28391e0a65f6fc9": {
      "model_module": "@jupyter-widgets/controls",
      "model_module_version": "2.0.0",
      "model_name": "ToggleButtonModel",
      "state": {
       "button_style": "primary",
       "icon": "line-chart",
       "layout": "IPY_MODEL_8fd06169d7114424815d49bf8b66cbcf",
       "style": "IPY_MODEL_791178391d3b4441886e6796dd15eeff",
       "tooltip": "Creating and plotting transects"
      }
     },
     "960341eea8574b86bdd9241184f0a363": {
      "model_module": "@jupyter-widgets/controls",
      "model_module_version": "2.0.0",
      "model_name": "ToggleButtonStyleModel",
      "state": {
       "description_width": "",
       "font_family": null,
       "font_size": null,
       "font_style": null,
       "font_variant": null,
       "font_weight": null,
       "text_color": null,
       "text_decoration": null
      }
     },
     "96eb74c412c7444cae696b07a47af35e": {
      "model_module": "@jupyter-widgets/controls",
      "model_module_version": "2.0.0",
      "model_name": "ToggleButtonStyleModel",
      "state": {
       "description_width": "",
       "font_family": null,
       "font_size": null,
       "font_style": null,
       "font_variant": null,
       "font_weight": null,
       "text_color": null,
       "text_decoration": null
      }
     },
     "9738ee23f30149a48e435f5f250c7a12": {
      "model_module": "@jupyter-widgets/base",
      "model_module_version": "2.0.0",
      "model_name": "LayoutModel",
      "state": {
       "height": "28px",
       "width": "72px"
      }
     },
     "97988ddc5fbc4e4bb6a166636e47f645": {
      "model_module": "@jupyter-widgets/controls",
      "model_module_version": "2.0.0",
      "model_name": "ToggleButtonModel",
      "state": {
       "button_style": "primary",
       "icon": "info",
       "layout": "IPY_MODEL_71863dc6d0e84a8c9a4ff98d207dc697",
       "style": "IPY_MODEL_98ab53b19d25428c828de8b4bf04e601",
       "tooltip": "Inspector"
      }
     },
     "98ab53b19d25428c828de8b4bf04e601": {
      "model_module": "@jupyter-widgets/controls",
      "model_module_version": "2.0.0",
      "model_name": "ToggleButtonStyleModel",
      "state": {
       "description_width": "",
       "font_family": null,
       "font_size": null,
       "font_style": null,
       "font_variant": null,
       "font_weight": null,
       "text_color": null,
       "text_decoration": null
      }
     },
     "9a017ed7dd9e4c76b5f8631a27a491e7": {
      "model_module": "@jupyter-widgets/controls",
      "model_module_version": "2.0.0",
      "model_name": "ToggleButtonStyleModel",
      "state": {
       "description_width": "",
       "font_family": null,
       "font_size": null,
       "font_style": null,
       "font_variant": null,
       "font_weight": null,
       "text_color": null,
       "text_decoration": null
      }
     },
     "9a39b9c927fd4fb0a5e9dfe5fd2b3732": {
      "model_module": "@jupyter-widgets/controls",
      "model_module_version": "2.0.0",
      "model_name": "ToggleButtonModel",
      "state": {
       "button_style": "primary",
       "icon": "hand-o-up",
       "layout": "IPY_MODEL_54f002aa2c7549c7a6fb09def525ec52",
       "style": "IPY_MODEL_960341eea8574b86bdd9241184f0a363",
       "tooltip": "Collect training samples"
      }
     },
     "9a6c607c6ca14ca39fb153253055baa9": {
      "model_module": "@jupyter-widgets/controls",
      "model_module_version": "2.0.0",
      "model_name": "ToggleButtonStyleModel",
      "state": {
       "description_width": "",
       "font_family": null,
       "font_size": null,
       "font_style": null,
       "font_variant": null,
       "font_weight": null,
       "text_color": null,
       "text_decoration": null
      }
     },
     "9b71b7fbdc0b4d0bab13ecb4cfebee4a": {
      "model_module": "@jupyter-widgets/controls",
      "model_module_version": "2.0.0",
      "model_name": "DropdownModel",
      "state": {
       "index": null,
       "layout": "IPY_MODEL_b7794002362143498908a2d2187cf9e0",
       "style": "IPY_MODEL_a2e82c1101034bfe876504f36daa2089"
      }
     },
     "9bb47c71e7ce436e8b701032d03b4fad": {
      "model_module": "@jupyter-widgets/controls",
      "model_module_version": "2.0.0",
      "model_name": "ToggleButtonModel",
      "state": {
       "icon": "globe",
       "layout": "IPY_MODEL_3aa49b994e364b5395e19be85e5f7831",
       "style": "IPY_MODEL_6c913350fc1c4ea693c4cd3553632b75",
       "tooltip": "Search location/data"
      }
     },
     "9c035def315a4c149f96515784f84012": {
      "model_module": "@jupyter-widgets/controls",
      "model_module_version": "2.0.0",
      "model_name": "ToggleButtonStyleModel",
      "state": {
       "description_width": "",
       "font_family": null,
       "font_size": null,
       "font_style": null,
       "font_variant": null,
       "font_weight": null,
       "text_color": null,
       "text_decoration": null
      }
     },
     "9d7f656de6454d10aa7d479c9ac15f13": {
      "model_module": "@jupyter-widgets/base",
      "model_module_version": "2.0.0",
      "model_name": "LayoutModel",
      "state": {
       "width": "340px"
      }
     },
     "9de0c2bc75bf447ba6e4417094d7c307": {
      "model_module": "@jupyter-widgets/controls",
      "model_module_version": "2.0.0",
      "model_name": "ToggleButtonStyleModel",
      "state": {
       "description_width": "",
       "font_family": null,
       "font_size": null,
       "font_style": null,
       "font_variant": null,
       "font_weight": null,
       "text_color": null,
       "text_decoration": null
      }
     },
     "9df685c3a2664dec9fd3144f350a21f3": {
      "model_module": "@jupyter-widgets/controls",
      "model_module_version": "2.0.0",
      "model_name": "HTMLStyleModel",
      "state": {
       "description_width": "",
       "font_size": null,
       "text_color": null
      }
     },
     "9e8d27529b8844078ef414c97340d4ec": {
      "model_module": "@jupyter-widgets/controls",
      "model_module_version": "2.0.0",
      "model_name": "TextStyleModel",
      "state": {
       "description_width": "",
       "font_size": null,
       "text_color": null
      }
     },
     "9efd1155fda2488b93171fd090a9faf7": {
      "model_module": "jupyter-leaflet",
      "model_module_version": "^0.17",
      "model_name": "LeafletAttributionControlModel",
      "state": {
       "_model_module_version": "^0.17",
       "_view_module_version": "^0.17",
       "options": [
        "position",
        "prefix"
       ],
       "position": "bottomright",
       "prefix": "ipyleaflet"
      }
     },
     "9f6a202b49d844378fc9059a07f2aa9a": {
      "model_module": "@jupyter-widgets/controls",
      "model_module_version": "2.0.0",
      "model_name": "ToggleButtonStyleModel",
      "state": {
       "description_width": "",
       "font_family": null,
       "font_size": null,
       "font_style": null,
       "font_variant": null,
       "font_weight": null,
       "text_color": null,
       "text_decoration": null
      }
     },
     "9f872b54ec414069b986529d06c2204b": {
      "model_module": "@jupyter-widgets/controls",
      "model_module_version": "2.0.0",
      "model_name": "ToggleButtonStyleModel",
      "state": {
       "description_width": "",
       "font_family": null,
       "font_size": null,
       "font_style": null,
       "font_variant": null,
       "font_weight": null,
       "text_color": null,
       "text_decoration": null
      }
     },
     "a1d0ea4d8807441881662caf4c8420c1": {
      "model_module": "@jupyter-widgets/base",
      "model_module_version": "2.0.0",
      "model_name": "LayoutModel",
      "state": {
       "grid_gap": "1px 1px",
       "grid_template_columns": "32px 32px 32px ",
       "grid_template_rows": "32px 32px ",
       "padding": "5px",
       "width": "109px"
      }
     },
     "a2e82c1101034bfe876504f36daa2089": {
      "model_module": "@jupyter-widgets/controls",
      "model_module_version": "2.0.0",
      "model_name": "DescriptionStyleModel",
      "state": {
       "description_width": ""
      }
     },
     "a3658000e9564bf4b2b382d7ea56c320": {
      "model_module": "jupyter-leaflet",
      "model_module_version": "^0.17",
      "model_name": "LeafletMapStyleModel",
      "state": {
       "_model_module_version": "^0.17",
       "cursor": "move"
      }
     },
     "a38c326549b14fd3ae0ea28650ef32ab": {
      "model_module": "@jupyter-widgets/controls",
      "model_module_version": "2.0.0",
      "model_name": "ToggleButtonModel",
      "state": {
       "icon": "wrench",
       "layout": "IPY_MODEL_244d3b36085e4b72bee315e62643ea34",
       "style": "IPY_MODEL_63783cf8ec044a0f8174ac830acc415d",
       "tooltip": "Toolbar"
      }
     },
     "a4161db4e1b849c586d17173db5e192c": {
      "model_module": "@jupyter-widgets/controls",
      "model_module_version": "2.0.0",
      "model_name": "ToggleButtonModel",
      "state": {
       "icon": "server",
       "layout": "IPY_MODEL_54a4b394d21d4d08b63e114b26434820",
       "style": "IPY_MODEL_ec5c911215bf4ae099a7eec580710b98",
       "tooltip": "Layers"
      }
     },
     "a4b8e6421d954879a2b57a612fcdac45": {
      "model_module": "@jupyter-widgets/controls",
      "model_module_version": "2.0.0",
      "model_name": "ToggleButtonModel",
      "state": {
       "button_style": "primary",
       "icon": "adjust",
       "layout": "IPY_MODEL_3174346b56454b6389ff674df442b745",
       "style": "IPY_MODEL_17b7bfb00b494775b8f88fdca6bbcf83",
       "tooltip": "Planet imagery"
      }
     },
     "a4f8a10b4aee41d9b54a66ca41ee139c": {
      "model_module": "@jupyter-widgets/base",
      "model_module_version": "2.0.0",
      "model_name": "LayoutModel",
      "state": {
       "height": "auto",
       "padding": "0px 0px 0px 4px",
       "width": "auto"
      }
     },
     "a5103cfc06f04249b339a530a0d6d177": {
      "model_module": "@jupyter-widgets/controls",
      "model_module_version": "2.0.0",
      "model_name": "HTMLModel",
      "state": {
       "layout": "IPY_MODEL_f393afd8fb734b78a4a494cd6fd830ab",
       "style": "IPY_MODEL_dbbe7c097d524d5a94681c773ab9666a"
      }
     },
     "a5977adef0fe476fbf81ff42b1793cae": {
      "model_module": "@jupyter-widgets/base",
      "model_module_version": "2.0.0",
      "model_name": "LayoutModel",
      "state": {
       "height": "auto",
       "padding": "0px 0px 0px 4px",
       "width": "auto"
      }
     },
     "a5b299815da7498eabb29416d92570e6": {
      "model_module": "jupyter-leaflet",
      "model_module_version": "^0.17",
      "model_name": "LeafletWidgetControlModel",
      "state": {
       "_model_module": "jupyter-leaflet",
       "_model_module_version": "^0.17",
       "_view_count": null,
       "_view_module": "jupyter-leaflet",
       "_view_module_version": "^0.17",
       "options": [
        "position",
        "transparent_bg"
       ],
       "position": "topleft",
       "widget": "IPY_MODEL_87aaaaac63664b86bbcde55d05e5dd67"
      }
     },
     "a5b6cd3798f54cc2837b114a15981a31": {
      "model_module": "@jupyter-widgets/base",
      "model_module_version": "2.0.0",
      "model_name": "LayoutModel",
      "state": {
       "height": "28px",
       "padding": "0px 0px 0px 4px",
       "width": "28px"
      }
     },
     "a5c9707c993f4b20a15b4de3888088fa": {
      "model_module": "@jupyter-widgets/controls",
      "model_module_version": "2.0.0",
      "model_name": "ButtonStyleModel",
      "state": {
       "font_family": null,
       "font_size": null,
       "font_style": null,
       "font_variant": null,
       "font_weight": null,
       "text_color": null,
       "text_decoration": null
      }
     },
     "a7b1ca5b1f7f4aa48216d8a721c0b67b": {
      "model_module": "@jupyter-widgets/base",
      "model_module_version": "2.0.0",
      "model_name": "LayoutModel",
      "state": {
       "height": "auto",
       "padding": "0px 0px 0px 4px",
       "width": "auto"
      }
     },
     "a7ea8a36c5e64d588c3c1bb39654a47c": {
      "model_module": "@jupyter-widgets/base",
      "model_module_version": "2.0.0",
      "model_name": "LayoutModel",
      "state": {}
     },
     "a7f6d6ce1010469e935a39487ae36cc6": {
      "model_module": "@jupyter-widgets/base",
      "model_module_version": "2.0.0",
      "model_name": "LayoutModel",
      "state": {}
     },
     "a8b9a88526ac4ce6b078413a86a5cc84": {
      "model_module": "@jupyter-widgets/base",
      "model_module_version": "2.0.0",
      "model_name": "LayoutModel",
      "state": {
       "height": "auto",
       "padding": "0px 0px 0px 4px",
       "width": "auto"
      }
     },
     "a8b9e418c6a9413aab1ab2f800d593f4": {
      "model_module": "@jupyter-widgets/controls",
      "model_module_version": "2.0.0",
      "model_name": "ToggleButtonStyleModel",
      "state": {
       "description_width": "",
       "font_family": null,
       "font_size": null,
       "font_style": null,
       "font_variant": null,
       "font_weight": null,
       "text_color": null,
       "text_decoration": null
      }
     },
     "a95ec50196f047778f6a3f4534ccbd36": {
      "model_module": "jupyter-leaflet",
      "model_module_version": "^0.17",
      "model_name": "LeafletFullScreenControlModel",
      "state": {
       "_model_module_version": "^0.17",
       "_view_module_version": "^0.17",
       "options": [
        "position"
       ]
      }
     },
     "aa76086f99ad45bbb89168a60d9535d0": {
      "model_module": "jupyter-leaflet",
      "model_module_version": "^0.17",
      "model_name": "LeafletMapStyleModel",
      "state": {
       "_model_module_version": "^0.17",
       "cursor": "move"
      }
     },
     "ab6aac4bf707462397bc4e737e7870cc": {
      "model_module": "@jupyter-widgets/base",
      "model_module_version": "2.0.0",
      "model_name": "LayoutModel",
      "state": {}
     },
     "ab7ff4c5bd744ca59570eab1eea7bd49": {
      "model_module": "jupyter-leaflet",
      "model_module_version": "^0.17",
      "model_name": "LeafletMapModel",
      "state": {
       "_model_module_version": "^0.17",
       "_view_module_version": "^0.17",
       "bottom": 21959,
       "center": [
        51.962589,
        5.669627
       ],
       "controls": [
        "IPY_MODEL_065e1d6d52674d6eb34ff33555f8c795",
        "IPY_MODEL_112e02faf18748feaac82be3e25382d5",
        "IPY_MODEL_71c4f94c912349ffb295c4d783b24580",
        "IPY_MODEL_61b450500c3f44d98dcb7d7714b2db8b",
        "IPY_MODEL_372aaa4511d9483c803836ec4cb635ea",
        "IPY_MODEL_29e0561c02d344d1a0a9b7437bdbb3f9",
        "IPY_MODEL_2609cab71d08404b81b6f3aea5eda6ea",
        "IPY_MODEL_0d0201fab40343b8be47f71d44ca3e4d"
       ],
       "default_style": "IPY_MODEL_e7956468a0ba4807b1654eee354078ca",
       "dragging_style": "IPY_MODEL_5a6d68340da34b8eb42d062359fe7afa",
       "east": 7.811279296875001,
       "fullscreen": false,
       "interpolation": "bilinear",
       "layers": [
        "IPY_MODEL_b79f065084434c6aa5de10695001128c",
        "IPY_MODEL_376a921bdf0c40d49f41c4e5e796d5a6",
        "IPY_MODEL_b50eecd9402c4541807f4798c0a272fa",
        "IPY_MODEL_fe49c07a359e4e6ab9427ff5e65b74ef"
       ],
       "layout": "IPY_MODEL_f3517e8c7e0c4bedbee566346395f50a",
       "left": 33410,
       "max_zoom": 24,
       "modisdate": "2023-07-10",
       "north": 52.96518371955126,
       "options": [
        "bounce_at_zoom_limits",
        "box_zoom",
        "center",
        "close_popup_on_click",
        "double_click_zoom",
        "dragging",
        "fullscreen",
        "inertia",
        "inertia_deceleration",
        "inertia_max_speed",
        "interpolation",
        "keyboard",
        "keyboard_pan_offset",
        "keyboard_zoom_offset",
        "max_zoom",
        "min_zoom",
        "prefer_canvas",
        "scroll_wheel_zoom",
        "tap",
        "tap_tolerance",
        "touch_zoom",
        "world_copy_jump",
        "zoom",
        "zoom_animation_threshold",
        "zoom_delta",
        "zoom_snap"
       ],
       "prefer_canvas": false,
       "right": 34190,
       "scroll_wheel_zoom": true,
       "south": 50.93420001306369,
       "style": "IPY_MODEL_fe607407900a484fb523b3c526055908",
       "top": 21359,
       "west": 3.5266113281250004,
       "window_url": "http://localhost:8889/notebooks/python-gee.ipynb#",
       "zoom": 8
      }
     },
     "ab9c553394894735b6d5803dd6b8a442": {
      "model_module": "@jupyter-widgets/base",
      "model_module_version": "2.0.0",
      "model_name": "LayoutModel",
      "state": {
       "height": "auto",
       "padding": "0px 0px 0px 4px",
       "width": "auto"
      }
     },
     "abec9e9f08ba4c73a08ff01d937f07a2": {
      "model_module": "@jupyter-widgets/controls",
      "model_module_version": "2.0.0",
      "model_name": "ToggleButtonModel",
      "state": {
       "icon": "server",
       "layout": "IPY_MODEL_93c774a5a4474cca91225d350097210b",
       "style": "IPY_MODEL_b7ad9681271b4fa7b50a754727c4d394",
       "tooltip": "Layers"
      }
     },
     "ad198553c38a4c6dabcc27729719fa36": {
      "model_module": "jupyter-leaflet",
      "model_module_version": "^0.17",
      "model_name": "LeafletMapModel",
      "state": {
       "_model_module_version": "^0.17",
       "_view_module_version": "^0.17",
       "bottom": 21959,
       "center": [
        51.962589,
        5.669627
       ],
       "controls": [
        "IPY_MODEL_f5256f0f3c4e416e96c2d4b959e605da",
        "IPY_MODEL_93ccabddb8ad447e966970ed3c4b4eb1",
        "IPY_MODEL_8bd2f9c627474064aa06454199fc346f",
        "IPY_MODEL_1a10ef28459447959c31d73d5ba2aac1",
        "IPY_MODEL_747e6b7b59e94ffeb086bbea9ef0acda",
        "IPY_MODEL_32a145d1ccff4beab038c3a71597cc6d",
        "IPY_MODEL_350e947380994d3f8e3c3f6d4b4381f6",
        "IPY_MODEL_9efd1155fda2488b93171fd090a9faf7"
       ],
       "default_style": "IPY_MODEL_252830e7134144c9a13eca662ef4354f",
       "dragging_style": "IPY_MODEL_a3658000e9564bf4b2b382d7ea56c320",
       "east": 8.360595703125002,
       "fullscreen": false,
       "interpolation": "bilinear",
       "layers": [
        "IPY_MODEL_3c4c5382a5804c61bedbf42b06e66e9d",
        "IPY_MODEL_e0556e79b66749e39aa3c6bd6bf2852d"
       ],
       "layout": "IPY_MODEL_3cc11df045654b899eb0556e00f42f5f",
       "left": 33310,
       "max_zoom": 24,
       "modisdate": "2023-07-10",
       "north": 52.96518371955126,
       "options": [
        "bounce_at_zoom_limits",
        "box_zoom",
        "center",
        "close_popup_on_click",
        "double_click_zoom",
        "dragging",
        "fullscreen",
        "inertia",
        "inertia_deceleration",
        "inertia_max_speed",
        "interpolation",
        "keyboard",
        "keyboard_pan_offset",
        "keyboard_zoom_offset",
        "max_zoom",
        "min_zoom",
        "prefer_canvas",
        "scroll_wheel_zoom",
        "tap",
        "tap_tolerance",
        "touch_zoom",
        "world_copy_jump",
        "zoom",
        "zoom_animation_threshold",
        "zoom_delta",
        "zoom_snap"
       ],
       "prefer_canvas": false,
       "right": 34290,
       "scroll_wheel_zoom": true,
       "south": 50.93420001306369,
       "style": "IPY_MODEL_b309817a7fc14fff83cb499f76ce1c35",
       "top": 21359,
       "west": 2.9772949218750004,
       "window_url": "http://localhost:8889/notebooks/python-gee.ipynb#",
       "zoom": 8
      }
     },
     "ae27a620471c447e9ab5321f9af7c15a": {
      "model_module": "@jupyter-widgets/base",
      "model_module_version": "2.0.0",
      "model_name": "LayoutModel",
      "state": {}
     },
     "ae5a81565da24ea080668df13a8c56cd": {
      "model_module": "@jupyter-widgets/base",
      "model_module_version": "2.0.0",
      "model_name": "LayoutModel",
      "state": {
       "grid_gap": "1px 1px",
       "grid_template_columns": "32px 32px 32px ",
       "grid_template_rows": "32px 32px ",
       "padding": "5px",
       "width": "109px"
      }
     },
     "aee199d50eaf4074b3f72185aaef5b11": {
      "model_module": "@jupyter-widgets/controls",
      "model_module_version": "2.0.0",
      "model_name": "ToggleButtonStyleModel",
      "state": {
       "description_width": "",
       "font_family": null,
       "font_size": null,
       "font_style": null,
       "font_variant": null,
       "font_weight": null,
       "text_color": null,
       "text_decoration": null
      }
     },
     "afcf587a34d74b15be2a4f5800d1322b": {
      "model_module": "@jupyter-widgets/controls",
      "model_module_version": "2.0.0",
      "model_name": "ToggleButtonStyleModel",
      "state": {
       "description_width": "",
       "font_family": null,
       "font_size": null,
       "font_style": null,
       "font_variant": null,
       "font_weight": null,
       "text_color": null,
       "text_decoration": null
      }
     },
     "b04f611129d6402fb8005e62ac7726a4": {
      "model_module": "@jupyter-widgets/controls",
      "model_module_version": "2.0.0",
      "model_name": "HBoxModel",
      "state": {
       "children": [
        "IPY_MODEL_abec9e9f08ba4c73a08ff01d937f07a2",
        "IPY_MODEL_fb7d6f3eee1b4db59d57194380d5ee7c"
       ],
       "layout": "IPY_MODEL_83bf90586b934279a97460feb4fa9ad5"
      }
     },
     "b05e533b94924ede9790828d9aa0c318": {
      "model_module": "@jupyter-widgets/controls",
      "model_module_version": "2.0.0",
      "model_name": "ToggleButtonStyleModel",
      "state": {
       "description_width": "",
       "font_family": null,
       "font_size": null,
       "font_style": null,
       "font_variant": null,
       "font_weight": null,
       "text_color": null,
       "text_decoration": null
      }
     },
     "b0691932844945fb80f420c668f890e2": {
      "model_module": "@jupyter-widgets/controls",
      "model_module_version": "2.0.0",
      "model_name": "TextStyleModel",
      "state": {
       "description_width": "",
       "font_size": null,
       "text_color": null
      }
     },
     "b1548cbbef454be684d8e309f226f141": {
      "model_module": "@jupyter-widgets/base",
      "model_module_version": "2.0.0",
      "model_name": "LayoutModel",
      "state": {
       "height": "auto",
       "padding": "0px 0px 0px 4px",
       "width": "auto"
      }
     },
     "b28f5fa9dbea43c6b93a543b8adde081": {
      "model_module": "@jupyter-widgets/controls",
      "model_module_version": "2.0.0",
      "model_name": "ToggleButtonStyleModel",
      "state": {
       "description_width": "",
       "font_family": null,
       "font_size": null,
       "font_style": null,
       "font_variant": null,
       "font_weight": null,
       "text_color": null,
       "text_decoration": null
      }
     },
     "b2a0570cf6c247d6a76bdbf1e3fd5ee6": {
      "model_module": "jupyter-leaflet",
      "model_module_version": "^0.17",
      "model_name": "LeafletTileLayerModel",
      "state": {
       "_model_module_version": "^0.17",
       "_view_module_version": "^0.17",
       "attribution": "Google Earth Engine",
       "max_zoom": 24,
       "name": "My First Image",
       "options": [
        "attribution",
        "bounds",
        "detect_retina",
        "max_native_zoom",
        "max_zoom",
        "min_native_zoom",
        "min_zoom",
        "no_wrap",
        "tile_size",
        "tms",
        "zoom_offset"
       ],
       "url": "https://earthengine.googleapis.com/v1alpha/projects/earthengine-legacy/maps/312df588a010036d44a7458c24df41e0-56228a08f4f4b12b818a126ae9a88f0b/tiles/{z}/{x}/{y}"
      }
     },
     "b309817a7fc14fff83cb499f76ce1c35": {
      "model_module": "jupyter-leaflet",
      "model_module_version": "^0.17",
      "model_name": "LeafletMapStyleModel",
      "state": {
       "_model_module_version": "^0.17"
      }
     },
     "b32f10cc80cb400381b1c8a7310568cb": {
      "model_module": "@jupyter-widgets/controls",
      "model_module_version": "2.0.0",
      "model_name": "ToggleButtonStyleModel",
      "state": {
       "description_width": "",
       "font_family": null,
       "font_size": null,
       "font_style": null,
       "font_variant": null,
       "font_weight": null,
       "text_color": null,
       "text_decoration": null
      }
     },
     "b50eecd9402c4541807f4798c0a272fa": {
      "model_module": "jupyter-leaflet",
      "model_module_version": "^0.17",
      "model_name": "LeafletTileLayerModel",
      "state": {
       "_model_module_version": "^0.17",
       "_view_module_version": "^0.17",
       "attribution": "Google Earth Engine",
       "max_zoom": 24,
       "name": "My First Image",
       "options": [
        "attribution",
        "bounds",
        "detect_retina",
        "max_native_zoom",
        "max_zoom",
        "min_native_zoom",
        "min_zoom",
        "no_wrap",
        "tile_size",
        "tms",
        "zoom_offset"
       ],
       "url": "https://earthengine.googleapis.com/v1alpha/projects/earthengine-legacy/maps/312df588a010036d44a7458c24df41e0-987770a4cebeb328df6f1c32d0daa1fb/tiles/{z}/{x}/{y}"
      }
     },
     "b5e99110faf7492f925e5ef903022a68": {
      "model_module": "@jupyter-widgets/controls",
      "model_module_version": "2.0.0",
      "model_name": "ToggleButtonModel",
      "state": {
       "button_style": "primary",
       "icon": "bar-chart",
       "layout": "IPY_MODEL_06ead7fe38ca4cc886181ce46f589030",
       "style": "IPY_MODEL_576d0c09fde84d65b28af054110a390f",
       "tooltip": "Plotting"
      }
     },
     "b661abf84e0742f7a51722b0e04b6307": {
      "model_module": "@jupyter-widgets/base",
      "model_module_version": "2.0.0",
      "model_name": "LayoutModel",
      "state": {}
     },
     "b7794002362143498908a2d2187cf9e0": {
      "model_module": "@jupyter-widgets/base",
      "model_module_version": "2.0.0",
      "model_name": "LayoutModel",
      "state": {
       "max_width": "279px",
       "min_width": "279px"
      }
     },
     "b79224a156f44351bc0b06392bc4d1d7": {
      "model_module": "@jupyter-widgets/controls",
      "model_module_version": "2.0.0",
      "model_name": "HBoxModel",
      "state": {
       "_view_count": 1,
       "children": [
        "IPY_MODEL_d9d8cba51b674c37af5804c272d91c44"
       ],
       "layout": "IPY_MODEL_37e2a973723f42d5a32f86f3e6092a1e"
      }
     },
     "b79f065084434c6aa5de10695001128c": {
      "model_module": "jupyter-leaflet",
      "model_module_version": "^0.17",
      "model_name": "LeafletTileLayerModel",
      "state": {
       "_model_module_version": "^0.17",
       "_view_module_version": "^0.17",
       "attribution": "&copy; <a href=\"https://www.openstreetmap.org/copyright\">OpenStreetMap</a> contributors",
       "base": true,
       "max_zoom": 19,
       "min_zoom": 1,
       "name": "OpenStreetMap.Mapnik",
       "options": [
        "attribution",
        "bounds",
        "detect_retina",
        "max_native_zoom",
        "max_zoom",
        "min_native_zoom",
        "min_zoom",
        "no_wrap",
        "tile_size",
        "tms",
        "zoom_offset"
       ],
       "url": "https://tile.openstreetmap.org/{z}/{x}/{y}.png"
      }
     },
     "b7ad9681271b4fa7b50a754727c4d394": {
      "model_module": "@jupyter-widgets/controls",
      "model_module_version": "2.0.0",
      "model_name": "ToggleButtonStyleModel",
      "state": {
       "description_width": "",
       "font_family": null,
       "font_size": null,
       "font_style": null,
       "font_variant": null,
       "font_weight": null,
       "text_color": null,
       "text_decoration": null
      }
     },
     "b7b2b6341a19464ca2da49cf3c2cc2d8": {
      "model_module": "@jupyter-widgets/controls",
      "model_module_version": "2.0.0",
      "model_name": "DropdownModel",
      "state": {
       "index": null,
       "layout": "IPY_MODEL_2fc25b7bc4ad4ad28b152a978ed83c29",
       "style": "IPY_MODEL_2bc1cf2a56b94394a44191de8df15662"
      }
     },
     "b81baba011e547998236ac971342062c": {
      "model_module": "jupyter-leaflet",
      "model_module_version": "^0.17",
      "model_name": "LeafletZoomControlModel",
      "state": {
       "_model_module_version": "^0.17",
       "_view_module_version": "^0.17",
       "options": [
        "position",
        "zoom_in_text",
        "zoom_in_title",
        "zoom_out_text",
        "zoom_out_title"
       ]
      }
     },
     "b8367ab32f754025afdbe8ea9e6cf0f0": {
      "model_module": "@jupyter-widgets/controls",
      "model_module_version": "2.0.0",
      "model_name": "ToggleButtonModel",
      "state": {
       "button_style": "primary",
       "icon": "hand-o-up",
       "layout": "IPY_MODEL_4b0254605ba74c198dbf4ebccc3d5ed6",
       "style": "IPY_MODEL_3cf9d39fe7874708a887cf6617d603f1",
       "tooltip": "Collect training samples"
      }
     },
     "b9a38f9656ed45fa8c36ad0798294c09": {
      "model_module": "@jupyter-widgets/controls",
      "model_module_version": "2.0.0",
      "model_name": "ToggleButtonModel",
      "state": {
       "button_style": "primary",
       "icon": "map",
       "layout": "IPY_MODEL_0fb6501bd310414fb9dda98f87ee9616",
       "style": "IPY_MODEL_afcf587a34d74b15be2a4f5800d1322b",
       "tooltip": "Change basemap"
      }
     },
     "badc48cf2ac14aef9b4d8d6a904027cc": {
      "model_module": "ipyevents",
      "model_module_version": "2.0.1",
      "model_name": "EventModel",
      "state": {
       "_supported_key_events": [
        "keydown",
        "keyup"
       ],
       "_supported_mouse_events": [
        "click",
        "auxclick",
        "dblclick",
        "mouseenter",
        "mouseleave",
        "mousedown",
        "mouseup",
        "mousemove",
        "wheel",
        "contextmenu",
        "dragstart",
        "drag",
        "dragend",
        "dragenter",
        "dragover",
        "dragleave",
        "drop"
       ],
       "_supported_touch_events": [
        "touchstart",
        "touchend",
        "touchmove",
        "touchcancel"
       ],
       "_view_module": "@jupyter-widgets/controls",
       "source": "IPY_MODEL_496a36ccca3d480e807f97b8464ef01e",
       "throttle_or_debounce": "",
       "watched_events": [
        "mouseenter",
        "mouseleave"
       ],
       "xy_coordinate_system": ""
      }
     },
     "bb2203b1d2ba43bb81cfcdb95590ae5a": {
      "model_module": "@jupyter-widgets/base",
      "model_module_version": "2.0.0",
      "model_name": "LayoutModel",
      "state": {}
     },
     "bb3f59f5275d4b4da0938430025dbb60": {
      "model_module": "@jupyter-widgets/controls",
      "model_module_version": "2.0.0",
      "model_name": "ToggleButtonStyleModel",
      "state": {
       "description_width": "",
       "font_family": null,
       "font_size": null,
       "font_style": null,
       "font_variant": null,
       "font_weight": null,
       "text_color": null,
       "text_decoration": null
      }
     },
     "bd5470ddc1fe4e898f9e071f69d58133": {
      "model_module": "@jupyter-widgets/base",
      "model_module_version": "2.0.0",
      "model_name": "LayoutModel",
      "state": {
       "max_width": "279px",
       "min_width": "279px"
      }
     },
     "bd719c64068e41d19c05ea7c80d35fab": {
      "model_module": "@jupyter-widgets/controls",
      "model_module_version": "2.0.0",
      "model_name": "HTMLStyleModel",
      "state": {
       "description_width": "",
       "font_size": null,
       "text_color": null
      }
     },
     "be7e24da8409472d9b2dadf41dcf8814": {
      "model_module": "@jupyter-widgets/controls",
      "model_module_version": "2.0.0",
      "model_name": "ButtonModel",
      "state": {
       "button_style": "primary",
       "description": "import",
       "layout": "IPY_MODEL_61bad3fbe0f64a1ab8cd816cba31255a",
       "style": "IPY_MODEL_34f3e0373e054b63b13f6e44cd193018",
       "tooltip": "Click to import the selected asset"
      }
     },
     "bed74f4a011c4281991abb63f3ca9941": {
      "model_module": "@jupyter-widgets/controls",
      "model_module_version": "2.0.0",
      "model_name": "ToggleButtonStyleModel",
      "state": {
       "description_width": "",
       "font_family": null,
       "font_size": null,
       "font_style": null,
       "font_variant": null,
       "font_weight": null,
       "text_color": null,
       "text_decoration": null
      }
     },
     "bf24f00259974e268f812722d3041b74": {
      "model_module": "@jupyter-widgets/controls",
      "model_module_version": "2.0.0",
      "model_name": "ToggleButtonModel",
      "state": {
       "button_style": "primary",
       "icon": "gears",
       "layout": "IPY_MODEL_b1548cbbef454be684d8e309f226f141",
       "style": "IPY_MODEL_ef2983c5c4a54986bf947a56baad9613",
       "tooltip": "WhiteboxTools for local geoprocessing"
      }
     },
     "c094ac69ecdc401cb23635fa64fe70b8": {
      "model_module": "@jupyter-widgets/controls",
      "model_module_version": "2.0.0",
      "model_name": "ToggleButtonModel",
      "state": {
       "button_style": "primary",
       "icon": "bar-chart",
       "layout": "IPY_MODEL_8d5989075e4b4a9bbced30864044daa4",
       "style": "IPY_MODEL_8ecb89de9a1249fc98f63e54c8cdaa1d",
       "tooltip": "Plotting"
      }
     },
     "c099e3725f494d74acbfa12576437bf8": {
      "model_module": "@jupyter-widgets/controls",
      "model_module_version": "2.0.0",
      "model_name": "ToggleButtonsModel",
      "state": {
       "_options_labels": [
        "name/address",
        "lat-lon",
        "data"
       ],
       "button_style": "",
       "icons": [],
       "index": 0,
       "layout": "IPY_MODEL_172e40b94104416596eba5fe92460c65",
       "style": "IPY_MODEL_c822c026a53a4914b0d42a46a0112ed4",
       "tooltips": [
        "Search by place name or address",
        "Search by lat-lon coordinates",
        "Search Earth Engine data catalog"
       ]
      }
     },
     "c0b1eb4665bd4b92b9f68a0fb8d9352c": {
      "model_module": "@jupyter-widgets/base",
      "model_module_version": "2.0.0",
      "model_name": "LayoutModel",
      "state": {
       "height": "auto",
       "padding": "0px 0px 0px 4px",
       "width": "auto"
      }
     },
     "c0ea8521fb8349048aeac2bb3c711b62": {
      "model_module": "@jupyter-widgets/base",
      "model_module_version": "2.0.0",
      "model_name": "LayoutModel",
      "state": {
       "height": "auto",
       "padding": "0px 0px 0px 4px",
       "width": "auto"
      }
     },
     "c236719bed51465aab28b59720e87b06": {
      "model_module": "@jupyter-widgets/controls",
      "model_module_version": "2.0.0",
      "model_name": "DescriptionStyleModel",
      "state": {
       "description_width": ""
      }
     },
     "c2ac2dac5d2c4cc5be6b6b04cf9dc8e6": {
      "model_module": "@jupyter-widgets/base",
      "model_module_version": "2.0.0",
      "model_name": "LayoutModel",
      "state": {}
     },
     "c2e43531084c4029b6b090d46faf9de7": {
      "model_module": "@jupyter-widgets/controls",
      "model_module_version": "2.0.0",
      "model_name": "VBoxModel",
      "state": {
       "children": [
        "IPY_MODEL_001adecda48e44c189b4a89293d7a222",
        "IPY_MODEL_fbae8d9295cb4d3694fda358927d3693"
       ],
       "layout": "IPY_MODEL_d5becd7ea3814fcc8bf8ba16be31d416"
      }
     },
     "c2f26caa9b6d46628b110f66b1ec631e": {
      "model_module": "jupyter-leaflet",
      "model_module_version": "^0.17",
      "model_name": "LeafletMapStyleModel",
      "state": {
       "_model_module_version": "^0.17"
      }
     },
     "c3f9d0ec8c164ee28cdc61d566016a78": {
      "model_module": "jupyter-leaflet",
      "model_module_version": "^0.17",
      "model_name": "LeafletTileLayerModel",
      "state": {
       "_model_module_version": "^0.17",
       "_view_module_version": "^0.17",
       "attribution": "Google",
       "max_zoom": 24,
       "name": "Google Maps",
       "options": [
        "attribution",
        "bounds",
        "detect_retina",
        "max_native_zoom",
        "max_zoom",
        "min_native_zoom",
        "min_zoom",
        "no_wrap",
        "tile_size",
        "tms",
        "zoom_offset"
       ],
       "url": "https://mt1.google.com/vt/lyrs=m&x={x}&y={y}&z={z}"
      }
     },
     "c419c2e9b5434e71a5429787d5c5abab": {
      "model_module": "@jupyter-widgets/output",
      "model_module_version": "1.0.0",
      "model_name": "OutputModel",
      "state": {
       "layout": "IPY_MODEL_423381f42bad4989a88d8a5cb0425d92"
      }
     },
     "c425f6141d394b868930ddc09afb3190": {
      "model_module": "@jupyter-widgets/base",
      "model_module_version": "2.0.0",
      "model_name": "LayoutModel",
      "state": {}
     },
     "c488f43551f14ab299311ee8e5ee3bd3": {
      "model_module": "@jupyter-widgets/base",
      "model_module_version": "2.0.0",
      "model_name": "LayoutModel",
      "state": {}
     },
     "c5f1ae9c4e5e42cf8fcba20d3532b261": {
      "model_module": "@jupyter-widgets/base",
      "model_module_version": "2.0.0",
      "model_name": "LayoutModel",
      "state": {
       "height": "auto",
       "padding": "0px 0px 0px 4px",
       "width": "auto"
      }
     },
     "c6793a87d3e54a15abbdec897e987bec": {
      "model_module": "@jupyter-widgets/controls",
      "model_module_version": "2.0.0",
      "model_name": "ButtonStyleModel",
      "state": {
       "font_family": null,
       "font_size": null,
       "font_style": null,
       "font_variant": null,
       "font_weight": null,
       "text_color": null,
       "text_decoration": null
      }
     },
     "c7a249b1c2714b149ddc68ef02baa61c": {
      "model_module": "@jupyter-widgets/controls",
      "model_module_version": "2.0.0",
      "model_name": "ToggleButtonStyleModel",
      "state": {
       "description_width": "",
       "font_family": null,
       "font_size": null,
       "font_style": null,
       "font_variant": null,
       "font_weight": null,
       "text_color": null,
       "text_decoration": null
      }
     },
     "c822c026a53a4914b0d42a46a0112ed4": {
      "model_module": "@jupyter-widgets/controls",
      "model_module_version": "2.0.0",
      "model_name": "ToggleButtonsStyleModel",
      "state": {
       "button_width": "110px",
       "description_width": ""
      }
     },
     "c8a22707bbc64c29bae2ad5f93a1254d": {
      "model_module": "@jupyter-widgets/controls",
      "model_module_version": "2.0.0",
      "model_name": "ToggleButtonModel",
      "state": {
       "icon": "wrench",
       "layout": "IPY_MODEL_0667995e077b4af682a6cd7e62f87844",
       "style": "IPY_MODEL_cbd46dfea230468faf7e2ee339f95ddc",
       "tooltip": "Toolbar"
      }
     },
     "c8aafa41ac944403ac8df7a50d2d4d8e": {
      "model_module": "@jupyter-widgets/controls",
      "model_module_version": "2.0.0",
      "model_name": "ToggleButtonStyleModel",
      "state": {
       "description_width": "",
       "font_family": null,
       "font_size": null,
       "font_style": null,
       "font_variant": null,
       "font_weight": null,
       "text_color": null,
       "text_decoration": null
      }
     },
     "c92ce748d61e4606b39d272d164b9216": {
      "model_module": "@jupyter-widgets/controls",
      "model_module_version": "2.0.0",
      "model_name": "ToggleButtonsModel",
      "state": {
       "_options_labels": [
        "name/address",
        "lat-lon",
        "data"
       ],
       "button_style": "",
       "icons": [],
       "index": 0,
       "layout": "IPY_MODEL_8ea7628b21a049249045a7ee5bb46ca0",
       "style": "IPY_MODEL_9492b225ffbf4984902ca0f5fd34c511",
       "tooltips": [
        "Search by place name or address",
        "Search by lat-lon coordinates",
        "Search Earth Engine data catalog"
       ]
      }
     },
     "cab6bd7acf1f4247892e58424d566e40": {
      "model_module": "@jupyter-widgets/base",
      "model_module_version": "2.0.0",
      "model_name": "LayoutModel",
      "state": {
       "height": "auto",
       "padding": "0px 0px 0px 4px",
       "width": "auto"
      }
     },
     "cac2a014e9be4f0a9eec0fff0d9cc97d": {
      "model_module": "@jupyter-widgets/controls",
      "model_module_version": "2.0.0",
      "model_name": "ToggleButtonModel",
      "state": {
       "button_style": "primary",
       "icon": "info-circle",
       "layout": "IPY_MODEL_d42335ac5b9c47eeb2d42aede1b1f977",
       "style": "IPY_MODEL_79f1106142cb41f987e6acd2f2ccbd93",
       "tooltip": "Get COG/STAC pixel value"
      }
     },
     "cbd46dfea230468faf7e2ee339f95ddc": {
      "model_module": "@jupyter-widgets/controls",
      "model_module_version": "2.0.0",
      "model_name": "ToggleButtonStyleModel",
      "state": {
       "description_width": "",
       "font_family": null,
       "font_size": null,
       "font_style": null,
       "font_variant": null,
       "font_weight": null,
       "text_color": null,
       "text_decoration": null
      }
     },
     "cd14c5b5840d4cbf8e72257dcc02434e": {
      "model_module": "jupyter-leaflet",
      "model_module_version": "^0.17",
      "model_name": "LeafletTileLayerModel",
      "state": {
       "_model_module_version": "^0.17",
       "_view_module_version": "^0.17",
       "attribution": "Google Earth Engine",
       "max_zoom": 24,
       "name": "Netherlands Boundaries",
       "options": [
        "attribution",
        "bounds",
        "detect_retina",
        "max_native_zoom",
        "max_zoom",
        "min_native_zoom",
        "min_zoom",
        "no_wrap",
        "tile_size",
        "tms",
        "zoom_offset"
       ],
       "url": "https://earthengine.googleapis.com/v1alpha/projects/earthengine-legacy/maps/4122fbdf01fb850a7c12372440968e86-70b55a41e641a788dff0161bf7c37445/tiles/{z}/{x}/{y}"
      }
     },
     "cdc0d5bab51a40288d66a0ba53a2eead": {
      "model_module": "ipyevents",
      "model_module_version": "2.0.1",
      "model_name": "EventModel",
      "state": {
       "_supported_key_events": [
        "keydown",
        "keyup"
       ],
       "_supported_mouse_events": [
        "click",
        "auxclick",
        "dblclick",
        "mouseenter",
        "mouseleave",
        "mousedown",
        "mouseup",
        "mousemove",
        "wheel",
        "contextmenu",
        "dragstart",
        "drag",
        "dragend",
        "dragenter",
        "dragover",
        "dragleave",
        "drop"
       ],
       "_supported_touch_events": [
        "touchstart",
        "touchend",
        "touchmove",
        "touchcancel"
       ],
       "_view_module": "@jupyter-widgets/controls",
       "source": "IPY_MODEL_b79224a156f44351bc0b06392bc4d1d7",
       "throttle_or_debounce": "",
       "watched_events": [
        "mouseenter",
        "mouseleave"
       ],
       "xy_coordinate_system": ""
      }
     },
     "ce34e18a2c344ba9a482fe36b728930e": {
      "model_module": "@jupyter-widgets/output",
      "model_module_version": "1.0.0",
      "model_name": "OutputModel",
      "state": {
       "layout": "IPY_MODEL_5800d897389b4fdbbd7a9cad1aa1e339"
      }
     },
     "ceb1a4fea6e94442afea05eeaeebf1bd": {
      "model_module": "@jupyter-widgets/controls",
      "model_module_version": "2.0.0",
      "model_name": "ToggleButtonModel",
      "state": {
       "button_style": "primary",
       "icon": "folder-open",
       "layout": "IPY_MODEL_dc5d81abefc64dce8382f7b81347fc57",
       "style": "IPY_MODEL_7ddde18649da4b40b2591758b2e3b7f5",
       "tooltip": "Open local vector/raster data"
      }
     },
     "d04004eca0f34a6895f7ddca6766f831": {
      "model_module": "ipyevents",
      "model_module_version": "2.0.1",
      "model_name": "EventModel",
      "state": {
       "_supported_key_events": [
        "keydown",
        "keyup"
       ],
       "_supported_mouse_events": [
        "click",
        "auxclick",
        "dblclick",
        "mouseenter",
        "mouseleave",
        "mousedown",
        "mouseup",
        "mousemove",
        "wheel",
        "contextmenu",
        "dragstart",
        "drag",
        "dragend",
        "dragenter",
        "dragover",
        "dragleave",
        "drop"
       ],
       "_supported_touch_events": [
        "touchstart",
        "touchend",
        "touchmove",
        "touchcancel"
       ],
       "_view_module": "@jupyter-widgets/controls",
       "source": "IPY_MODEL_ee404a8fd1b547569c315ea3066a9215",
       "throttle_or_debounce": "",
       "watched_events": [
        "mouseenter",
        "mouseleave"
       ],
       "xy_coordinate_system": ""
      }
     },
     "d10d7d738ca041459adc7cf5792c9b41": {
      "model_module": "@jupyter-widgets/controls",
      "model_module_version": "2.0.0",
      "model_name": "GridBoxModel",
      "state": {
       "children": [
        "IPY_MODEL_5c21a084c29b4b5b80d77c5c97f26a38",
        "IPY_MODEL_44665c3d3a024497a828a796231ed91d",
        "IPY_MODEL_3ea2ad3f21fd46548cf05d75dedada21",
        "IPY_MODEL_2405fb3c13d04ae0a19e15ce83e29343",
        "IPY_MODEL_eb7ee2d3f23d4b97a7e5e3d4552d8d72",
        "IPY_MODEL_5e6b45a867954416873b2c592476c3a1"
       ],
       "layout": "IPY_MODEL_ae5a81565da24ea080668df13a8c56cd"
      }
     },
     "d28ef60b9c9149f2bb3726c39dd41f15": {
      "model_module": "jupyter-leaflet",
      "model_module_version": "^0.17",
      "model_name": "LeafletTileLayerModel",
      "state": {
       "_model_module_version": "^0.17",
       "_view_module_version": "^0.17",
       "attribution": "&copy; <a href=\"https://www.openstreetmap.org/copyright\">OpenStreetMap</a> contributors",
       "base": true,
       "max_zoom": 19,
       "min_zoom": 1,
       "name": "OpenStreetMap.Mapnik",
       "options": [
        "attribution",
        "bounds",
        "detect_retina",
        "max_native_zoom",
        "max_zoom",
        "min_native_zoom",
        "min_zoom",
        "no_wrap",
        "tile_size",
        "tms",
        "zoom_offset"
       ],
       "url": "https://tile.openstreetmap.org/{z}/{x}/{y}.png"
      }
     },
     "d2b07647808e4d8ea7ba2db5955035b5": {
      "model_module": "@jupyter-widgets/base",
      "model_module_version": "2.0.0",
      "model_name": "LayoutModel",
      "state": {
       "max_width": "57px",
       "min_width": "57px"
      }
     },
     "d31642d745274cac83a6c66f4b7deb9e": {
      "model_module": "@jupyter-widgets/controls",
      "model_module_version": "2.0.0",
      "model_name": "HBoxModel",
      "state": {
       "children": [
        "IPY_MODEL_d4a2c0a8d9814dfba52b61f83e0797b4",
        "IPY_MODEL_9b71b7fbdc0b4d0bab13ecb4cfebee4a"
       ],
       "layout": "IPY_MODEL_275cb5e8a961427b832fce78b8cc3e3f"
      }
     },
     "d39198af1cfe498c83c274c5834ade5b": {
      "model_module": "@jupyter-widgets/base",
      "model_module_version": "2.0.0",
      "model_name": "LayoutModel",
      "state": {
       "height": "600px"
      }
     },
     "d395748d6dcb4d9395f6aab25f55f9f8": {
      "model_module": "@jupyter-widgets/controls",
      "model_module_version": "2.0.0",
      "model_name": "DescriptionStyleModel",
      "state": {
       "description_width": ""
      }
     },
     "d42335ac5b9c47eeb2d42aede1b1f977": {
      "model_module": "@jupyter-widgets/base",
      "model_module_version": "2.0.0",
      "model_name": "LayoutModel",
      "state": {
       "height": "auto",
       "padding": "0px 0px 0px 4px",
       "width": "auto"
      }
     },
     "d442411d88d64c24be56a565ab5189f1": {
      "model_module": "@jupyter-widgets/base",
      "model_module_version": "2.0.0",
      "model_name": "LayoutModel",
      "state": {
       "height": "auto",
       "padding": "0px 0px 0px 4px",
       "width": "auto"
      }
     },
     "d46476f626a643e9b16ee541e7428e37": {
      "model_module": "@jupyter-widgets/base",
      "model_module_version": "2.0.0",
      "model_name": "LayoutModel",
      "state": {
       "height": "auto",
       "padding": "0px 0px 0px 4px",
       "width": "auto"
      }
     },
     "d4a2c0a8d9814dfba52b61f83e0797b4": {
      "model_module": "@jupyter-widgets/controls",
      "model_module_version": "2.0.0",
      "model_name": "ButtonModel",
      "state": {
       "button_style": "primary",
       "description": "import",
       "layout": "IPY_MODEL_167212d0306448c2b098bfc929fd3ee7",
       "style": "IPY_MODEL_c6793a87d3e54a15abbdec897e987bec",
       "tooltip": "Click to import the selected asset"
      }
     },
     "d5becd7ea3814fcc8bf8ba16be31d416": {
      "model_module": "@jupyter-widgets/base",
      "model_module_version": "2.0.0",
      "model_name": "LayoutModel",
      "state": {}
     },
     "d6628f3e96ca4bef9276c3210cc36e3f": {
      "model_module": "@jupyter-widgets/base",
      "model_module_version": "2.0.0",
      "model_name": "LayoutModel",
      "state": {
       "height": "28px",
       "padding": "0px 0px 0px 4px",
       "width": "28px"
      }
     },
     "d7afc6d3bf7b4b80b509a0bbd36eaee3": {
      "model_module": "@jupyter-widgets/controls",
      "model_module_version": "2.0.0",
      "model_name": "HBoxModel",
      "state": {
       "_view_count": 1,
       "children": [
        "IPY_MODEL_9bb47c71e7ce436e8b701032d03b4fad"
       ],
       "layout": "IPY_MODEL_52690c2d4ebe4d829d5abd9a14825b52"
      }
     },
     "d8348e49984f423486cb4268bed6045d": {
      "model_module": "@jupyter-widgets/controls",
      "model_module_version": "2.0.0",
      "model_name": "ToggleButtonModel",
      "state": {
       "button_style": "primary",
       "icon": "bar-chart",
       "layout": "IPY_MODEL_cab6bd7acf1f4247892e58424d566e40",
       "style": "IPY_MODEL_c8aafa41ac944403ac8df7a50d2d4d8e",
       "tooltip": "Plotting"
      }
     },
     "d8a373a4865b4320bb13d393a149b703": {
      "model_module": "@jupyter-widgets/controls",
      "model_module_version": "2.0.0",
      "model_name": "ToggleButtonStyleModel",
      "state": {
       "description_width": "",
       "font_family": null,
       "font_size": null,
       "font_style": null,
       "font_variant": null,
       "font_weight": null,
       "text_color": null,
       "text_decoration": null
      }
     },
     "d8edb520393342d19933b5a51b8ccb4c": {
      "model_module": "@jupyter-widgets/controls",
      "model_module_version": "2.0.0",
      "model_name": "ToggleButtonStyleModel",
      "state": {
       "description_width": "",
       "font_family": null,
       "font_size": null,
       "font_style": null,
       "font_variant": null,
       "font_weight": null,
       "text_color": null,
       "text_decoration": null
      }
     },
     "d93c1bf62d944e7e9f0bd2957f0b3673": {
      "model_module": "@jupyter-widgets/controls",
      "model_module_version": "2.0.0",
      "model_name": "ToggleButtonStyleModel",
      "state": {
       "description_width": "",
       "font_family": null,
       "font_size": null,
       "font_style": null,
       "font_variant": null,
       "font_weight": null,
       "text_color": null,
       "text_decoration": null
      }
     },
     "d97d2dc486a34257bb1b72bdaadba521": {
      "model_module": "@jupyter-widgets/base",
      "model_module_version": "2.0.0",
      "model_name": "LayoutModel",
      "state": {}
     },
     "d9b0a122808948a9a8a80a887d09b09b": {
      "model_module": "@jupyter-widgets/controls",
      "model_module_version": "2.0.0",
      "model_name": "ToggleButtonModel",
      "state": {
       "button_style": "primary",
       "icon": "line-chart",
       "layout": "IPY_MODEL_93ece1cbd76049348f10816b33e7433a",
       "style": "IPY_MODEL_1dd543c2279941fbaffa42c0a60687df",
       "tooltip": "Creating and plotting transects"
      }
     },
     "d9d8cba51b674c37af5804c272d91c44": {
      "model_module": "@jupyter-widgets/controls",
      "model_module_version": "2.0.0",
      "model_name": "ToggleButtonModel",
      "state": {
       "icon": "globe",
       "layout": "IPY_MODEL_9167e4ec13a245e8b18250de6ef1d351",
       "style": "IPY_MODEL_d8a373a4865b4320bb13d393a149b703",
       "tooltip": "Search location/data"
      }
     },
     "dbbe7c097d524d5a94681c773ab9666a": {
      "model_module": "@jupyter-widgets/controls",
      "model_module_version": "2.0.0",
      "model_name": "HTMLStyleModel",
      "state": {
       "description_width": "",
       "font_size": null,
       "text_color": null
      }
     },
     "dbbf98b5dc06487d82669f44489e40e1": {
      "model_module": "@jupyter-widgets/controls",
      "model_module_version": "2.0.0",
      "model_name": "ToggleButtonModel",
      "state": {
       "button_style": "primary",
       "icon": "plus",
       "layout": "IPY_MODEL_2346847cff954424befd2aa3727be45b",
       "style": "IPY_MODEL_8d78cc5cf95048589c5c2bde6b978851",
       "tooltip": "Expand toolbar"
      }
     },
     "dc5d81abefc64dce8382f7b81347fc57": {
      "model_module": "@jupyter-widgets/base",
      "model_module_version": "2.0.0",
      "model_name": "LayoutModel",
      "state": {
       "height": "auto",
       "padding": "0px 0px 0px 4px",
       "width": "auto"
      }
     },
     "dcdc90ba0cae496eb891e9018afc6e43": {
      "model_module": "@jupyter-widgets/base",
      "model_module_version": "2.0.0",
      "model_name": "LayoutModel",
      "state": {
       "max_height": "350px",
       "max_width": "340px",
       "overflow": "scroll"
      }
     },
     "dce22826394f463d938c15a61b16e80c": {
      "model_module": "@jupyter-widgets/base",
      "model_module_version": "2.0.0",
      "model_name": "LayoutModel",
      "state": {
       "height": "auto",
       "padding": "0px 0px 0px 4px",
       "width": "auto"
      }
     },
     "de39eebdcf8244f1a4b55a0dcee78700": {
      "model_module": "@jupyter-widgets/base",
      "model_module_version": "2.0.0",
      "model_name": "LayoutModel",
      "state": {
       "height": "auto",
       "padding": "0px 0px 0px 4px",
       "width": "auto"
      }
     },
     "df1870a69e3e463dbaf80f1bfecc8fd4": {
      "model_module": "@jupyter-widgets/base",
      "model_module_version": "2.0.0",
      "model_name": "LayoutModel",
      "state": {
       "width": "340px"
      }
     },
     "e049b9dc06be4039baba3e2007ccbf27": {
      "model_module": "@jupyter-widgets/controls",
      "model_module_version": "2.0.0",
      "model_name": "GridBoxModel",
      "state": {
       "children": [
        "IPY_MODEL_97988ddc5fbc4e4bb6a166636e47f645",
        "IPY_MODEL_d8348e49984f423486cb4268bed6045d",
        "IPY_MODEL_3e2d4984bdcd49cabceb7616828a5598",
        "IPY_MODEL_89739b0380f34faf85f4e68cb3ac4501",
        "IPY_MODEL_005c8da58db840fdbf85a5e0a476d67a",
        "IPY_MODEL_dbbf98b5dc06487d82669f44489e40e1"
       ],
       "layout": "IPY_MODEL_a1d0ea4d8807441881662caf4c8420c1"
      }
     },
     "e0556e79b66749e39aa3c6bd6bf2852d": {
      "model_module": "jupyter-leaflet",
      "model_module_version": "^0.17",
      "model_name": "LeafletTileLayerModel",
      "state": {
       "_model_module_version": "^0.17",
       "_view_module_version": "^0.17",
       "attribution": "Google",
       "max_zoom": 24,
       "name": "Google Maps",
       "options": [
        "attribution",
        "bounds",
        "detect_retina",
        "max_native_zoom",
        "max_zoom",
        "min_native_zoom",
        "min_zoom",
        "no_wrap",
        "tile_size",
        "tms",
        "zoom_offset"
       ],
       "url": "https://mt1.google.com/vt/lyrs=m&x={x}&y={y}&z={z}"
      }
     },
     "e056e46bebc64a118fb9b4f5ad604091": {
      "model_module": "@jupyter-widgets/controls",
      "model_module_version": "2.0.0",
      "model_name": "ToggleButtonStyleModel",
      "state": {
       "description_width": "",
       "font_family": null,
       "font_size": null,
       "font_style": null,
       "font_variant": null,
       "font_weight": null,
       "text_color": null,
       "text_decoration": null
      }
     },
     "e0949d42bf6945c9a030ccf71c5dd876": {
      "model_module": "jupyter-leaflet",
      "model_module_version": "^0.17",
      "model_name": "LeafletMapStyleModel",
      "state": {
       "_model_module_version": "^0.17"
      }
     },
     "e0c44c8a281345299e99ab961594bfa7": {
      "model_module": "@jupyter-widgets/base",
      "model_module_version": "2.0.0",
      "model_name": "LayoutModel",
      "state": {
       "height": "auto",
       "padding": "0px 0px 0px 4px",
       "width": "auto"
      }
     },
     "e149b006e1124ed08ceb94b52559f33b": {
      "model_module": "@jupyter-widgets/base",
      "model_module_version": "2.0.0",
      "model_name": "LayoutModel",
      "state": {}
     },
     "e4f727b885e24768a9b75c257e3c6d88": {
      "model_module": "@jupyter-widgets/controls",
      "model_module_version": "2.0.0",
      "model_name": "ToggleButtonModel",
      "state": {
       "button_style": "primary",
       "icon": "line-chart",
       "layout": "IPY_MODEL_4193b15fe4314f3fa1962516d20bd684",
       "style": "IPY_MODEL_01baf84a9c2c47b4b334714cd54ff5c8",
       "tooltip": "Creating and plotting transects"
      }
     },
     "e5456e1c007447f7b00d1a5304956b65": {
      "model_module": "ipyevents",
      "model_module_version": "2.0.1",
      "model_name": "EventModel",
      "state": {
       "_supported_key_events": [
        "keydown",
        "keyup"
       ],
       "_supported_mouse_events": [
        "click",
        "auxclick",
        "dblclick",
        "mouseenter",
        "mouseleave",
        "mousedown",
        "mouseup",
        "mousemove",
        "wheel",
        "contextmenu",
        "dragstart",
        "drag",
        "dragend",
        "dragenter",
        "dragover",
        "dragleave",
        "drop"
       ],
       "_supported_touch_events": [
        "touchstart",
        "touchend",
        "touchmove",
        "touchcancel"
       ],
       "_view_module": "@jupyter-widgets/controls",
       "source": "IPY_MODEL_d7afc6d3bf7b4b80b509a0bbd36eaee3",
       "throttle_or_debounce": "",
       "watched_events": [
        "mouseenter",
        "mouseleave"
       ],
       "xy_coordinate_system": ""
      }
     },
     "e59b0dc3328f44eb8f7a15e649a0d61e": {
      "model_module": "@jupyter-widgets/controls",
      "model_module_version": "2.0.0",
      "model_name": "ToggleButtonStyleModel",
      "state": {
       "description_width": "",
       "font_family": null,
       "font_size": null,
       "font_style": null,
       "font_variant": null,
       "font_weight": null,
       "text_color": null,
       "text_decoration": null
      }
     },
     "e6149420343c4770be505b2859c15ab9": {
      "model_module": "@jupyter-widgets/base",
      "model_module_version": "2.0.0",
      "model_name": "LayoutModel",
      "state": {
       "height": "auto",
       "padding": "0px 0px 0px 4px",
       "width": "auto"
      }
     },
     "e65daa44cf3d4083b1cd643bec4047cd": {
      "model_module": "@jupyter-widgets/controls",
      "model_module_version": "2.0.0",
      "model_name": "ToggleButtonStyleModel",
      "state": {
       "description_width": "",
       "font_family": null,
       "font_size": null,
       "font_style": null,
       "font_variant": null,
       "font_weight": null,
       "text_color": null,
       "text_decoration": null
      }
     },
     "e698c80ebd6f47c5a11d65a4ac8b9254": {
      "model_module": "@jupyter-widgets/controls",
      "model_module_version": "2.0.0",
      "model_name": "ToggleButtonsStyleModel",
      "state": {
       "button_width": "110px",
       "description_width": ""
      }
     },
     "e6b3ac57dae248b8a6ba8196d1221650": {
      "model_module": "@jupyter-widgets/controls",
      "model_module_version": "2.0.0",
      "model_name": "ToggleButtonStyleModel",
      "state": {
       "description_width": "",
       "font_family": null,
       "font_size": null,
       "font_style": null,
       "font_variant": null,
       "font_weight": null,
       "text_color": null,
       "text_decoration": null
      }
     },
     "e7182c2028d14e429b64846671e7b88d": {
      "model_module": "jupyter-leaflet",
      "model_module_version": "^0.17",
      "model_name": "LeafletMapStyleModel",
      "state": {
       "_model_module_version": "^0.17"
      }
     },
     "e726a668c66c465eaff3dfbdcddeb5a3": {
      "model_module": "@jupyter-widgets/controls",
      "model_module_version": "2.0.0",
      "model_name": "ToggleButtonStyleModel",
      "state": {
       "description_width": "",
       "font_family": null,
       "font_size": null,
       "font_style": null,
       "font_variant": null,
       "font_weight": null,
       "text_color": null,
       "text_decoration": null
      }
     },
     "e7956468a0ba4807b1654eee354078ca": {
      "model_module": "jupyter-leaflet",
      "model_module_version": "^0.17",
      "model_name": "LeafletMapStyleModel",
      "state": {
       "_model_module_version": "^0.17"
      }
     },
     "e86bcc99438a4841b6d0eb68c3605da6": {
      "model_module": "@jupyter-widgets/base",
      "model_module_version": "2.0.0",
      "model_name": "LayoutModel",
      "state": {
       "height": "auto",
       "padding": "0px 0px 0px 4px",
       "width": "auto"
      }
     },
     "e931df562b144b3a88df724204d85c5d": {
      "model_module": "@jupyter-widgets/controls",
      "model_module_version": "2.0.0",
      "model_name": "HBoxModel",
      "state": {
       "children": [
        "IPY_MODEL_40451b4363084f1792ce212815715a1c",
        "IPY_MODEL_55d4abe6c3a74b4e86d30038c7146a25"
       ],
       "layout": "IPY_MODEL_a7ea8a36c5e64d588c3c1bb39654a47c"
      }
     },
     "ea525665380940ea93c02efedb201a5f": {
      "model_module": "@jupyter-widgets/base",
      "model_module_version": "2.0.0",
      "model_name": "LayoutModel",
      "state": {
       "height": "auto",
       "padding": "0px 0px 0px 4px",
       "width": "auto"
      }
     },
     "eb7ee2d3f23d4b97a7e5e3d4552d8d72": {
      "model_module": "@jupyter-widgets/controls",
      "model_module_version": "2.0.0",
      "model_name": "ToggleButtonModel",
      "state": {
       "button_style": "primary",
       "icon": "retweet",
       "layout": "IPY_MODEL_66da86da8fb848d8a5fe8f9d8d741e69",
       "style": "IPY_MODEL_e056e46bebc64a118fb9b4f5ad604091",
       "tooltip": "Convert Earth Engine JavaScript to Python"
      }
     },
     "eb909b264eb94eb8be7567cf6c48ee52": {
      "model_module": "@jupyter-widgets/controls",
      "model_module_version": "2.0.0",
      "model_name": "ToggleButtonModel",
      "state": {
       "button_style": "primary",
       "icon": "eraser",
       "layout": "IPY_MODEL_dce22826394f463d938c15a61b16e80c",
       "style": "IPY_MODEL_9de0c2bc75bf447ba6e4417094d7c307",
       "tooltip": "Remove all drawn features"
      }
     },
     "ec5c911215bf4ae099a7eec580710b98": {
      "model_module": "@jupyter-widgets/controls",
      "model_module_version": "2.0.0",
      "model_name": "ToggleButtonStyleModel",
      "state": {
       "description_width": "",
       "font_family": null,
       "font_size": null,
       "font_style": null,
       "font_variant": null,
       "font_weight": null,
       "text_color": null,
       "text_decoration": null
      }
     },
     "edd3ed0df7384eb18e82007ee5edc7a7": {
      "model_module": "@jupyter-widgets/controls",
      "model_module_version": "2.0.0",
      "model_name": "HTMLStyleModel",
      "state": {
       "description_width": "",
       "font_size": null,
       "text_color": null
      }
     },
     "edee53910faa47c6afd279cbbdf38ea3": {
      "model_module": "jupyter-leaflet",
      "model_module_version": "^0.17",
      "model_name": "LeafletAttributionControlModel",
      "state": {
       "_model_module_version": "^0.17",
       "_view_module_version": "^0.17",
       "options": [
        "position",
        "prefix"
       ],
       "position": "bottomright",
       "prefix": "ipyleaflet"
      }
     },
     "ee404a8fd1b547569c315ea3066a9215": {
      "model_module": "@jupyter-widgets/controls",
      "model_module_version": "2.0.0",
      "model_name": "VBoxModel",
      "state": {
       "_view_count": 1,
       "children": [
        "IPY_MODEL_a38c326549b14fd3ae0ea28650ef32ab"
       ],
       "layout": "IPY_MODEL_a7f6d6ce1010469e935a39487ae36cc6"
      }
     },
     "ee539e67f7be422dac1713b0fd3309d5": {
      "model_module": "@jupyter-widgets/controls",
      "model_module_version": "2.0.0",
      "model_name": "ToggleButtonStyleModel",
      "state": {
       "description_width": "",
       "font_family": null,
       "font_size": null,
       "font_style": null,
       "font_variant": null,
       "font_weight": null,
       "text_color": null,
       "text_decoration": null
      }
     },
     "ef2983c5c4a54986bf947a56baad9613": {
      "model_module": "@jupyter-widgets/controls",
      "model_module_version": "2.0.0",
      "model_name": "ToggleButtonStyleModel",
      "state": {
       "description_width": "",
       "font_family": null,
       "font_size": null,
       "font_style": null,
       "font_variant": null,
       "font_weight": null,
       "text_color": null,
       "text_decoration": null
      }
     },
     "ef4c88c54f0a44af854b66cee9e8a8bf": {
      "model_module": "@jupyter-widgets/base",
      "model_module_version": "2.0.0",
      "model_name": "LayoutModel",
      "state": {}
     },
     "f0882db740624e5da5e3db04c3ef98ad": {
      "model_module": "@jupyter-widgets/base",
      "model_module_version": "2.0.0",
      "model_name": "LayoutModel",
      "state": {
       "width": "340px"
      }
     },
     "f15fc0c85a07441292e50fa437898a7c": {
      "model_module": "@jupyter-widgets/controls",
      "model_module_version": "2.0.0",
      "model_name": "ToggleButtonStyleModel",
      "state": {
       "description_width": "",
       "font_family": null,
       "font_size": null,
       "font_style": null,
       "font_variant": null,
       "font_weight": null,
       "text_color": null,
       "text_decoration": null
      }
     },
     "f1948ea9e9454cc9ae1a78ecbf423274": {
      "model_module": "@jupyter-widgets/controls",
      "model_module_version": "2.0.0",
      "model_name": "ToggleButtonStyleModel",
      "state": {
       "description_width": "",
       "font_family": null,
       "font_size": null,
       "font_style": null,
       "font_variant": null,
       "font_weight": null,
       "text_color": null,
       "text_decoration": null
      }
     },
     "f2e553d0cab64f23abb0eab2c6a8aa53": {
      "model_module": "@jupyter-widgets/controls",
      "model_module_version": "2.0.0",
      "model_name": "ToggleButtonModel",
      "state": {
       "button_style": "primary",
       "icon": "info-circle",
       "layout": "IPY_MODEL_348af9da2ae242329d83d1b77e71dab7",
       "style": "IPY_MODEL_48f42a355dfa4f31b57b734d5156f21f",
       "tooltip": "Get COG/STAC pixel value"
      }
     },
     "f3517e8c7e0c4bedbee566346395f50a": {
      "model_module": "@jupyter-widgets/base",
      "model_module_version": "2.0.0",
      "model_name": "LayoutModel",
      "state": {
       "height": "600px"
      }
     },
     "f38ad156225f4cbba9e46b5c505dc846": {
      "model_module": "jupyter-leaflet",
      "model_module_version": "^0.17",
      "model_name": "LeafletAttributionControlModel",
      "state": {
       "_model_module_version": "^0.17",
       "_view_module_version": "^0.17",
       "options": [
        "position",
        "prefix"
       ],
       "position": "bottomright",
       "prefix": "ipyleaflet"
      }
     },
     "f393afd8fb734b78a4a494cd6fd830ab": {
      "model_module": "@jupyter-widgets/base",
      "model_module_version": "2.0.0",
      "model_name": "LayoutModel",
      "state": {}
     },
     "f440af596bfe46059f22ecf73c5effc0": {
      "model_module": "@jupyter-widgets/base",
      "model_module_version": "2.0.0",
      "model_name": "LayoutModel",
      "state": {
       "height": "auto",
       "padding": "0px 0px 0px 4px",
       "width": "auto"
      }
     },
     "f4a906e2912a45f1a4bc0bf1884d5e81": {
      "model_module": "@jupyter-widgets/base",
      "model_module_version": "2.0.0",
      "model_name": "LayoutModel",
      "state": {
       "height": "auto",
       "padding": "0px 0px 0px 4px",
       "width": "auto"
      }
     },
     "f4ead4734abb43f4bbb9adbfc5641b68": {
      "model_module": "@jupyter-widgets/base",
      "model_module_version": "2.0.0",
      "model_name": "LayoutModel",
      "state": {}
     },
     "f5256f0f3c4e416e96c2d4b959e605da": {
      "model_module": "jupyter-leaflet",
      "model_module_version": "^0.17",
      "model_name": "LeafletWidgetControlModel",
      "state": {
       "_model_module": "jupyter-leaflet",
       "_model_module_version": "^0.17",
       "_view_count": null,
       "_view_module": "jupyter-leaflet",
       "_view_module_version": "^0.17",
       "options": [
        "position",
        "transparent_bg"
       ],
       "position": "topleft",
       "widget": "IPY_MODEL_d7afc6d3bf7b4b80b509a0bbd36eaee3"
      }
     },
     "f653ab560c8249a6abc55e815f69b5b2": {
      "model_module": "@jupyter-widgets/controls",
      "model_module_version": "2.0.0",
      "model_name": "VBoxModel",
      "state": {
       "children": [
        "IPY_MODEL_d10d7d738ca041459adc7cf5792c9b41"
       ],
       "layout": "IPY_MODEL_192b240b28fb4441813f3769c0fe4b13"
      }
     },
     "f79753364d324c01b122ff48faf94d8a": {
      "model_module": "@jupyter-widgets/controls",
      "model_module_version": "2.0.0",
      "model_name": "ToggleButtonModel",
      "state": {
       "button_style": "primary",
       "icon": "eraser",
       "layout": "IPY_MODEL_29bb82c3597347bfacd6c47136268ba8",
       "style": "IPY_MODEL_2c49e7165c704f22af1cf69caa5783d8",
       "tooltip": "Remove all drawn features"
      }
     },
     "f8132c05101c476db7b1dc25f89a93ac": {
      "model_module": "@jupyter-widgets/base",
      "model_module_version": "2.0.0",
      "model_name": "LayoutModel",
      "state": {
       "grid_gap": "1px 1px",
       "grid_template_columns": "32px 32px 32px ",
       "grid_template_rows": "32px 32px ",
       "padding": "5px",
       "width": "109px"
      }
     },
     "f95de74aa3974a01aba5ec02044961ea": {
      "model_module": "@jupyter-widgets/controls",
      "model_module_version": "2.0.0",
      "model_name": "ToggleButtonModel",
      "state": {
       "button_style": "primary",
       "icon": "hand-o-up",
       "layout": "IPY_MODEL_1bb9ac9512fa46f593a69fa2f06d84bf",
       "style": "IPY_MODEL_c7a249b1c2714b149ddc68ef02baa61c",
       "tooltip": "Collect training samples"
      }
     },
     "fa22b3fc746445b4a195767566b3295a": {
      "model_module": "@jupyter-widgets/controls",
      "model_module_version": "2.0.0",
      "model_name": "ToggleButtonStyleModel",
      "state": {
       "description_width": "",
       "font_family": null,
       "font_size": null,
       "font_style": null,
       "font_variant": null,
       "font_weight": null,
       "text_color": null,
       "text_decoration": null
      }
     },
     "fb088456d0e74960809bad297353abf0": {
      "model_module": "@jupyter-widgets/base",
      "model_module_version": "2.0.0",
      "model_name": "LayoutModel",
      "state": {
       "height": "auto",
       "padding": "0px 0px 0px 4px",
       "width": "auto"
      }
     },
     "fb7d6f3eee1b4db59d57194380d5ee7c": {
      "model_module": "@jupyter-widgets/controls",
      "model_module_version": "2.0.0",
      "model_name": "ToggleButtonModel",
      "state": {
       "icon": "wrench",
       "layout": "IPY_MODEL_68a19d081d9f426090dc5a2c3ea52fb0",
       "style": "IPY_MODEL_7d6d3b27ef2141329b5f21f144090824",
       "tooltip": "Toolbar"
      }
     },
     "fbae2223d4984c59ab982cdbcee8a9d5": {
      "model_module": "@jupyter-widgets/base",
      "model_module_version": "2.0.0",
      "model_name": "LayoutModel",
      "state": {
       "height": "auto",
       "padding": "0px 0px 0px 4px",
       "width": "auto"
      }
     },
     "fbae8d9295cb4d3694fda358927d3693": {
      "model_module": "@jupyter-widgets/controls",
      "model_module_version": "2.0.0",
      "model_name": "TextModel",
      "state": {
       "layout": "IPY_MODEL_9d7f656de6454d10aa7d479c9ac15f13",
       "placeholder": "Search by place name or address",
       "style": "IPY_MODEL_9e8d27529b8844078ef414c97340d4ec",
       "tooltip": "Search location"
      }
     },
     "fbfb57700bde4eda8dcabe6cd6470404": {
      "model_module": "@jupyter-widgets/controls",
      "model_module_version": "2.0.0",
      "model_name": "HTMLModel",
      "state": {
       "layout": "IPY_MODEL_d97d2dc486a34257bb1b72bdaadba521",
       "style": "IPY_MODEL_bd719c64068e41d19c05ea7c80d35fab"
      }
     },
     "fc8908fc109e40369899ef90d2d7439a": {
      "model_module": "@jupyter-widgets/base",
      "model_module_version": "2.0.0",
      "model_name": "LayoutModel",
      "state": {
       "height": "auto",
       "padding": "0px 0px 0px 4px",
       "width": "auto"
      }
     },
     "fe49c07a359e4e6ab9427ff5e65b74ef": {
      "model_module": "jupyter-leaflet",
      "model_module_version": "^0.17",
      "model_name": "LeafletTileLayerModel",
      "state": {
       "_model_module_version": "^0.17",
       "_view_module_version": "^0.17",
       "attribution": "Google Earth Engine",
       "max_zoom": 24,
       "name": "Netherlands Boundaries",
       "options": [
        "attribution",
        "bounds",
        "detect_retina",
        "max_native_zoom",
        "max_zoom",
        "min_native_zoom",
        "min_zoom",
        "no_wrap",
        "tile_size",
        "tms",
        "zoom_offset"
       ],
       "url": "https://earthengine.googleapis.com/v1alpha/projects/earthengine-legacy/maps/4122fbdf01fb850a7c12372440968e86-461089c04e3cfdd64647c64f57d89273/tiles/{z}/{x}/{y}"
      }
     },
     "fe607407900a484fb523b3c526055908": {
      "model_module": "jupyter-leaflet",
      "model_module_version": "^0.17",
      "model_name": "LeafletMapStyleModel",
      "state": {
       "_model_module_version": "^0.17"
      }
     },
     "fe85681cdc41427aa14fa0a65c3b5c0a": {
      "model_module": "@jupyter-widgets/base",
      "model_module_version": "2.0.0",
      "model_name": "LayoutModel",
      "state": {
       "height": "auto",
       "padding": "0px 0px 0px 4px",
       "width": "auto"
      }
     },
     "ff2eb3e2ea04469a9d7407f87b5753f7": {
      "model_module": "@jupyter-widgets/base",
      "model_module_version": "2.0.0",
      "model_name": "LayoutModel",
      "state": {
       "width": "500px"
      }
     }
    },
    "version_major": 2,
    "version_minor": 0
   }
  }
 },
 "nbformat": 4,
 "nbformat_minor": 5
}
